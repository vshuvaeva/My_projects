{
 "cells": [
  {
   "cell_type": "code",
   "execution_count": 88,
   "metadata": {
    "_cell_guid": "b1076dfc-b9ad-4769-8c92-a6c4dae69d19",
    "_uuid": "8f2839f25d086af736a60e9eeb907d3b93b6e0e5",
    "colab": {},
    "colab_type": "code",
    "id": "U2D2gTdJVp90"
   },
   "outputs": [],
   "source": [
    "import numpy as np\n",
    "import pandas as pd\n",
    "import seaborn as sns\n",
    "import matplotlib.pyplot as plt\n",
    "from collections import Counter\n",
    "import itertools as it"
   ]
  },
  {
   "cell_type": "code",
   "execution_count": 89,
   "metadata": {
    "_cell_guid": "79c7e3d0-c299-4dcb-8224-4455121ee9b0",
    "_uuid": "d629ff2d2480ee46fbb7e2d37f6b5fab8052498a",
    "colab": {},
    "colab_type": "code",
    "id": "oyGfxL3eVp9-"
   },
   "outputs": [
    {
     "data": {
      "text/html": [
       "<div>\n",
       "<style scoped>\n",
       "    .dataframe tbody tr th:only-of-type {\n",
       "        vertical-align: middle;\n",
       "    }\n",
       "\n",
       "    .dataframe tbody tr th {\n",
       "        vertical-align: top;\n",
       "    }\n",
       "\n",
       "    .dataframe thead th {\n",
       "        text-align: right;\n",
       "    }\n",
       "</style>\n",
       "<table border=\"1\" class=\"dataframe\">\n",
       "  <thead>\n",
       "    <tr style=\"text-align: right;\">\n",
       "      <th></th>\n",
       "      <th>imdb_id</th>\n",
       "      <th>budget</th>\n",
       "      <th>revenue</th>\n",
       "      <th>original_title</th>\n",
       "      <th>cast</th>\n",
       "      <th>director</th>\n",
       "      <th>tagline</th>\n",
       "      <th>overview</th>\n",
       "      <th>runtime</th>\n",
       "      <th>genres</th>\n",
       "      <th>production_companies</th>\n",
       "      <th>release_date</th>\n",
       "      <th>vote_average</th>\n",
       "      <th>release_year</th>\n",
       "    </tr>\n",
       "  </thead>\n",
       "  <tbody>\n",
       "    <tr>\n",
       "      <th>1020</th>\n",
       "      <td>tt1800741</td>\n",
       "      <td>33000000</td>\n",
       "      <td>140470746</td>\n",
       "      <td>Step Up Revolution</td>\n",
       "      <td>Kathryn McCormick|Ryan Guzman|Stephen Boss|Meg...</td>\n",
       "      <td>Scott Speer</td>\n",
       "      <td>One Step Can Change Your World</td>\n",
       "      <td>Emily arrives in Miami with aspirations to bec...</td>\n",
       "      <td>99</td>\n",
       "      <td>Music|Drama|Romance</td>\n",
       "      <td>Summit Entertainment</td>\n",
       "      <td>7/26/2012</td>\n",
       "      <td>6.6</td>\n",
       "      <td>2012</td>\n",
       "    </tr>\n",
       "    <tr>\n",
       "      <th>908</th>\n",
       "      <td>tt0277296</td>\n",
       "      <td>60000000</td>\n",
       "      <td>165333180</td>\n",
       "      <td>The Scorpion King</td>\n",
       "      <td>Dwayne Johnson|Kelly Hu|Michael Clarke Duncan|...</td>\n",
       "      <td>Chuck Russell</td>\n",
       "      <td>Warrior. Legend. King.</td>\n",
       "      <td>In ancient Egypt, peasant Mathayus is hired to...</td>\n",
       "      <td>92</td>\n",
       "      <td>Action|Fantasy|Adventure</td>\n",
       "      <td>Universal Pictures|Kalima Productions GmbH &amp; C...</td>\n",
       "      <td>4/16/2002</td>\n",
       "      <td>5.2</td>\n",
       "      <td>2002</td>\n",
       "    </tr>\n",
       "    <tr>\n",
       "      <th>904</th>\n",
       "      <td>tt0288477</td>\n",
       "      <td>35000000</td>\n",
       "      <td>68349884</td>\n",
       "      <td>Ghost Ship</td>\n",
       "      <td>Gabriel Byrne|Julianna Margulies|Desmond Harri...</td>\n",
       "      <td>Steve Beck</td>\n",
       "      <td>Sea Evil</td>\n",
       "      <td>After discovering a passenger ship missing sin...</td>\n",
       "      <td>91</td>\n",
       "      <td>Horror|Mystery|Thriller</td>\n",
       "      <td>Village Roadshow Pictures|NPV Entertainment|Da...</td>\n",
       "      <td>10/25/2002</td>\n",
       "      <td>5.2</td>\n",
       "      <td>2002</td>\n",
       "    </tr>\n",
       "    <tr>\n",
       "      <th>1033</th>\n",
       "      <td>tt1656186</td>\n",
       "      <td>35000000</td>\n",
       "      <td>2106557</td>\n",
       "      <td>Stolen</td>\n",
       "      <td>Nicolas Cage|Malin Ã…kerman|Josh Lucas|Sami Ga...</td>\n",
       "      <td>Simon West</td>\n",
       "      <td>Never steal from the world's greatest thief.</td>\n",
       "      <td>A former thief frantically searches for his mi...</td>\n",
       "      <td>96</td>\n",
       "      <td>Action|Crime|Drama|Thriller</td>\n",
       "      <td>Saturn Films|Nu Image Films|Millennium Films</td>\n",
       "      <td>5/17/2012</td>\n",
       "      <td>5.1</td>\n",
       "      <td>2012</td>\n",
       "    </tr>\n",
       "    <tr>\n",
       "      <th>860</th>\n",
       "      <td>tt1702443</td>\n",
       "      <td>13000000</td>\n",
       "      <td>98441954</td>\n",
       "      <td>Justin Bieber: Never Say Never</td>\n",
       "      <td>Justin Bieber|Miley Cyrus|Usher Raymond|Jaden ...</td>\n",
       "      <td>Jon M. Chu</td>\n",
       "      <td>Find out what's possible if you never give up.</td>\n",
       "      <td>Tells the story of Justin Bieber, the kid from...</td>\n",
       "      <td>105</td>\n",
       "      <td>Documentary|Music|Family</td>\n",
       "      <td>Insurge Pictures|Magical Elves Productions|Sco...</td>\n",
       "      <td>2/11/2011</td>\n",
       "      <td>5.3</td>\n",
       "      <td>2011</td>\n",
       "    </tr>\n",
       "  </tbody>\n",
       "</table>\n",
       "</div>"
      ],
      "text/plain": [
       "        imdb_id    budget    revenue                  original_title  \\\n",
       "1020  tt1800741  33000000  140470746              Step Up Revolution   \n",
       "908   tt0277296  60000000  165333180               The Scorpion King   \n",
       "904   tt0288477  35000000   68349884                      Ghost Ship   \n",
       "1033  tt1656186  35000000    2106557                          Stolen   \n",
       "860   tt1702443  13000000   98441954  Justin Bieber: Never Say Never   \n",
       "\n",
       "                                                   cast       director  \\\n",
       "1020  Kathryn McCormick|Ryan Guzman|Stephen Boss|Meg...    Scott Speer   \n",
       "908   Dwayne Johnson|Kelly Hu|Michael Clarke Duncan|...  Chuck Russell   \n",
       "904   Gabriel Byrne|Julianna Margulies|Desmond Harri...     Steve Beck   \n",
       "1033  Nicolas Cage|Malin Ã…kerman|Josh Lucas|Sami Ga...     Simon West   \n",
       "860   Justin Bieber|Miley Cyrus|Usher Raymond|Jaden ...     Jon M. Chu   \n",
       "\n",
       "                                             tagline  \\\n",
       "1020                  One Step Can Change Your World   \n",
       "908                           Warrior. Legend. King.   \n",
       "904                                         Sea Evil   \n",
       "1033    Never steal from the world's greatest thief.   \n",
       "860   Find out what's possible if you never give up.   \n",
       "\n",
       "                                               overview  runtime  \\\n",
       "1020  Emily arrives in Miami with aspirations to bec...       99   \n",
       "908   In ancient Egypt, peasant Mathayus is hired to...       92   \n",
       "904   After discovering a passenger ship missing sin...       91   \n",
       "1033  A former thief frantically searches for his mi...       96   \n",
       "860   Tells the story of Justin Bieber, the kid from...      105   \n",
       "\n",
       "                           genres  \\\n",
       "1020          Music|Drama|Romance   \n",
       "908      Action|Fantasy|Adventure   \n",
       "904       Horror|Mystery|Thriller   \n",
       "1033  Action|Crime|Drama|Thriller   \n",
       "860      Documentary|Music|Family   \n",
       "\n",
       "                                   production_companies release_date  \\\n",
       "1020                               Summit Entertainment    7/26/2012   \n",
       "908   Universal Pictures|Kalima Productions GmbH & C...    4/16/2002   \n",
       "904   Village Roadshow Pictures|NPV Entertainment|Da...   10/25/2002   \n",
       "1033       Saturn Films|Nu Image Films|Millennium Films    5/17/2012   \n",
       "860   Insurge Pictures|Magical Elves Productions|Sco...    2/11/2011   \n",
       "\n",
       "      vote_average  release_year  \n",
       "1020           6.6          2012  \n",
       "908            5.2          2002  \n",
       "904            5.2          2002  \n",
       "1033           5.1          2012  \n",
       "860            5.3          2011  "
      ]
     },
     "execution_count": 89,
     "metadata": {},
     "output_type": "execute_result"
    }
   ],
   "source": [
    "data = pd.read_csv('movie_bd_v5.csv') \n",
    "data.sample(5)"
   ]
  },
  {
   "cell_type": "code",
   "execution_count": 90,
   "metadata": {
    "colab": {},
    "colab_type": "code",
    "id": "CoYUnagMVp-C"
   },
   "outputs": [
    {
     "data": {
      "text/html": [
       "<div>\n",
       "<style scoped>\n",
       "    .dataframe tbody tr th:only-of-type {\n",
       "        vertical-align: middle;\n",
       "    }\n",
       "\n",
       "    .dataframe tbody tr th {\n",
       "        vertical-align: top;\n",
       "    }\n",
       "\n",
       "    .dataframe thead th {\n",
       "        text-align: right;\n",
       "    }\n",
       "</style>\n",
       "<table border=\"1\" class=\"dataframe\">\n",
       "  <thead>\n",
       "    <tr style=\"text-align: right;\">\n",
       "      <th></th>\n",
       "      <th>budget</th>\n",
       "      <th>revenue</th>\n",
       "      <th>runtime</th>\n",
       "      <th>vote_average</th>\n",
       "      <th>release_year</th>\n",
       "    </tr>\n",
       "  </thead>\n",
       "  <tbody>\n",
       "    <tr>\n",
       "      <th>count</th>\n",
       "      <td>1.889000e+03</td>\n",
       "      <td>1.889000e+03</td>\n",
       "      <td>1889.000000</td>\n",
       "      <td>1889.000000</td>\n",
       "      <td>1889.000000</td>\n",
       "    </tr>\n",
       "    <tr>\n",
       "      <th>mean</th>\n",
       "      <td>5.431083e+07</td>\n",
       "      <td>1.553653e+08</td>\n",
       "      <td>109.658549</td>\n",
       "      <td>6.140762</td>\n",
       "      <td>2007.860773</td>\n",
       "    </tr>\n",
       "    <tr>\n",
       "      <th>std</th>\n",
       "      <td>4.858721e+07</td>\n",
       "      <td>2.146698e+08</td>\n",
       "      <td>18.017041</td>\n",
       "      <td>0.764763</td>\n",
       "      <td>4.468841</td>\n",
       "    </tr>\n",
       "    <tr>\n",
       "      <th>min</th>\n",
       "      <td>5.000000e+06</td>\n",
       "      <td>2.033165e+06</td>\n",
       "      <td>63.000000</td>\n",
       "      <td>3.300000</td>\n",
       "      <td>2000.000000</td>\n",
       "    </tr>\n",
       "    <tr>\n",
       "      <th>25%</th>\n",
       "      <td>2.000000e+07</td>\n",
       "      <td>3.456058e+07</td>\n",
       "      <td>97.000000</td>\n",
       "      <td>5.600000</td>\n",
       "      <td>2004.000000</td>\n",
       "    </tr>\n",
       "    <tr>\n",
       "      <th>50%</th>\n",
       "      <td>3.800000e+07</td>\n",
       "      <td>8.361541e+07</td>\n",
       "      <td>107.000000</td>\n",
       "      <td>6.100000</td>\n",
       "      <td>2008.000000</td>\n",
       "    </tr>\n",
       "    <tr>\n",
       "      <th>75%</th>\n",
       "      <td>7.200000e+07</td>\n",
       "      <td>1.782626e+08</td>\n",
       "      <td>120.000000</td>\n",
       "      <td>6.600000</td>\n",
       "      <td>2012.000000</td>\n",
       "    </tr>\n",
       "    <tr>\n",
       "      <th>max</th>\n",
       "      <td>3.800000e+08</td>\n",
       "      <td>2.781506e+09</td>\n",
       "      <td>214.000000</td>\n",
       "      <td>8.100000</td>\n",
       "      <td>2015.000000</td>\n",
       "    </tr>\n",
       "  </tbody>\n",
       "</table>\n",
       "</div>"
      ],
      "text/plain": [
       "             budget       revenue      runtime  vote_average  release_year\n",
       "count  1.889000e+03  1.889000e+03  1889.000000   1889.000000   1889.000000\n",
       "mean   5.431083e+07  1.553653e+08   109.658549      6.140762   2007.860773\n",
       "std    4.858721e+07  2.146698e+08    18.017041      0.764763      4.468841\n",
       "min    5.000000e+06  2.033165e+06    63.000000      3.300000   2000.000000\n",
       "25%    2.000000e+07  3.456058e+07    97.000000      5.600000   2004.000000\n",
       "50%    3.800000e+07  8.361541e+07   107.000000      6.100000   2008.000000\n",
       "75%    7.200000e+07  1.782626e+08   120.000000      6.600000   2012.000000\n",
       "max    3.800000e+08  2.781506e+09   214.000000      8.100000   2015.000000"
      ]
     },
     "execution_count": 90,
     "metadata": {},
     "output_type": "execute_result"
    }
   ],
   "source": [
    "data.describe()"
   ]
  },
  {
   "cell_type": "markdown",
   "metadata": {
    "colab_type": "text",
    "id": "DTIt7ezGVp-G"
   },
   "source": [
    "# Предобработка"
   ]
  },
  {
   "cell_type": "code",
   "execution_count": 91,
   "metadata": {
    "colab": {},
    "colab_type": "code",
    "id": "jNb40DwKVp-H"
   },
   "outputs": [],
   "source": [
    "answers = {} # создадим словарь для ответов\n",
    "\n",
    "# Создадим дополнительную колонку с расчетом прибыли profit = revenue - budget\n",
    "data['profit'] = data['revenue']-data['budget']"
   ]
  },
  {
   "cell_type": "markdown",
   "metadata": {
    "colab_type": "text",
    "id": "YxZaH-nPVp-L"
   },
   "source": [
    "# 1. У какого фильма из списка самый большой бюджет?"
   ]
  },
  {
   "cell_type": "markdown",
   "metadata": {
    "colab_type": "text",
    "id": "Nd-G5gX6Vp-M"
   },
   "source": [
    "Использовать варианты ответов в коде решения запрещено.    \n",
    "Вы думаете и в жизни у вас будут варианты ответов?)"
   ]
  },
  {
   "cell_type": "code",
   "execution_count": 92,
   "metadata": {
    "colab": {},
    "colab_type": "code",
    "id": "uVnXAY5RVp-O"
   },
   "outputs": [],
   "source": [
    "answers['1'] = '4. Pirates of the Caribbean: On Stranger Tides (tt1298650)' # + \n",
    "# если ответили верно, можете добавить комментарий со значком \"+\""
   ]
  },
  {
   "cell_type": "code",
   "execution_count": 93,
   "metadata": {
    "colab": {},
    "colab_type": "code",
    "id": "dZwb3m28Vp-S"
   },
   "outputs": [
    {
     "data": {
      "text/plain": [
       "723    Pirates of the Caribbean: On Stranger Tides\n",
       "Name: original_title, dtype: object"
      ]
     },
     "execution_count": 93,
     "metadata": {},
     "output_type": "execute_result"
    }
   ],
   "source": [
    "data[data['budget'] == data['budget'].max()]['original_title']"
   ]
  },
  {
   "cell_type": "markdown",
   "metadata": {
    "colab_type": "text",
    "id": "K7L3nbRXVp-X"
   },
   "source": [
    "ВАРИАНТ 2"
   ]
  },
  {
   "cell_type": "code",
   "execution_count": 94,
   "metadata": {
    "colab": {},
    "colab_type": "code",
    "id": "OGaoQI7rVp-X"
   },
   "outputs": [
    {
     "data": {
      "text/plain": [
       "723    Pirates of the Caribbean: On Stranger Tides\n",
       "Name: original_title, dtype: object"
      ]
     },
     "execution_count": 94,
     "metadata": {},
     "output_type": "execute_result"
    }
   ],
   "source": [
    "# Способ с помощью функции query\n",
    "data.query('budget==budget.max()').original_title"
   ]
  },
  {
   "cell_type": "code",
   "execution_count": 95,
   "metadata": {},
   "outputs": [
    {
     "data": {
      "text/html": [
       "<div>\n",
       "<style scoped>\n",
       "    .dataframe tbody tr th:only-of-type {\n",
       "        vertical-align: middle;\n",
       "    }\n",
       "\n",
       "    .dataframe tbody tr th {\n",
       "        vertical-align: top;\n",
       "    }\n",
       "\n",
       "    .dataframe thead th {\n",
       "        text-align: right;\n",
       "    }\n",
       "</style>\n",
       "<table border=\"1\" class=\"dataframe\">\n",
       "  <thead>\n",
       "    <tr style=\"text-align: right;\">\n",
       "      <th></th>\n",
       "      <th>imdb_id</th>\n",
       "      <th>budget</th>\n",
       "      <th>revenue</th>\n",
       "      <th>original_title</th>\n",
       "      <th>cast</th>\n",
       "      <th>director</th>\n",
       "      <th>tagline</th>\n",
       "      <th>overview</th>\n",
       "      <th>runtime</th>\n",
       "      <th>genres</th>\n",
       "      <th>production_companies</th>\n",
       "      <th>release_date</th>\n",
       "      <th>vote_average</th>\n",
       "      <th>release_year</th>\n",
       "      <th>profit</th>\n",
       "    </tr>\n",
       "  </thead>\n",
       "  <tbody>\n",
       "    <tr>\n",
       "      <th>723</th>\n",
       "      <td>tt1298650</td>\n",
       "      <td>380000000</td>\n",
       "      <td>1021683000</td>\n",
       "      <td>Pirates of the Caribbean: On Stranger Tides</td>\n",
       "      <td>Johnny Depp|PenÃ©lope Cruz|Geoffrey Rush|Ian M...</td>\n",
       "      <td>Rob Marshall</td>\n",
       "      <td>Live Forever Or Die Trying.</td>\n",
       "      <td>Captain Jack Sparrow crosses paths with a woma...</td>\n",
       "      <td>136</td>\n",
       "      <td>Adventure|Action|Fantasy</td>\n",
       "      <td>Walt Disney Pictures|Jerry Bruckheimer Films|M...</td>\n",
       "      <td>5/11/2011</td>\n",
       "      <td>6.3</td>\n",
       "      <td>2011</td>\n",
       "      <td>641683000</td>\n",
       "    </tr>\n",
       "  </tbody>\n",
       "</table>\n",
       "</div>"
      ],
      "text/plain": [
       "       imdb_id     budget     revenue  \\\n",
       "723  tt1298650  380000000  1021683000   \n",
       "\n",
       "                                  original_title  \\\n",
       "723  Pirates of the Caribbean: On Stranger Tides   \n",
       "\n",
       "                                                  cast      director  \\\n",
       "723  Johnny Depp|PenÃ©lope Cruz|Geoffrey Rush|Ian M...  Rob Marshall   \n",
       "\n",
       "                         tagline  \\\n",
       "723  Live Forever Or Die Trying.   \n",
       "\n",
       "                                              overview  runtime  \\\n",
       "723  Captain Jack Sparrow crosses paths with a woma...      136   \n",
       "\n",
       "                       genres  \\\n",
       "723  Adventure|Action|Fantasy   \n",
       "\n",
       "                                  production_companies release_date  \\\n",
       "723  Walt Disney Pictures|Jerry Bruckheimer Films|M...    5/11/2011   \n",
       "\n",
       "     vote_average  release_year     profit  \n",
       "723           6.3          2011  641683000  "
      ]
     },
     "execution_count": 95,
     "metadata": {},
     "output_type": "execute_result"
    }
   ],
   "source": [
    "# проверка\n",
    "data[data['original_title'] == 'Pirates of the Caribbean: On Stranger Tides']"
   ]
  },
  {
   "cell_type": "code",
   "execution_count": 96,
   "metadata": {},
   "outputs": [
    {
     "data": {
      "text/plain": [
       "380000000"
      ]
     },
     "execution_count": 96,
     "metadata": {},
     "output_type": "execute_result"
    }
   ],
   "source": [
    "# проверка\n",
    "data['budget'].max()"
   ]
  },
  {
   "cell_type": "markdown",
   "metadata": {
    "colab_type": "text",
    "id": "FNRbbI3vVp-c"
   },
   "source": [
    "# 2. Какой из фильмов самый длительный (в минутах)?"
   ]
  },
  {
   "cell_type": "code",
   "execution_count": 97,
   "metadata": {
    "colab": {},
    "colab_type": "code",
    "id": "vHAoEXNTVp-d"
   },
   "outputs": [
    {
     "data": {
      "text/plain": [
       "1157    Gods and Generals\n",
       "Name: original_title, dtype: object"
      ]
     },
     "execution_count": 97,
     "metadata": {},
     "output_type": "execute_result"
    }
   ],
   "source": [
    "# думаю логику работы с этим словарем вы уже поняли, \n",
    "# по этому не буду больше его дублировать\n",
    "answers['2'] = '2. Gods and Generals (tt0279111)' #+\n",
    "data[data['runtime'] == data['runtime'].max()]['original_title']"
   ]
  },
  {
   "cell_type": "markdown",
   "metadata": {
    "colab_type": "text",
    "id": "bapLlpW8Vp-k"
   },
   "source": [
    "# 3. Какой из фильмов самый короткий (в минутах)?\n",
    "\n",
    "\n",
    "\n"
   ]
  },
  {
   "cell_type": "code",
   "execution_count": 98,
   "metadata": {
    "colab": {},
    "colab_type": "code",
    "id": "YBxaSHuAVp-l"
   },
   "outputs": [
    {
     "data": {
      "text/plain": [
       "768    Winnie the Pooh\n",
       "Name: original_title, dtype: object"
      ]
     },
     "execution_count": 98,
     "metadata": {},
     "output_type": "execute_result"
    }
   ],
   "source": [
    "answers['3'] = '3. Winnie the Pooh (tt1449283)' #+\n",
    "\n",
    "data[data['runtime'] == data['runtime'].min()]['original_title']\n",
    "# или data[data.runtime == data.runtime.min()]['original_title']"
   ]
  },
  {
   "cell_type": "markdown",
   "metadata": {
    "colab_type": "text",
    "id": "TfQbxbfNVp-p"
   },
   "source": [
    "# 4. Какова средняя длительность фильмов?\n"
   ]
  },
  {
   "cell_type": "code",
   "execution_count": 99,
   "metadata": {
    "colab": {},
    "colab_type": "code",
    "id": "5K6dKZYVVp-q"
   },
   "outputs": [
    {
     "data": {
      "text/plain": [
       "110"
      ]
     },
     "execution_count": 99,
     "metadata": {},
     "output_type": "execute_result"
    }
   ],
   "source": [
    "answers['4'] = '2. 110' #+\n",
    "round(data['runtime'].mean())"
   ]
  },
  {
   "cell_type": "markdown",
   "metadata": {
    "colab_type": "text",
    "id": "r5TvbnT_Vp-u"
   },
   "source": [
    "# 5. Каково медианное значение длительности фильмов? "
   ]
  },
  {
   "cell_type": "code",
   "execution_count": 100,
   "metadata": {
    "colab": {},
    "colab_type": "code",
    "id": "iBROplKnVp-v"
   },
   "outputs": [
    {
     "data": {
      "text/plain": [
       "107"
      ]
     },
     "execution_count": 100,
     "metadata": {},
     "output_type": "execute_result"
    }
   ],
   "source": [
    "answers['5'] = '1. 107' #+\n",
    "round(data['runtime'].median())"
   ]
  },
  {
   "cell_type": "markdown",
   "metadata": {
    "colab_type": "text",
    "id": "39P-deDSVp-y"
   },
   "source": [
    "# 6. Какой самый прибыльный фильм?\n",
    "#### Внимание! Здесь и далее под «прибылью» или «убытками» понимается разность между сборами и бюджетом фильма. (прибыль = сборы - бюджет) в нашем датасете это будет (profit = revenue - budget) "
   ]
  },
  {
   "cell_type": "code",
   "execution_count": 101,
   "metadata": {
    "colab": {},
    "colab_type": "code",
    "id": "UYZh4T9WVp-y"
   },
   "outputs": [
    {
     "data": {
      "text/plain": [
       "239    Avatar\n",
       "Name: original_title, dtype: object"
      ]
     },
     "execution_count": 101,
     "metadata": {},
     "output_type": "execute_result"
    }
   ],
   "source": [
    "# лучше код получения столбца profit вынести в Предобработку что в начале\n",
    "answers['6'] = '5. Avatar (tt0499549)' #+\n",
    "\n",
    "data[data['profit'] == data['profit'].max()]['original_title']"
   ]
  },
  {
   "cell_type": "markdown",
   "metadata": {
    "colab_type": "text",
    "id": "M99JmIX4Vp-2"
   },
   "source": [
    "# 7. Какой фильм самый убыточный? "
   ]
  },
  {
   "cell_type": "code",
   "execution_count": 102,
   "metadata": {
    "colab": {},
    "colab_type": "code",
    "id": "w-D2m4XPVp-3"
   },
   "outputs": [
    {
     "data": {
      "text/plain": [
       "1245    The Lone Ranger\n",
       "Name: original_title, dtype: object"
      ]
     },
     "execution_count": 102,
     "metadata": {},
     "output_type": "execute_result"
    }
   ],
   "source": [
    "answers['7'] = '5. The Lone Ranger (tt1210819)' #+\n",
    "\n",
    "data[data['profit'] == data['profit'].min()]['original_title']"
   ]
  },
  {
   "cell_type": "markdown",
   "metadata": {
    "colab_type": "text",
    "id": "wEOM5ERVVp-6"
   },
   "source": [
    "# 8. У скольких фильмов из датасета объем сборов оказался выше бюджета?"
   ]
  },
  {
   "cell_type": "code",
   "execution_count": 103,
   "metadata": {
    "colab": {},
    "colab_type": "code",
    "id": "y00_7HD6Vp-7"
   },
   "outputs": [
    {
     "data": {
      "text/plain": [
       "1478"
      ]
     },
     "execution_count": 103,
     "metadata": {},
     "output_type": "execute_result"
    }
   ],
   "source": [
    "answers['8'] = '1. 1478' #+\n",
    "data[data['revenue'] > data['budget']]['original_title'].count()"
   ]
  },
  {
   "cell_type": "markdown",
   "metadata": {
    "colab_type": "text",
    "id": "xhpspA9KVp_A"
   },
   "source": [
    "# 9. Какой фильм оказался самым кассовым в 2008 году?"
   ]
  },
  {
   "cell_type": "code",
   "execution_count": 104,
   "metadata": {
    "colab": {},
    "colab_type": "code",
    "id": "MoUyQr9RVp_B"
   },
   "outputs": [
    {
     "data": {
      "text/plain": [
       "599    The Dark Knight\n",
       "Name: original_title, dtype: object"
      ]
     },
     "execution_count": 104,
     "metadata": {},
     "output_type": "execute_result"
    }
   ],
   "source": [
    "# Cоздадим отдельный дейтасет по фильмам 2008 года, и уже в нем найдем фильм с максимальным revenue(самый кассовый) \n",
    "answers['9'] = '4. The Dark Knight (tt0468569)' #+\n",
    "data_2008 = data[(data['release_year'] == 2008)]\n",
    "data_2008[data_2008['revenue'] == data_2008['revenue'].max()]['original_title'] "
   ]
  },
  {
   "cell_type": "markdown",
   "metadata": {
    "colab_type": "text",
    "id": "Zi4hDKidVp_F"
   },
   "source": [
    "# 10. Самый убыточный фильм за период с 2012 по 2014 г. (включительно)?\n"
   ]
  },
  {
   "cell_type": "code",
   "execution_count": 105,
   "metadata": {
    "colab": {},
    "colab_type": "code",
    "id": "XqyRmufJVp_F"
   },
   "outputs": [
    {
     "data": {
      "text/plain": [
       "1245    The Lone Ranger\n",
       "Name: original_title, dtype: object"
      ]
     },
     "execution_count": 105,
     "metadata": {},
     "output_type": "execute_result"
    }
   ],
   "source": [
    "answers['10'] = '5. The Lone Ranger (tt1210819)' #+\n",
    "data_10 = data.copy() \n",
    "data_10 = data_10[(data_10['release_year'] > 2012) & (data_10['release_year'] <= 2014)]\n",
    "data_10[data_10['profit'] == data_10['profit'].min()]['original_title']\n"
   ]
  },
  {
   "cell_type": "markdown",
   "metadata": {
    "colab_type": "text",
    "id": "EA7Sa9dkVp_I"
   },
   "source": [
    "# 11. Какого жанра фильмов больше всего?"
   ]
  },
  {
   "cell_type": "code",
   "execution_count": 106,
   "metadata": {
    "colab": {},
    "colab_type": "code",
    "id": "zsJAwJ8QVp_J"
   },
   "outputs": [
    {
     "data": {
      "text/plain": [
       "'Drama'"
      ]
     },
     "execution_count": 106,
     "metadata": {},
     "output_type": "execute_result"
    }
   ],
   "source": [
    "# эту задачу тоже можно решать разными подходами, попробуй реализовать разные варианты\n",
    "# если будешь добавлять функцию - выноси ее в предобработку что в начале\n",
    "answers['11'] = '3. Drama' #+\n",
    "\n",
    "most_popular_genres = data.copy()\n",
    "most_popular_genres['genres'] = most_popular_genres['genres'].str.split('|')\n",
    "most_popular_genres = most_popular_genres.explode('genres')\n",
    "most_popular_genres = most_popular_genres['genres'].value_counts()\n",
    "most_popular_genres.index[0]"
   ]
  },
  {
   "cell_type": "markdown",
   "metadata": {
    "colab_type": "text",
    "id": "Ax6g2C8SVp_M"
   },
   "source": [
    "ВАРИАНТ 2"
   ]
  },
  {
   "cell_type": "code",
   "execution_count": 107,
   "metadata": {
    "colab": {},
    "colab_type": "code",
    "id": "otO3SbrSVp_N"
   },
   "outputs": [
    {
     "data": {
      "text/plain": [
       "'Drama'"
      ]
     },
     "execution_count": 107,
     "metadata": {},
     "output_type": "execute_result"
    }
   ],
   "source": [
    "# Решим через lambda функцию\n",
    "data_11 = data.copy() \n",
    "data_11['genres'] = data_11['genres'].apply(lambda x:str(x).split('|'))\n",
    "data_11.genres.explode().value_counts().index[0]\n"
   ]
  },
  {
   "cell_type": "markdown",
   "metadata": {
    "colab_type": "text",
    "id": "T9_bPWpkVp_Q"
   },
   "source": [
    "# 12. Фильмы какого жанра чаще всего становятся прибыльными? "
   ]
  },
  {
   "cell_type": "code",
   "execution_count": 108,
   "metadata": {
    "colab": {},
    "colab_type": "code",
    "id": "Tmt8MaK1Vp_R"
   },
   "outputs": [
    {
     "data": {
      "text/plain": [
       "genres\n",
       "Drama              560\n",
       "Comedy             551\n",
       "Thriller           446\n",
       "Action             444\n",
       "Adventure          337\n",
       "Romance            242\n",
       "Crime              231\n",
       "Family             226\n",
       "Science Fiction    195\n",
       "Fantasy            188\n",
       "Horror             150\n",
       "Animation          120\n",
       "Mystery            119\n",
       "Music               47\n",
       "History             46\n",
       "War                 41\n",
       "Western             12\n",
       "Documentary          7\n",
       "Name: profit, dtype: int64"
      ]
     },
     "execution_count": 108,
     "metadata": {},
     "output_type": "execute_result"
    }
   ],
   "source": [
    "answers['12'] = '1. Drama' #+\n",
    "\n",
    "data_12 = data.copy()\n",
    "data_12['genres'] = data_12['genres'].str.split('|')\n",
    "data_12 = data_12.explode('genres')\n",
    "data_sorted = data_12[data_12.profit > 0]\n",
    "data_sorted.groupby(['genres'])['profit'].count().sort_values(ascending=False)\n"
   ]
  },
  {
   "cell_type": "markdown",
   "metadata": {
    "colab_type": "text",
    "id": "0F23bgsDVp_U"
   },
   "source": [
    "# 13. У какого режиссера самые большие суммарные кассовые сборы?"
   ]
  },
  {
   "cell_type": "code",
   "execution_count": 109,
   "metadata": {
    "colab": {},
    "colab_type": "code",
    "id": "K6Z3J8ygVp_X"
   },
   "outputs": [
    {
     "data": {
      "text/plain": [
       "'Peter Jackson'"
      ]
     },
     "execution_count": 109,
     "metadata": {},
     "output_type": "execute_result"
    }
   ],
   "source": [
    "answers['13'] = '5. Peter Jackson' #+\n",
    "\n",
    "data_13 = data.copy()\n",
    "data_13['director'] = data_13['director'].str.split('|')\n",
    "data_13_exploded = data_13.explode('director')\n",
    "max_profit_director = data_13_exploded.groupby(['director'])['revenue'].sum().sort_values(ascending=False)\n",
    "max_profit_director.index[0]"
   ]
  },
  {
   "cell_type": "markdown",
   "metadata": {
    "colab_type": "text",
    "id": "PsYC9FgRVp_a"
   },
   "source": [
    "# 14. Какой режисер снял больше всего фильмов в стиле Action?"
   ]
  },
  {
   "cell_type": "code",
   "execution_count": 110,
   "metadata": {
    "colab": {},
    "colab_type": "code",
    "id": "wd2M-wHeVp_b"
   },
   "outputs": [
    {
     "data": {
      "text/plain": [
       "Robert Rodriguez      9\n",
       "Paul W.S. Anderson    7\n",
       "Michael Bay           7\n",
       "Antoine Fuqua         6\n",
       "Ridley Scott          6\n",
       "                     ..\n",
       "Adam McKay            1\n",
       "Phil Joanou           1\n",
       "DJ Pooh               1\n",
       "Taylor Hackford       1\n",
       "Jonathan Hensleigh    1\n",
       "Name: director, Length: 364, dtype: int64"
      ]
     },
     "execution_count": 110,
     "metadata": {},
     "output_type": "execute_result"
    }
   ],
   "source": [
    "answers['14'] = '3. Robert Rodriguez' #+\n",
    "\n",
    "data_14 = data.copy()\n",
    "data_14['director'] = data_14['director'].str.split('|')\n",
    "data_14 = data_14.explode('director')\n",
    "\n",
    "data_14['genres'] = data_14['genres'].str.split('|')\n",
    "data_14 = data_14.explode('genres')\n",
    "data_14[data_14['genres'] == 'Action'].director.value_counts().sort_values(ascending=False)"
   ]
  },
  {
   "cell_type": "markdown",
   "metadata": {
    "colab_type": "text",
    "id": "PQ0KciD7Vp_f"
   },
   "source": [
    "# 15. Фильмы с каким актером принесли самые высокие кассовые сборы в 2012 году? "
   ]
  },
  {
   "cell_type": "code",
   "execution_count": 111,
   "metadata": {
    "colab": {},
    "colab_type": "code",
    "id": "aga62oeKVp_g"
   },
   "outputs": [
    {
     "data": {
      "text/plain": [
       "cast\n",
       "Chris Hemsworth    2027450773\n",
       "Name: revenue, dtype: int64"
      ]
     },
     "execution_count": 111,
     "metadata": {},
     "output_type": "execute_result"
    }
   ],
   "source": [
    "answers['15'] = '3. Chris Hemsworth' #+\n",
    "data_15 = data.copy()\n",
    "data_15 = data_15[(data_15['release_year'] == 2012)]\n",
    "data_15['cast'] = data_15['cast'].str.split('|')\n",
    "data_15 = data_15.explode('cast')\n",
    "data_15.groupby('cast')['revenue'].sum().sort_values(ascending=False).head(1)"
   ]
  },
  {
   "cell_type": "markdown",
   "metadata": {
    "colab_type": "text",
    "id": "mWHyyL7QVp_j"
   },
   "source": [
    "# 16. Какой актер снялся в большем количестве высокобюджетных фильмов?"
   ]
  },
  {
   "cell_type": "markdown",
   "metadata": {},
   "source": [
    "Примечание: в фильмах, где бюджет выше среднего по данной выборке."
   ]
  },
  {
   "cell_type": "code",
   "execution_count": 112,
   "metadata": {
    "colab": {},
    "colab_type": "code",
    "id": "qQtmHKTFVp_k"
   },
   "outputs": [
    {
     "data": {
      "text/plain": [
       "Matt Damon    18\n",
       "Name: cast, dtype: int64"
      ]
     },
     "execution_count": 112,
     "metadata": {},
     "output_type": "execute_result"
    }
   ],
   "source": [
    "answers['16'] = '3. Matt Damon' #+\n",
    "data_16 = data.copy()\n",
    "data_16['cast'] = data_16['cast'].apply(lambda x: x.split('|'))\n",
    "data_16 = data_16.explode('cast')\n",
    "data_16[data_16['budget'] > data_16['budget'].mean()]['cast'].value_counts(ascending=False).head(1)"
   ]
  },
  {
   "cell_type": "markdown",
   "metadata": {
    "colab_type": "text",
    "id": "NIh6AaW5Vp_n"
   },
   "source": [
    "# 17. В фильмах какого жанра больше всего снимался Nicolas Cage? "
   ]
  },
  {
   "cell_type": "code",
   "execution_count": 113,
   "metadata": {
    "colab": {},
    "colab_type": "code",
    "id": "H74SJDIBVp_n"
   },
   "outputs": [
    {
     "data": {
      "text/plain": [
       "Action    17\n",
       "Name: genres, dtype: int64"
      ]
     },
     "execution_count": 113,
     "metadata": {},
     "output_type": "execute_result"
    }
   ],
   "source": [
    "answers['17'] = '2. Action' #+\n",
    "data_17 = data.copy()\n",
    "data_17['cast'] = data_17['cast'].apply(lambda x: x.split('|'))\n",
    "data_17 = data_17.explode('cast')\n",
    "\n",
    "data_17['genres'] = data_17['genres'].apply(lambda x: x.split('|'))\n",
    "data_17 = data_17.explode('genres')\n",
    "data_17[data_17['cast'] == 'Nicolas Cage']['genres'].value_counts(ascending=False).head(1)"
   ]
  },
  {
   "cell_type": "markdown",
   "metadata": {
    "colab_type": "text",
    "id": "RqOmPRfWVp_q"
   },
   "source": [
    "# 18. Самый убыточный фильм от Paramount Pictures"
   ]
  },
  {
   "cell_type": "code",
   "execution_count": 114,
   "metadata": {
    "colab": {},
    "colab_type": "code",
    "id": "9E_B0Y96Vp_r"
   },
   "outputs": [
    {
     "data": {
      "text/plain": [
       "925    K-19: The Widowmaker\n",
       "Name: original_title, dtype: object"
      ]
     },
     "execution_count": 114,
     "metadata": {},
     "output_type": "execute_result"
    }
   ],
   "source": [
    "answers['18'] = '1. K-19: The Widowmaker (tt0267626)' #+\n",
    "data_18 = data.copy()\n",
    "data_18['profit'] = data_18['revenue']-data_18['budget']\n",
    "\n",
    "data_18['production_companies'] = data_18['production_companies'].apply(lambda x: x.split('|'))\n",
    "data_18 = data_18.explode('production_companies')\n",
    "\n",
    "data_18_Paramount_Pictures = data_18[data_18['production_companies'] =='Paramount Pictures']\n",
    "data_18_Paramount_Pictures[data_18_Paramount_Pictures['profit'] == data_18_Paramount_Pictures['profit'].min()]['original_title']"
   ]
  },
  {
   "cell_type": "markdown",
   "metadata": {
    "colab_type": "text",
    "id": "vS8Ur6ddVp_u"
   },
   "source": [
    "# 19. Какой год стал самым успешным по суммарным кассовым сборам?"
   ]
  },
  {
   "cell_type": "code",
   "execution_count": 115,
   "metadata": {
    "colab": {},
    "colab_type": "code",
    "id": "Dnbt4GdIVp_v"
   },
   "outputs": [
    {
     "data": {
      "text/plain": [
       "release_year\n",
       "2015    25449202382\n",
       "Name: revenue, dtype: int64"
      ]
     },
     "execution_count": 115,
     "metadata": {},
     "output_type": "execute_result"
    }
   ],
   "source": [
    "answers['19'] = '5. 2015' #+\n",
    "data_19 = data.copy()\n",
    "data_19.groupby(['release_year'])['revenue'].sum().sort_values(ascending = False).head(1)"
   ]
  },
  {
   "cell_type": "markdown",
   "metadata": {
    "colab_type": "text",
    "id": "JAzJh4QAVp_z"
   },
   "source": [
    "# 20. Какой самый прибыльный год для студии Warner Bros?"
   ]
  },
  {
   "cell_type": "code",
   "execution_count": 116,
   "metadata": {
    "colab": {},
    "colab_type": "code",
    "id": "wgVu02DEVp_0"
   },
   "outputs": [
    {
     "data": {
      "text/plain": [
       "release_year\n",
       "2014    2292949646\n",
       "Name: profit, dtype: int64"
      ]
     },
     "execution_count": 116,
     "metadata": {},
     "output_type": "execute_result"
    }
   ],
   "source": [
    "answers['20'] = '1. 2014' #+\n",
    "data_20 = data.copy()\n",
    "data_20['profit'] = data_20['revenue']-data_20['budget']\n",
    "\n",
    "data_20['production_companies'] = data_20['production_companies'].str.split('|')\n",
    "data_20 = data_20.explode('production_companies')\n",
    "\n",
    "data_20 = data_20[data_20['production_companies'].str.contains('Warner Bros')]\n",
    "data_20.groupby('release_year')['profit'].sum().sort_values(ascending=False).head(1)"
   ]
  },
  {
   "cell_type": "markdown",
   "metadata": {
    "colab_type": "text",
    "id": "8Im1S2HRVp_4"
   },
   "source": [
    "# 21. В каком месяце за все годы суммарно вышло больше всего фильмов?"
   ]
  },
  {
   "cell_type": "code",
   "execution_count": 117,
   "metadata": {
    "colab": {},
    "colab_type": "code",
    "id": "lev6TH7gVp_4"
   },
   "outputs": [
    {
     "data": {
      "text/plain": [
       "9    227\n",
       "Name: release_month, dtype: int64"
      ]
     },
     "execution_count": 117,
     "metadata": {},
     "output_type": "execute_result"
    }
   ],
   "source": [
    "answers['21'] = '4. Сентябрь' #+\n",
    "data_21 = data.copy()\n",
    "data_21.release_date = data_21.release_date.str.split('/')\n",
    "\n",
    "data_21['release_month'] = data_21['release_date'].apply(lambda x: x[0])\n",
    "data_21.release_month.value_counts().head(1)"
   ]
  },
  {
   "cell_type": "markdown",
   "metadata": {
    "colab_type": "text",
    "id": "uAJsZ_NeVp_7"
   },
   "source": [
    "# 22. Сколько суммарно вышло фильмов летом? (за июнь, июль, август)"
   ]
  },
  {
   "cell_type": "code",
   "execution_count": 118,
   "metadata": {
    "colab": {},
    "colab_type": "code",
    "id": "Aa-hEREoVp_8"
   },
   "outputs": [
    {
     "data": {
      "text/plain": [
       "450"
      ]
     },
     "execution_count": 118,
     "metadata": {},
     "output_type": "execute_result"
    }
   ],
   "source": [
    "answers['22'] = '2. 450' #+\n",
    "data_22 = data.copy()\n",
    "data_22.release_date = data_22.release_date.str.split('/')\n",
    "data_22['release_month'] = data_22['release_date'].apply(lambda x: x[0])\n",
    "df_summer = data_22[data_22['release_month'].isin(['6','7','8'])]\n",
    "len(df_summer.release_month)"
   ]
  },
  {
   "cell_type": "markdown",
   "metadata": {
    "colab_type": "text",
    "id": "G94ppOY1VqAA"
   },
   "source": [
    "# 23. Для какого режиссера зима – самое продуктивное время года? "
   ]
  },
  {
   "cell_type": "code",
   "execution_count": 119,
   "metadata": {
    "colab": {},
    "colab_type": "code",
    "id": "RhNTsamuVqAB"
   },
   "outputs": [
    {
     "data": {
      "text/plain": [
       "'Peter Jackson'"
      ]
     },
     "execution_count": 119,
     "metadata": {},
     "output_type": "execute_result"
    }
   ],
   "source": [
    "answers['23'] = '5. Peter Jackson' #+\n",
    "data_23 = data.copy()\n",
    "\n",
    "data_23.release_date = data_23.release_date.str.split('/')\n",
    "data_23.director = data_23.director.str.split('/')\n",
    "data_23 = data_23.explode('director')\n",
    "\n",
    "data_23['release_month'] = data_23['release_date'].apply(lambda x: x[0])\n",
    "df_winter = data_23[data_23['release_month'].isin(['12','1','2'])]\n",
    "#df_winter.groupby(['director'])['revenue'].count().sort_values(ascending=False)\n",
    "df_winter['director'].value_counts().index[0]"
   ]
  },
  {
   "cell_type": "markdown",
   "metadata": {
    "colab_type": "text",
    "id": "RBo0JVjVVqAF"
   },
   "source": [
    "# 24. Какая студия дает самые длинные названия своим фильмам по количеству символов?"
   ]
  },
  {
   "cell_type": "code",
   "execution_count": 120,
   "metadata": {
    "colab": {},
    "colab_type": "code",
    "id": "QRGS8L0iVqAG"
   },
   "outputs": [
    {
     "data": {
      "text/plain": [
       "'Four By Two Productions'"
      ]
     },
     "execution_count": 120,
     "metadata": {},
     "output_type": "execute_result"
    }
   ],
   "source": [
    "answers['24'] = '5. Four By Two Productions' #+\n",
    "data_24 = data.copy()\n",
    "\n",
    "data_24['production_companies'] = data_24['production_companies'].str.split('|')\n",
    "data_24 = data_24.explode('production_companies')\n",
    "\n",
    "data_24['lenght_title'] = data_24.original_title.apply(lambda x: len(x))\n",
    "data_24.groupby(['production_companies'])['lenght_title'].mean().sort_values(ascending=False).index[0]"
   ]
  },
  {
   "cell_type": "markdown",
   "metadata": {
    "colab_type": "text",
    "id": "9G0hbvR7VqAK"
   },
   "source": [
    "# 25. Описание фильмов какой студии в среднем самые длинные по количеству слов?"
   ]
  },
  {
   "cell_type": "code",
   "execution_count": 121,
   "metadata": {
    "colab": {},
    "colab_type": "code",
    "id": "Ge2GsLNxVqAK"
   },
   "outputs": [
    {
     "data": {
      "text/plain": [
       "'Midnight Picture Show'"
      ]
     },
     "execution_count": 121,
     "metadata": {},
     "output_type": "execute_result"
    }
   ],
   "source": [
    "answers['25'] = '3. Midnight Picture Show' #+\n",
    "data_25 = data.copy()\n",
    "\n",
    "data_25['production_companies'] = data_25['production_companies'].str.split('|')\n",
    "data_25 = data_25.explode('production_companies')\n",
    "\n",
    "data_25['lenght_overview'] = data_24.overview.apply(lambda x: len(x))\n",
    "data_25.groupby(['production_companies'])['lenght_overview'].mean().sort_values(ascending=False).index[0]"
   ]
  },
  {
   "cell_type": "markdown",
   "metadata": {
    "colab_type": "text",
    "id": "FJ1AFt90VqAP"
   },
   "source": [
    "# 26. Какие фильмы входят в 1 процент лучших по рейтингу? \n",
    "по vote_average"
   ]
  },
  {
   "cell_type": "code",
   "execution_count": 122,
   "metadata": {
    "colab": {},
    "colab_type": "code",
    "id": "8qmJVq4CVqAQ"
   },
   "outputs": [
    {
     "data": {
      "text/plain": [
       "155                          The Theory of Everything\n",
       "863             The Lord of the Rings: The Two Towers\n",
       "1688                              There Will Be Blood\n",
       "283                                        Mr. Nobody\n",
       "1191                                 12 Years a Slave\n",
       "872                                       The Pianist\n",
       "128                                         Gone Girl\n",
       "1800                                          Memento\n",
       "119                           Guardians of the Galaxy\n",
       "370                                         Inception\n",
       "1183                          The Wolf of Wall Street\n",
       "138                          The Grand Budapest Hotel\n",
       "1081    The Lord of the Rings: The Return of the King\n",
       "34                                               Room\n",
       "118                                      Interstellar\n",
       "9                                          Inside Out\n",
       "125                                The Imitation Game\n",
       "599                                   The Dark Knight\n",
       "Name: original_title, dtype: object"
      ]
     },
     "metadata": {},
     "output_type": "display_data"
    }
   ],
   "source": [
    "answers['26'] = '1. Inside Out, The Dark Knight, 12 Years a Slave' #+\n",
    "data_26 = data.copy()\n",
    "best_films = data_26.sort_values(by='vote_average')\n",
    "display(best_films.tail(int(data_26.original_title.count()/100)).original_title)"
   ]
  },
  {
   "cell_type": "markdown",
   "metadata": {
    "colab_type": "text",
    "id": "MdXsUXbCVqAV"
   },
   "source": [
    "# 27. Какие актеры чаще всего снимаются в одном фильме вместе?\n"
   ]
  },
  {
   "cell_type": "code",
   "execution_count": 128,
   "metadata": {},
   "outputs": [
    {
     "data": {
      "text/plain": [
       "[(('Daniel Radcliffe', 'Emma Watson'), 8),\n",
       " (('Daniel Radcliffe', 'Rupert Grint'), 8),\n",
       " (('Emma Watson', 'Rupert Grint'), 8),\n",
       " (('Ben Stiller', 'Owen Wilson'), 6),\n",
       " (('Helena Bonham Carter', 'Johnny Depp'), 6)]"
      ]
     },
     "execution_count": 128,
     "metadata": {},
     "output_type": "execute_result"
    }
   ],
   "source": [
    "answers['27'] = '5. Daniel Radcliffe & Rupert Grint' #+\n",
    "\n",
    "data_27 = data.copy()\n",
    "\n",
    "data_27['cast_comb'] = data_27.cast.str.split('|').apply(lambda x: tuple(it.combinations(sorted(x),2)))\n",
    "Counter(data_27.cast_comb.values.sum()).most_common(5)"
   ]
  },
  {
   "cell_type": "markdown",
   "metadata": {
    "colab_type": "text",
    "id": "U0nONFnGVqAX"
   },
   "source": [
    "# Submission"
   ]
  },
  {
   "cell_type": "code",
   "execution_count": 127,
   "metadata": {
    "colab": {},
    "colab_type": "code",
    "id": "IfcaRO9-VqAX",
    "outputId": "0f132912-32bb-4196-c98c-abfbc4ad5a5f"
   },
   "outputs": [
    {
     "data": {
      "text/plain": [
       "{'1': '4. Pirates of the Caribbean: On Stranger Tides (tt1298650)',\n",
       " '2': '2. Gods and Generals (tt0279111)',\n",
       " '3': '3. Winnie the Pooh (tt1449283)',\n",
       " '4': '2. 110',\n",
       " '5': '1. 107',\n",
       " '6': '5. Avatar (tt0499549)',\n",
       " '7': '5. The Lone Ranger (tt1210819)',\n",
       " '8': '1. 1478',\n",
       " '9': '4. The Dark Knight (tt0468569)',\n",
       " '10': '5. The Lone Ranger (tt1210819)',\n",
       " '11': '3. Drama',\n",
       " '12': '1. Drama',\n",
       " '13': '5. Peter Jackson',\n",
       " '14': '3. Robert Rodriguez',\n",
       " '15': '3. Chris Hemsworth',\n",
       " '16': '3. Matt Damon',\n",
       " '17': '2. Action',\n",
       " '18': '1. K-19: The Widowmaker (tt0267626)',\n",
       " '19': '5. 2015',\n",
       " '20': '1. 2014',\n",
       " '21': '4. Сентябрь',\n",
       " '22': '2. 450',\n",
       " '23': '5. Peter Jackson',\n",
       " '24': '5. Four By Two Productions',\n",
       " '25': '3. Midnight Picture Show',\n",
       " '26': '1. Inside Out, The Dark Knight, 12 Years a Slave',\n",
       " '27': '5. Daniel Radcliffe & Rupert Grint'}"
      ]
     },
     "execution_count": 127,
     "metadata": {},
     "output_type": "execute_result"
    }
   ],
   "source": [
    "# в конце можно посмотреть свои ответы к каждому вопросу\n",
    "answers"
   ]
  },
  {
   "cell_type": "code",
   "execution_count": 125,
   "metadata": {
    "colab": {},
    "colab_type": "code",
    "id": "SiRmHPl8VqAd"
   },
   "outputs": [
    {
     "data": {
      "text/plain": [
       "27"
      ]
     },
     "execution_count": 125,
     "metadata": {},
     "output_type": "execute_result"
    }
   ],
   "source": [
    "# и убедиться что ни чего не пропустил)\n",
    "len(answers)"
   ]
  },
  {
   "cell_type": "code",
   "execution_count": null,
   "metadata": {
    "colab": {},
    "colab_type": "code",
    "id": "uCfuTkRbVqAg"
   },
   "outputs": [],
   "source": []
  },
  {
   "cell_type": "code",
   "execution_count": null,
   "metadata": {
    "colab": {},
    "colab_type": "code",
    "id": "Vwx3NrkSVqAl"
   },
   "outputs": [],
   "source": []
  }
 ],
 "metadata": {
  "colab": {
   "name": "Copy of [SF-DST] Movies IMBD v4.1 TEMPLATE.ipynb",
   "provenance": []
  },
  "kernelspec": {
   "display_name": "Python 3",
   "language": "python",
   "name": "python3"
  },
  "language_info": {
   "codemirror_mode": {
    "name": "ipython",
    "version": 3
   },
   "file_extension": ".py",
   "mimetype": "text/x-python",
   "name": "python",
   "nbconvert_exporter": "python",
   "pygments_lexer": "ipython3",
   "version": "3.8.5"
  }
 },
 "nbformat": 4,
 "nbformat_minor": 1
}
