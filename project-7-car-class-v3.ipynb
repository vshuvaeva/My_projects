{
 "cells": [
  {
   "cell_type": "markdown",
   "metadata": {
    "_cell_guid": "785a103e-8a5a-4296-ae89-74f71f7c3eb4",
    "_uuid": "2f77bf3d-dca5-41aa-bf02-b09580906faa"
   },
   "source": [
    "# Классификация изображений\n",
    "# Проект 7. Ford vs Ferrari: определяем модель авто по фото \n",
    "### Основная идея этого решения: взять предобученую на ImageNet сеть Xception и дообучить под нашу задачу. \n"
   ]
  },
  {
   "cell_type": "code",
   "execution_count": 2,
   "metadata": {
    "execution": {
     "iopub.execute_input": "2022-03-13T14:39:27.636602Z",
     "iopub.status.busy": "2022-03-13T14:39:27.635823Z",
     "iopub.status.idle": "2022-03-13T14:40:05.018002Z",
     "shell.execute_reply": "2022-03-13T14:40:05.017173Z",
     "shell.execute_reply.started": "2022-03-13T14:39:27.636552Z"
    }
   },
   "outputs": [],
   "source": [
    "!mkdir /kaggle/temp #папка для временных файлов\n",
    "!unzip /kaggle/input/train.zip -d /kaggle/temp\n",
    "!unzip /kaggle/input/test.zip -d /kaggle/temp\n",
    "sample_submission_path = '/kaggle/input/sample-submission.csv'\n",
    "train_path = '/kaggle/temp/train/'\n",
    "sub_path = '/kaggle/temp/test_upload/'\n",
    "!unzip -q ..."
   ]
  },
  {
   "cell_type": "markdown",
   "metadata": {
    "_cell_guid": "4577463a-f0fb-4dd0-a65a-389d04107369",
    "_uuid": "4b52c1b3-a345-4192-8f77-bc586e99b4e6"
   },
   "source": [
    "**Работаем с Tensorflow v2**"
   ]
  },
  {
   "cell_type": "code",
   "execution_count": 3,
   "metadata": {
    "execution": {
     "iopub.execute_input": "2022-03-13T14:40:05.020848Z",
     "iopub.status.busy": "2022-03-13T14:40:05.020258Z",
     "iopub.status.idle": "2022-03-13T14:40:27.572719Z",
     "shell.execute_reply": "2022-03-13T14:40:27.571899Z",
     "shell.execute_reply.started": "2022-03-13T14:40:05.020803Z"
    }
   },
   "outputs": [],
   "source": [
    "!pip show  -q\n",
    "!pip install -q efficientnet\n",
    "# Загружаем обвязку под keras для использования продвинутых библиотек аугментации, например, albuminations\n",
    "!pip install git+https://github.com/mjkvaak/ImageDataAugmentor -q"
   ]
  },
  {
   "cell_type": "code",
   "execution_count": 4,
   "metadata": {
    "_cell_guid": "f16d02e7-05e6-46f7-b384-1f824d70ba9f",
    "_kg_hide-input": true,
    "_uuid": "0b3a12f4-4550-4bca-905a-758302960a6c",
    "execution": {
     "iopub.execute_input": "2022-03-13T14:40:27.576514Z",
     "iopub.status.busy": "2022-03-13T14:40:27.576285Z",
     "iopub.status.idle": "2022-03-13T14:40:34.106593Z",
     "shell.execute_reply": "2022-03-13T14:40:34.105841Z",
     "shell.execute_reply.started": "2022-03-13T14:40:27.576484Z"
    },
    "jupyter": {
     "outputs_hidden": false
    }
   },
   "outputs": [],
   "source": [
    "import numpy as np\n",
    "import pandas as pd\n",
    "import matplotlib.pyplot as plt\n",
    "import seaborn as sn\n",
    "import pickle\n",
    "import csv\n",
    "import os\n",
    "import random\n",
    "from kaggle_datasets import KaggleDatasets\n",
    "import zipfile\n",
    "import tensorflow as tf\n",
    "from keras import backend as K\n",
    "from keras.preprocessing.image import ImageDataGenerator\n",
    "from tensorflow.keras.preprocessing import image\n",
    "from keras.callbacks import LearningRateScheduler, ModelCheckpoint\n",
    "from keras.callbacks import Callback\n",
    "from keras.regularizers import l2\n",
    "from keras import optimizers\n",
    "from keras.models import Model\n",
    "from keras.utils import np_utils\n",
    "from keras.applications.xception import Xception\n",
    "from keras.layers import *\n",
    "\n",
    "import tensorflow.keras as keras\n",
    "import tensorflow.keras.models as M\n",
    "import tensorflow.keras.layers as L\n",
    "import tensorflow.keras.backend as K\n",
    "import tensorflow.keras.callbacks as C\n",
    "from tensorflow.keras.preprocessing import image\n",
    "from keras.callbacks import LearningRateScheduler,EarlyStopping, ModelCheckpoint, TensorBoard, ReduceLROnPlateau\n",
    "from tensorflow.keras import optimizers\n",
    "from tensorflow  import keras\n",
    "import efficientnet.tfkeras as efn\n",
    "\n",
    "\n",
    "from sklearn.model_selection import train_test_split, StratifiedKFold\n",
    "import csv\n",
    "import sys\n",
    "import os\n",
    "import PIL\n",
    "from PIL import ImageOps, ImageFilter\n",
    "#увеличим дефолтный размер графиков\n",
    "from pylab import rcParams\n",
    "rcParams['figure.figsize'] = 10, 5\n",
    "#графики в svg выглядят более четкими\n",
    "%config InlineBackend.figure_format = 'svg' \n",
    "%matplotlib inline\n",
    "\n",
    "print(os.listdir(\"../input\"))\n",
    "print('Python       :', sys.version.split('\\n')[0])\n",
    "print('Numpy        :', np.__version__)\n",
    "print('Tensorflow   :', tf.__version__)\n",
    "print('Keras        :', tf.keras.__version__)"
   ]
  },
  {
   "cell_type": "code",
   "execution_count": 5,
   "metadata": {
    "_cell_guid": "b8dbd3df-5fff-47a8-b69e-cb052d0786f5",
    "_kg_hide-output": true,
    "_uuid": "9fa3356e-e053-4d27-8b47-be84b3a07314",
    "execution": {
     "iopub.execute_input": "2022-03-13T14:40:34.108349Z",
     "iopub.status.busy": "2022-03-13T14:40:34.107917Z",
     "iopub.status.idle": "2022-03-13T14:40:34.817006Z",
     "shell.execute_reply": "2022-03-13T14:40:34.815910Z",
     "shell.execute_reply.started": "2022-03-13T14:40:34.108311Z"
    },
    "jupyter": {
     "outputs_hidden": false
    }
   },
   "outputs": [],
   "source": [
    "# Checking the GPU.\n",
    "!nvidia-smi"
   ]
  },
  {
   "cell_type": "code",
   "execution_count": 6,
   "metadata": {
    "_cell_guid": "3a79675c-7efb-4c0a-b330-748a8fbfb0f6",
    "_kg_hide-input": true,
    "_uuid": "d9efc634-8ebe-4c9d-9d7e-9cdb94857c7f",
    "execution": {
     "iopub.execute_input": "2022-03-13T14:40:34.820712Z",
     "iopub.status.busy": "2022-03-13T14:40:34.820122Z",
     "iopub.status.idle": "2022-03-13T14:40:38.247722Z",
     "shell.execute_reply": "2022-03-13T14:40:38.246681Z",
     "shell.execute_reply.started": "2022-03-13T14:40:34.820669Z"
    },
    "jupyter": {
     "outputs_hidden": false
    }
   },
   "outputs": [],
   "source": [
    "!pip freeze > requirements.txt"
   ]
  },
  {
   "cell_type": "markdown",
   "metadata": {
    "_cell_guid": "6a7b43d7-97de-4ea7-8776-ac0f8114e76b",
    "_uuid": "f5675fc9-bc67-447c-9498-ee6da843c7e4"
   },
   "source": [
    "# Основные настройки"
   ]
  },
  {
   "cell_type": "code",
   "execution_count": 7,
   "metadata": {
    "execution": {
     "iopub.execute_input": "2022-03-13T14:40:38.249909Z",
     "iopub.status.busy": "2022-03-13T14:40:38.249631Z",
     "iopub.status.idle": "2022-03-13T14:40:38.256868Z",
     "shell.execute_reply": "2022-03-13T14:40:38.255307Z",
     "shell.execute_reply.started": "2022-03-13T14:40:38.249871Z"
    }
   },
   "outputs": [],
   "source": [
    "sample_submission_path = '/kaggle/input/sample-submission.csv'\n",
    "train_path = '/kaggle/temp/train/'\n",
    "sub_path = '/kaggle/temp/test_upload/'"
   ]
  },
  {
   "cell_type": "code",
   "execution_count": 8,
   "metadata": {
    "_cell_guid": "2d15d59a-4ad5-4a66-a4eb-4469160edf4f",
    "_uuid": "28351749-22d1-4269-bb90-bb3c75805566",
    "execution": {
     "iopub.execute_input": "2022-03-13T14:40:38.260412Z",
     "iopub.status.busy": "2022-03-13T14:40:38.259886Z",
     "iopub.status.idle": "2022-03-13T14:40:38.817560Z",
     "shell.execute_reply": "2022-03-13T14:40:38.816623Z",
     "shell.execute_reply.started": "2022-03-13T14:40:38.260380Z"
    },
    "jupyter": {
     "outputs_hidden": false
    }
   },
   "outputs": [],
   "source": [
    "# В setup выносим основные настройки: так удобнее их перебирать в дальнейшем.\n",
    "\n",
    "EPOCHS               = 5  # начнем с 5 эпох на обучение\n",
    "BATCH_SIZE           = 64 # уменьшаем batch если сеть большая, иначе не влезет в память на GPU\n",
    "LR                   = 1e-4\n",
    "VAL_SPLIT            = 0.15 # сколько данных выделяем на тест = 15%\n",
    "\n",
    "CLASS_NUM            = 10  # количество классов в нашей задаче\n",
    "IMG_SIZE             = 224 # какого размера подаем изображения в сеть\n",
    "IMG_CHANNELS         = 3   # у RGB 3 канала\n",
    "input_shape          = (IMG_SIZE, IMG_SIZE, IMG_CHANNELS)\n",
    "\n",
    "DATA_PATH = '../input/'\n",
    "\n",
    "PATH = \"../working/car/\" # рабочая директория\n",
    "TEMP = '/kaggle/temp/'"
   ]
  },
  {
   "cell_type": "code",
   "execution_count": 9,
   "metadata": {
    "_cell_guid": "ac9e0940-7430-4926-8bbf-fc98f8c61434",
    "_kg_hide-input": true,
    "_uuid": "3ca4503d-b6f3-47e8-9463-5274731bfdfc",
    "execution": {
     "iopub.execute_input": "2022-03-13T14:40:38.819823Z",
     "iopub.status.busy": "2022-03-13T14:40:38.819214Z",
     "iopub.status.idle": "2022-03-13T14:40:38.829318Z",
     "shell.execute_reply": "2022-03-13T14:40:38.828527Z",
     "shell.execute_reply.started": "2022-03-13T14:40:38.819781Z"
    },
    "jupyter": {
     "outputs_hidden": false
    }
   },
   "outputs": [],
   "source": [
    "# Устаналиваем конкретное значение random seed для воспроизводимости\n",
    "os.makedirs(PATH ,exist_ok=True)\n",
    "\n",
    "RANDOM_SEED = 42\n",
    "np.random.seed(RANDOM_SEED)  \n",
    "PYTHONHASHSEED = 0"
   ]
  },
  {
   "cell_type": "markdown",
   "metadata": {
    "_cell_guid": "08b09a13-59b2-4709-88a6-3fa5c2db1100",
    "_uuid": "64a58218-1613-44a7-8f2f-3edc281848b8"
   },
   "source": [
    "# EDA / Анализ данных"
   ]
  },
  {
   "cell_type": "code",
   "execution_count": 10,
   "metadata": {
    "_cell_guid": "0fd53729-ad0d-4c8f-8f5c-e4a19df27ca1",
    "_uuid": "f461c569-80d3-416b-9402-e353b68485ea",
    "execution": {
     "iopub.execute_input": "2022-03-13T14:40:38.833191Z",
     "iopub.status.busy": "2022-03-13T14:40:38.831795Z",
     "iopub.status.idle": "2022-03-13T14:40:57.851491Z",
     "shell.execute_reply": "2022-03-13T14:40:57.850735Z",
     "shell.execute_reply.started": "2022-03-13T14:40:38.833159Z"
    },
    "jupyter": {
     "outputs_hidden": false
    }
   },
   "outputs": [],
   "source": [
    "print('Распаковываем картинки')\n",
    "# Will unzip the files so that you can see them..\n",
    "for data_zip in ['train.zip', 'test.zip']:\n",
    "    with zipfile.ZipFile(\"../input/\"+data_zip,\"r\") as z:\n",
    "        z.extractall(TEMP)\n",
    "        \n",
    "print(os.listdir(TEMP))"
   ]
  },
  {
   "cell_type": "code",
   "execution_count": 11,
   "metadata": {
    "_cell_guid": "70b5ac1a-81fa-4641-ab35-4358df05cccd",
    "_uuid": "a81c57cf-8dcd-40e2-bfcc-c5b833c6a9b1",
    "execution": {
     "iopub.execute_input": "2022-03-13T14:40:57.853025Z",
     "iopub.status.busy": "2022-03-13T14:40:57.852777Z",
     "iopub.status.idle": "2022-03-13T14:40:57.909359Z",
     "shell.execute_reply": "2022-03-13T14:40:57.908500Z",
     "shell.execute_reply.started": "2022-03-13T14:40:57.852990Z"
    },
    "jupyter": {
     "outputs_hidden": false
    }
   },
   "outputs": [],
   "source": [
    "train_df = pd.read_csv(DATA_PATH+\"train.csv\")\n",
    "sample_submission = pd.read_csv(DATA_PATH+\"sample-submission.csv\")\n",
    "train_df.head()"
   ]
  },
  {
   "cell_type": "code",
   "execution_count": 12,
   "metadata": {
    "_cell_guid": "e1f14ef7-a797-41f0-9106-8f1fdf2d2729",
    "_uuid": "8f272150-8b06-42cd-af67-fd03416ffb48",
    "execution": {
     "iopub.execute_input": "2022-03-13T14:40:57.912546Z",
     "iopub.status.busy": "2022-03-13T14:40:57.912021Z",
     "iopub.status.idle": "2022-03-13T14:40:58.864612Z",
     "shell.execute_reply": "2022-03-13T14:40:58.863102Z",
     "shell.execute_reply.started": "2022-03-13T14:40:57.912511Z"
    },
    "jupyter": {
     "outputs_hidden": false
    }
   },
   "outputs": [],
   "source": [
    "train_df.info()"
   ]
  },
  {
   "cell_type": "code",
   "execution_count": 13,
   "metadata": {
    "_cell_guid": "0fda67e9-1a75-45ad-85aa-845d5dc90c9e",
    "_uuid": "77f7f8a0-2631-4d02-9d11-cccb6f46bf80",
    "execution": {
     "iopub.execute_input": "2022-03-13T14:40:58.866748Z",
     "iopub.status.busy": "2022-03-13T14:40:58.866407Z",
     "iopub.status.idle": "2022-03-13T14:40:58.877961Z",
     "shell.execute_reply": "2022-03-13T14:40:58.877045Z",
     "shell.execute_reply.started": "2022-03-13T14:40:58.866711Z"
    },
    "jupyter": {
     "outputs_hidden": false
    }
   },
   "outputs": [],
   "source": [
    "train_df.Category.value_counts()"
   ]
  },
  {
   "cell_type": "code",
   "execution_count": 14,
   "metadata": {
    "_cell_guid": "a5145660-37f0-458f-a62f-bbd331ccfefe",
    "_uuid": "36cfd1e3-9a00-4db1-940f-086479465344",
    "execution": {
     "iopub.execute_input": "2022-03-13T14:40:58.879637Z",
     "iopub.status.busy": "2022-03-13T14:40:58.879177Z",
     "iopub.status.idle": "2022-03-13T14:40:59.163232Z",
     "shell.execute_reply": "2022-03-13T14:40:59.161809Z",
     "shell.execute_reply.started": "2022-03-13T14:40:58.879598Z"
    },
    "jupyter": {
     "outputs_hidden": false
    }
   },
   "outputs": [],
   "source": [
    "train_df.Category.value_counts().plot(kind='bar')"
   ]
  },
  {
   "cell_type": "code",
   "execution_count": 15,
   "metadata": {
    "_cell_guid": "7781c48c-7e04-4c70-8ad6-cf76a16548b2",
    "_uuid": "0e9d8a98-6555-4f63-8497-059a164d60a5",
    "execution": {
     "iopub.execute_input": "2022-03-13T14:40:59.167968Z",
     "iopub.status.busy": "2022-03-13T14:40:59.167727Z",
     "iopub.status.idle": "2022-03-13T14:40:59.172143Z",
     "shell.execute_reply": "2022-03-13T14:40:59.171302Z",
     "shell.execute_reply.started": "2022-03-13T14:40:59.167933Z"
    },
    "jupyter": {
     "outputs_hidden": false
    }
   },
   "outputs": [],
   "source": [
    "## распределение классов достаточно равномерное. никак дорабатывать не будем"
   ]
  },
  {
   "cell_type": "code",
   "execution_count": 16,
   "metadata": {
    "_cell_guid": "d2f4c82c-2dc3-4cd0-98af-3c5ded37a04f",
    "_kg_hide-input": true,
    "_uuid": "0af863f7-1007-4f5d-8814-82bcbc8d1bf7",
    "execution": {
     "iopub.execute_input": "2022-03-13T14:40:59.174402Z",
     "iopub.status.busy": "2022-03-13T14:40:59.173564Z",
     "iopub.status.idle": "2022-03-13T14:41:00.269674Z",
     "shell.execute_reply": "2022-03-13T14:41:00.267324Z",
     "shell.execute_reply.started": "2022-03-13T14:40:59.174357Z"
    },
    "jupyter": {
     "outputs_hidden": false
    }
   },
   "outputs": [],
   "source": [
    "print('Пример картинок (random sample)')\n",
    "plt.figure(figsize=(12,8))\n",
    "\n",
    "random_image = train_df.sample(n=9)\n",
    "random_image_paths = random_image['Id'].values\n",
    "random_image_cat = random_image['Category'].values\n",
    "\n",
    "for index, path in enumerate(random_image_paths):\n",
    "    im = PIL.Image.open(TEMP+f'train/{random_image_cat[index]}/{path}')\n",
    "    plt.subplot(3,3, index+1)\n",
    "    plt.imshow(im)\n",
    "    plt.title('Class: '+str(random_image_cat[index]))\n",
    "    plt.axis('off')\n",
    "plt.show()"
   ]
  },
  {
   "cell_type": "markdown",
   "metadata": {
    "_cell_guid": "463e8248-a958-49e0-8954-2a0818d4aebd",
    "_uuid": "828ef4ed-d014-4c35-bc3c-a6920e116580"
   },
   "source": [
    "Посмотрим на примеры картинок и их размеры чтоб понимать как их лучше обработать и сжимать."
   ]
  },
  {
   "cell_type": "code",
   "execution_count": 17,
   "metadata": {
    "_cell_guid": "20df275a-5128-4ccf-a988-44ec481cf819",
    "_uuid": "70a813cb-b1da-4d98-986f-f8914b1578f1",
    "execution": {
     "iopub.execute_input": "2022-03-13T14:41:00.271800Z",
     "iopub.status.busy": "2022-03-13T14:41:00.270862Z",
     "iopub.status.idle": "2022-03-13T14:41:00.520736Z",
     "shell.execute_reply": "2022-03-13T14:41:00.520056Z",
     "shell.execute_reply.started": "2022-03-13T14:41:00.271760Z"
    },
    "jupyter": {
     "outputs_hidden": false
    }
   },
   "outputs": [],
   "source": [
    "image = PIL.Image.open(TEMP+'/train/0/100380.jpg')\n",
    "imgplot = plt.imshow(image)\n",
    "plt.show()\n",
    "image.size"
   ]
  },
  {
   "cell_type": "markdown",
   "metadata": {
    "_cell_guid": "d2c13582-1152-4409-af7d-f9c8f4e4170a",
    "_uuid": "a8fb6509-420e-4de7-a71f-fc32ac730905"
   },
   "source": [
    "# Подготовка данных"
   ]
  },
  {
   "cell_type": "markdown",
   "metadata": {
    "_cell_guid": "e84fa83a-9e92-4d90-be6c-07ddf7984b5e",
    "_uuid": "f2b5a8a4-79de-4a4c-962c-a1c95cc7311b"
   },
   "source": [
    "### Аугментация данных"
   ]
  },
  {
   "cell_type": "code",
   "execution_count": 18,
   "metadata": {
    "_cell_guid": "5e2b494c-b4b2-4ebe-abc8-5a2278a38693",
    "_uuid": "44f19ddd-eb67-4300-b019-f7483cd66abf",
    "execution": {
     "iopub.execute_input": "2022-03-13T14:41:00.522804Z",
     "iopub.status.busy": "2022-03-13T14:41:00.522281Z",
     "iopub.status.idle": "2022-03-13T14:41:01.567261Z",
     "shell.execute_reply": "2022-03-13T14:41:01.566376Z",
     "shell.execute_reply.started": "2022-03-13T14:41:00.522763Z"
    },
    "jupyter": {
     "outputs_hidden": false
    }
   },
   "outputs": [],
   "source": [
    "from ImageDataAugmentor.image_data_augmentor import *\n",
    "import albumentations as A"
   ]
  },
  {
   "cell_type": "code",
   "execution_count": 19,
   "metadata": {
    "_cell_guid": "9b356a79-9b14-4850-80ea-6a6c5c5317c2",
    "_uuid": "2000e61b-da8d-4535-9651-74e6c2ed0680",
    "execution": {
     "iopub.execute_input": "2022-03-13T14:41:01.568888Z",
     "iopub.status.busy": "2022-03-13T14:41:01.568644Z",
     "iopub.status.idle": "2022-03-13T14:41:01.577391Z",
     "shell.execute_reply": "2022-03-13T14:41:01.576186Z",
     "shell.execute_reply.started": "2022-03-13T14:41:01.568855Z"
    },
    "jupyter": {
     "outputs_hidden": false
    }
   },
   "outputs": [],
   "source": [
    "# аугментация данных важна, когда мы работаем с небольшим датасетом. Это как раз наш случай.\n",
    "# Официальная документация: https://keras.io/preprocessing/image/\n",
    "\n",
    "#AUGMENTATIONS = albumentations.Compose([\n",
    "#    albumentations.HorizontalFlip(p=0.5),#Отразите ввод по горизонтали вокруг оси y.\n",
    "#    albumentations.Rotate(limit=30, interpolation=1, border_mode=4, value=None, mask_value=None, always_apply=False, p=0.5),#Поверните ввод на угол, случайно выбранный из равномерного распределения.\n",
    "#    albumentations.OneOf([\n",
    "#        albumentations.CenterCrop(height=220, width=200),# Обрежьте центральную часть входа.\n",
    "#        albumentations.CenterCrop(height=200, width=220),\n",
    "#    ],p=0.5),\n",
    "#    albumentations.OneOf([\n",
    "#        albumentations.RandomBrightnessContrast(brightness_limit=0.3, contrast_limit=0.3),#Произвольно изменяйте яркость и контраст входного изображения.\n",
    "#        albumentations.RandomBrightnessContrast(brightness_limit=0.1, contrast_limit=0.1)\n",
    "#    ],p=0.5),\n",
    "#    albumentations.GaussianBlur(p=0.05),#Размытие входного изображения с помощью фильтра Гаусса\n",
    "#    albumentations.HueSaturationValue(p=0.5),# Произвольно меняет оттенок, насыщенность, значение входного изображения.\n",
    "\n",
    "\n",
    " #   albumentations.RGBShift(p=0.5),# Произвольно смещайте значения для каждого канала входного изображения RGB.\n",
    "\n",
    "  #  albumentations.FancyPCA(alpha=0.1, always_apply=False, p=0.5), #Увеличьте изображение RGB с помощью FancyPCA \n",
    "  #  albumentations.Resize(IMG_SIZE, IMG_SIZE)#Измените размер ввода до заданной высоты и ширины.\n",
    "#])\n",
    "      \n",
    "#train_datagen = ImageDataAugmentor(\n",
    "#        rescale=1./255,\n",
    "#        augment = AUGMENTATIONS,\n",
    "#        validation_split=VAL_SPLIT,\n",
    "#        )\n",
    "\n",
    "#test_datagen = ImageDataGenerator(rescale=1. / 255)\n",
    "#Рекомендация Подключите более продвинутые библиотеки аугментации изображений (например: albumentations или imgaug, для них есть специальные \"обертки\" под Keras, например: https://github.com/mjkvaak/ImageDataAugmentor)"
   ]
  },
  {
   "cell_type": "code",
   "execution_count": 20,
   "metadata": {
    "execution": {
     "iopub.execute_input": "2022-03-13T14:41:01.578981Z",
     "iopub.status.busy": "2022-03-13T14:41:01.578552Z",
     "iopub.status.idle": "2022-03-13T14:41:01.600364Z",
     "shell.execute_reply": "2022-03-13T14:41:01.599751Z",
     "shell.execute_reply.started": "2022-03-13T14:41:01.578942Z"
    }
   },
   "outputs": [],
   "source": [
    "#################################### new\n",
    "AUGMENTATIONS = A.Compose([\n",
    "    A.GaussianBlur(p=0.05),\n",
    "    A.RandomBrightness(limit=0.2, p=0.5),\n",
    "    A.ShiftScaleRotate(shift_limit=0.0625, \n",
    "                       scale_limit=0.01, \n",
    "                       interpolation=1, \n",
    "                       border_mode=4, \n",
    "                       rotate_limit=20, \n",
    "                       p=.75),\n",
    "    A.OneOf([\n",
    "        A.CenterCrop(height=224, width=200),\n",
    "        A.CenterCrop(height=200, width=224)],\n",
    "        p=0.5),\n",
    "    A.OneOf([\n",
    "        A.RandomBrightnessContrast(brightness_limit=0.3, \n",
    "                                                contrast_limit=0.3),\n",
    "        A.RandomBrightnessContrast(brightness_limit=0.1, \n",
    "                                                contrast_limit=0.1)],\n",
    "        p=0.5),\n",
    "    A.HorizontalFlip(p=0.5),\n",
    "    A.HueSaturationValue(p=0.5),\n",
    "    A.RGBShift(p=0.5),\n",
    "    A.FancyPCA(alpha=0.1, \n",
    "               always_apply=False, \n",
    "               p=0.5),\n",
    "    A.Resize(IMG_SIZE, IMG_SIZE)\n",
    "])\n",
    "####################################\n",
    "#изменила\n",
    "train_datagen = ImageDataAugmentor(\n",
    "        rescale=1./255,\n",
    "        augment = AUGMENTATIONS,\n",
    "        validation_split=VAL_SPLIT,\n",
    "        )\n",
    "\n",
    "test_datagen = ImageDataGenerator(rescale=1. / 255)"
   ]
  },
  {
   "cell_type": "markdown",
   "metadata": {
    "_cell_guid": "28b81e53-9295-4cb0-84c6-e3ea23789042",
    "_uuid": "b66b6dbb-8ec4-4d92-b54a-ede51bcd906b"
   },
   "source": [
    "### Генерация данных"
   ]
  },
  {
   "cell_type": "code",
   "execution_count": 21,
   "metadata": {
    "_cell_guid": "001448d8-e746-4050-bf22-2f31a402d36c",
    "_uuid": "9fd5f3e1-dc0d-41bd-82ff-3c7039066484",
    "execution": {
     "iopub.execute_input": "2022-03-13T14:41:01.601953Z",
     "iopub.status.busy": "2022-03-13T14:41:01.601509Z",
     "iopub.status.idle": "2022-03-13T14:41:02.311970Z",
     "shell.execute_reply": "2022-03-13T14:41:02.311219Z",
     "shell.execute_reply.started": "2022-03-13T14:41:01.601919Z"
    },
    "jupyter": {
     "outputs_hidden": false
    }
   },
   "outputs": [],
   "source": [
    "# Завернем наши данные в генератор:\n",
    "\n",
    "train_generator = train_datagen.flow_from_directory(\n",
    "    TEMP+'train/',      # директория где расположены папки с картинками \n",
    "    target_size = (IMG_SIZE, IMG_SIZE),\n",
    "    batch_size = BATCH_SIZE,\n",
    "    class_mode = 'categorical',\n",
    "    shuffle = True, seed=RANDOM_SEED,\n",
    "    subset = 'training') # set as training data\n",
    "\n",
    "test_generator = train_datagen.flow_from_directory(\n",
    "    TEMP+'train/',\n",
    "    target_size = (IMG_SIZE, IMG_SIZE),\n",
    "    batch_size = BATCH_SIZE,\n",
    "    class_mode = 'categorical',\n",
    "    shuffle= True, seed=RANDOM_SEED,\n",
    "    subset= 'validation') # set as validation data\n",
    "\n",
    "test_sub_generator = test_datagen.flow_from_dataframe( \n",
    "    dataframe = sample_submission,\n",
    "    directory = TEMP+'test_upload/',\n",
    "    x_col=\"Id\",\n",
    "    y_col=None,\n",
    "    shuffle=False,\n",
    "    class_mode=None,\n",
    "    seed=RANDOM_SEED,\n",
    "    target_size=(IMG_SIZE, IMG_SIZE),\n",
    "    batch_size=BATCH_SIZE,)\n",
    "\n",
    "# Обратите внимание, что для сабмита мы используем другой источник test_datagen.flow_from_dataframe. Как вы думаете, почему?"
   ]
  },
  {
   "cell_type": "code",
   "execution_count": 22,
   "metadata": {
    "_cell_guid": "220f6e1c-1fe0-42bf-b45c-80908f929d86",
    "_uuid": "334a43cc-de7d-4a7f-9c14-62a5d2d23853",
    "execution": {
     "iopub.execute_input": "2022-03-13T14:41:02.313722Z",
     "iopub.status.busy": "2022-03-13T14:41:02.313309Z",
     "iopub.status.idle": "2022-03-13T14:41:03.535888Z",
     "shell.execute_reply": "2022-03-13T14:41:03.535290Z",
     "shell.execute_reply.started": "2022-03-13T14:41:02.313683Z"
    },
    "jupyter": {
     "outputs_hidden": false
    }
   },
   "outputs": [],
   "source": [
    "# изображения после аугментации\n",
    "\n",
    "from skimage import io\n",
    "\n",
    "def imshow(image_RGB):\n",
    "  io.imshow(image_RGB)\n",
    "  io.show()\n",
    "\n",
    "x,y = train_generator.next() # вызываем трейн-генератор\n",
    "print('Пример картинок из train_generator')\n",
    "plt.figure(figsize=(12,8))\n",
    "\n",
    "for i in range(0,3):\n",
    "    image = x[i]\n",
    "    plt.subplot(3,3, i+1)\n",
    "    plt.imshow(image)\n",
    "    \n",
    "plt.show()"
   ]
  },
  {
   "cell_type": "markdown",
   "metadata": {
    "_cell_guid": "c14428f5-4760-40d5-b189-b8952353869b",
    "_uuid": "abbec667-3fab-4de1-a1c4-c88d45ca6d68"
   },
   "source": [
    "Callbackss"
   ]
  },
  {
   "cell_type": "code",
   "execution_count": 23,
   "metadata": {
    "_cell_guid": "660200ed-7e29-4497-99c0-83617d354087",
    "_uuid": "8dd675e1-bb07-49bc-8f57-f78d32c66460",
    "execution": {
     "iopub.execute_input": "2022-03-13T14:41:03.538198Z",
     "iopub.status.busy": "2022-03-13T14:41:03.537324Z",
     "iopub.status.idle": "2022-03-13T14:41:04.497761Z",
     "shell.execute_reply": "2022-03-13T14:41:04.497160Z",
     "shell.execute_reply.started": "2022-03-13T14:41:03.538158Z"
    },
    "jupyter": {
     "outputs_hidden": false
    }
   },
   "outputs": [],
   "source": [
    "x,y = test_generator.next() \n",
    "print('Пример картинок из test_generator')\n",
    "plt.figure(figsize=(12,8))\n",
    "\n",
    "for i in range(0,3):\n",
    "    image = x[i]\n",
    "    plt.subplot(3,3, i+1)\n",
    "    plt.imshow(image)\n",
    "    \n",
    "plt.show()"
   ]
  },
  {
   "cell_type": "markdown",
   "metadata": {},
   "source": []
  },
  {
   "cell_type": "code",
   "execution_count": 24,
   "metadata": {
    "_cell_guid": "401e0fd3-7e48-41de-8727-d8e6a04c4785",
    "_uuid": "c852e98d-374a-479c-874c-9706c5778b22",
    "execution": {
     "iopub.execute_input": "2022-03-13T14:41:04.499942Z",
     "iopub.status.busy": "2022-03-13T14:41:04.499408Z",
     "iopub.status.idle": "2022-03-13T14:41:04.505728Z",
     "shell.execute_reply": "2022-03-13T14:41:04.504129Z",
     "shell.execute_reply.started": "2022-03-13T14:41:04.499899Z"
    },
    "jupyter": {
     "outputs_hidden": false
    }
   },
   "outputs": [],
   "source": [
    "checkpoint = ModelCheckpoint('best_model.hdf5' , monitor = ['val_accuracy'] , verbose = 1  , mode = 'max')\n",
    "callbacks_list = [checkpoint]"
   ]
  },
  {
   "cell_type": "markdown",
   "metadata": {
    "_cell_guid": "0e92cbf6-d76b-468a-899f-7d8766aba0df",
    "_uuid": "705c0bc5-a1e0-42d1-8b6c-60e138b6f8f0"
   },
   "source": [
    "# Построение модели"
   ]
  },
  {
   "cell_type": "markdown",
   "metadata": {
    "_cell_guid": "df163727-1838-4102-9286-7ad1c825983e",
    "_uuid": "c580646e-0332-40a2-9316-b4c99068602f"
   },
   "source": [
    "### Загружаем предобученную сеть Xception:"
   ]
  },
  {
   "cell_type": "code",
   "execution_count": 25,
   "metadata": {
    "_cell_guid": "7b4ab523-8c41-4d24-b947-d0810992a227",
    "_kg_hide-output": true,
    "_uuid": "a82fe54e-a87c-4063-be09-59f4434d2337",
    "execution": {
     "iopub.execute_input": "2022-03-13T14:41:04.507440Z",
     "iopub.status.busy": "2022-03-13T14:41:04.506971Z",
     "iopub.status.idle": "2022-03-13T14:41:09.246179Z",
     "shell.execute_reply": "2022-03-13T14:41:09.245373Z",
     "shell.execute_reply.started": "2022-03-13T14:41:04.507399Z"
    },
    "jupyter": {
     "outputs_hidden": false
    }
   },
   "outputs": [],
   "source": [
    "base_model = Xception(weights='imagenet', include_top=False, input_shape = input_shape)"
   ]
  },
  {
   "cell_type": "code",
   "execution_count": 26,
   "metadata": {
    "_cell_guid": "17687575-9322-451c-b03d-2124dbe2e454",
    "_kg_hide-input": true,
    "_kg_hide-output": true,
    "_uuid": "8d9b9a6e-a1dc-4fa4-8f10-bca15a4b2fd0",
    "execution": {
     "iopub.execute_input": "2022-03-13T14:41:09.247789Z",
     "iopub.status.busy": "2022-03-13T14:41:09.247519Z",
     "iopub.status.idle": "2022-03-13T14:41:09.314661Z",
     "shell.execute_reply": "2022-03-13T14:41:09.313946Z",
     "shell.execute_reply.started": "2022-03-13T14:41:09.247754Z"
    },
    "jupyter": {
     "outputs_hidden": false
    }
   },
   "outputs": [],
   "source": [
    "base_model.summary()"
   ]
  },
  {
   "cell_type": "code",
   "execution_count": 27,
   "metadata": {
    "_cell_guid": "cfe72a1f-28ad-49ca-ad35-02775b4763da",
    "_uuid": "df2525ec-feba-4176-8906-7dd66368878d",
    "execution": {
     "iopub.execute_input": "2022-03-13T14:41:09.316268Z",
     "iopub.status.busy": "2022-03-13T14:41:09.316011Z",
     "iopub.status.idle": "2022-03-13T14:41:09.325951Z",
     "shell.execute_reply": "2022-03-13T14:41:09.325162Z",
     "shell.execute_reply.started": "2022-03-13T14:41:09.316217Z"
    },
    "jupyter": {
     "outputs_hidden": false
    }
   },
   "outputs": [],
   "source": [
    "# Чтобы хорошо обученные признаки на Imagenet не затирались в самом начале нашего обучения,обучим только \"голову\", \n",
    "#для этого заморозим веса Xception \n",
    "base_model.trainable = False"
   ]
  },
  {
   "cell_type": "code",
   "execution_count": 28,
   "metadata": {
    "_cell_guid": "38aec633-371a-4ff0-a496-ded60f485dbf",
    "_uuid": "024739da-c98b-4219-babf-c2d945567b8c",
    "execution": {
     "iopub.execute_input": "2022-03-13T14:41:09.327746Z",
     "iopub.status.busy": "2022-03-13T14:41:09.327466Z",
     "iopub.status.idle": "2022-03-13T14:41:09.653456Z",
     "shell.execute_reply": "2022-03-13T14:41:09.652698Z",
     "shell.execute_reply.started": "2022-03-13T14:41:09.327680Z"
    },
    "jupyter": {
     "outputs_hidden": false
    }
   },
   "outputs": [],
   "source": [
    "# Устанавливаем новую \"голову\" (head)\n",
    "\n",
    "model=M.Sequential()\n",
    "model.add(base_model)\n",
    "model.add(L.GlobalAveragePooling2D(),) # объединяем все признаки в единый вектор \n",
    "\n",
    "\n",
    "model.add(L.Dense(256, activation='relu'))\n",
    "model.add(L.BatchNormalization())\n",
    "model.add(L.Dropout(0.25))\n",
    "model.add(L.Dense(CLASS_NUM, activation='softmax'))"
   ]
  },
  {
   "cell_type": "code",
   "execution_count": 29,
   "metadata": {
    "_cell_guid": "168702db-f27d-4d23-b284-93be9417fac8",
    "_uuid": "1c14f8d2-f6d3-4f10-8be8-836f74eb4da2",
    "execution": {
     "iopub.execute_input": "2022-03-13T14:41:09.654961Z",
     "iopub.status.busy": "2022-03-13T14:41:09.654733Z",
     "iopub.status.idle": "2022-03-13T14:41:09.673006Z",
     "shell.execute_reply": "2022-03-13T14:41:09.672289Z",
     "shell.execute_reply.started": "2022-03-13T14:41:09.654930Z"
    },
    "jupyter": {
     "outputs_hidden": false
    }
   },
   "outputs": [],
   "source": [
    "model.compile(loss=\"categorical_crossentropy\", optimizer=optimizers.Adam(lr=LR), metrics=[\"accuracy\"])"
   ]
  },
  {
   "cell_type": "code",
   "execution_count": 30,
   "metadata": {
    "_cell_guid": "7cf40d5b-7f9b-44fa-8abf-8b3e34e969f0",
    "_uuid": "6ace4f29-f824-4275-a28a-3203858cac6f",
    "execution": {
     "iopub.execute_input": "2022-03-13T14:41:09.675564Z",
     "iopub.status.busy": "2022-03-13T14:41:09.675302Z",
     "iopub.status.idle": "2022-03-13T14:41:09.681634Z",
     "shell.execute_reply": "2022-03-13T14:41:09.680739Z",
     "shell.execute_reply.started": "2022-03-13T14:41:09.675531Z"
    },
    "jupyter": {
     "outputs_hidden": false
    }
   },
   "outputs": [],
   "source": [
    "# сколько слоев\n",
    "print(len(model.layers))\n",
    "len(model.trainable_variables)\n",
    "# Check the trainable status of the individual layers\n",
    "for layer in model.layers:\n",
    "    print(layer, layer.trainable)"
   ]
  },
  {
   "cell_type": "markdown",
   "metadata": {
    "_cell_guid": "3401e422-07de-4548-ae67-8e07727aa889",
    "_uuid": "078af1c8-0325-4000-b42a-18d5bf9a648e"
   },
   "source": [
    "Обучение"
   ]
  },
  {
   "cell_type": "code",
   "execution_count": 31,
   "metadata": {
    "_cell_guid": "bf15326d-f885-41d2-8d88-109add6251d9",
    "_uuid": "9a1a9ed6-57e1-4b40-bcac-4e133a709754",
    "execution": {
     "iopub.execute_input": "2022-03-13T14:41:09.683661Z",
     "iopub.status.busy": "2022-03-13T14:41:09.683143Z",
     "iopub.status.idle": "2022-03-13T14:56:00.181438Z",
     "shell.execute_reply": "2022-03-13T14:56:00.180672Z",
     "shell.execute_reply.started": "2022-03-13T14:41:09.683624Z"
    },
    "jupyter": {
     "outputs_hidden": false
    }
   },
   "outputs": [],
   "source": [
    "# Обучаем\n",
    "\n",
    "history = model.fit(\n",
    "        train_generator,\n",
    "        steps_per_epoch = len(train_generator),\n",
    "        validation_data = test_generator, \n",
    "        validation_steps = len(test_generator),\n",
    "        epochs = EPOCHS,\n",
    "        callbacks = callbacks_list\n",
    ")"
   ]
  },
  {
   "cell_type": "code",
   "execution_count": 32,
   "metadata": {
    "_cell_guid": "9cc05144-0e6c-4217-80f5-f5f3fe924189",
    "_uuid": "a4e9c979-a134-4e1f-9abe-ffd648f2541e",
    "execution": {
     "iopub.execute_input": "2022-03-13T14:56:00.183078Z",
     "iopub.status.busy": "2022-03-13T14:56:00.182847Z",
     "iopub.status.idle": "2022-03-13T14:56:00.717168Z",
     "shell.execute_reply": "2022-03-13T14:56:00.716428Z",
     "shell.execute_reply.started": "2022-03-13T14:56:00.183045Z"
    },
    "jupyter": {
     "outputs_hidden": false
    }
   },
   "outputs": [],
   "source": [
    "model.save('../working/model_last.hdf5')\n",
    "model.load_weights('best_model.hdf5')"
   ]
  },
  {
   "cell_type": "code",
   "execution_count": 33,
   "metadata": {
    "_cell_guid": "63bcb4ab-6599-4c19-aa1e-edd7d372121f",
    "_uuid": "e122f333-4779-4b0f-bda3-ef9d5037f151",
    "execution": {
     "iopub.execute_input": "2022-03-13T14:56:00.718893Z",
     "iopub.status.busy": "2022-03-13T14:56:00.718640Z",
     "iopub.status.idle": "2022-03-13T14:56:42.392792Z",
     "shell.execute_reply": "2022-03-13T14:56:42.392007Z",
     "shell.execute_reply.started": "2022-03-13T14:56:00.718859Z"
    },
    "jupyter": {
     "outputs_hidden": false
    }
   },
   "outputs": [],
   "source": [
    "scores = model.evaluate_generator(test_generator, steps=len(test_generator), verbose=1)\n",
    "print(\"Accuracy: %.2f%%\" % (scores[1]*100))"
   ]
  },
  {
   "cell_type": "code",
   "execution_count": 34,
   "metadata": {
    "_cell_guid": "2f532a5d-893e-44e5-ba3c-49916703560c",
    "_uuid": "579f1215-c960-4e5d-813e-1b18ed6a55ef",
    "execution": {
     "iopub.execute_input": "2022-03-13T14:56:42.394567Z",
     "iopub.status.busy": "2022-03-13T14:56:42.394284Z",
     "iopub.status.idle": "2022-03-13T14:56:42.858628Z",
     "shell.execute_reply": "2022-03-13T14:56:42.856777Z",
     "shell.execute_reply.started": "2022-03-13T14:56:42.394533Z"
    },
    "jupyter": {
     "outputs_hidden": false
    }
   },
   "outputs": [],
   "source": [
    "acc = history.history['accuracy']\n",
    "val_acc = history.history['val_accuracy']\n",
    "loss = history.history['loss']\n",
    "val_loss = history.history['val_loss']\n",
    " \n",
    "epochs = range(len(acc))\n",
    " \n",
    "plt.plot(epochs, acc, 'b', label='Training acc')\n",
    "plt.plot(epochs, val_acc, 'r', label='Validation acc')\n",
    "plt.title('Training and validation accuracy')\n",
    "plt.legend()\n",
    " \n",
    "plt.figure()\n",
    " \n",
    "plt.plot(epochs, loss, 'b', label='Training loss')\n",
    "plt.plot(epochs, val_loss, 'r', label='Validation loss')\n",
    "plt.title('Training and validation loss')\n",
    "plt.legend()\n",
    " \n",
    "plt.show()"
   ]
  },
  {
   "cell_type": "code",
   "execution_count": 35,
   "metadata": {
    "_cell_guid": "1b392cec-3e29-4a55-a05d-f2e53c311c16",
    "_uuid": "a6e463f8-fd5c-491f-94a9-5227b8388fbd",
    "execution": {
     "iopub.execute_input": "2022-03-13T14:56:42.860776Z",
     "iopub.status.busy": "2022-03-13T14:56:42.860371Z",
     "iopub.status.idle": "2022-03-13T14:56:42.869421Z",
     "shell.execute_reply": "2022-03-13T14:56:42.868365Z",
     "shell.execute_reply.started": "2022-03-13T14:56:42.860722Z"
    },
    "jupyter": {
     "outputs_hidden": false
    }
   },
   "outputs": [],
   "source": [
    "test_sub_generator.samples"
   ]
  },
  {
   "cell_type": "code",
   "execution_count": 36,
   "metadata": {
    "_cell_guid": "72266c19-44ab-4960-a60f-a1e69087caff",
    "_uuid": "b5a2e5b4-3303-428b-a662-9125dbf26173",
    "execution": {
     "iopub.execute_input": "2022-03-13T14:56:42.871315Z",
     "iopub.status.busy": "2022-03-13T14:56:42.870713Z",
     "iopub.status.idle": "2022-03-13T14:57:20.781955Z",
     "shell.execute_reply": "2022-03-13T14:57:20.781279Z",
     "shell.execute_reply.started": "2022-03-13T14:56:42.871274Z"
    },
    "jupyter": {
     "outputs_hidden": false
    }
   },
   "outputs": [],
   "source": [
    "test_sub_generator.reset()\n",
    "predictions = model.predict_generator(test_sub_generator, steps=len(test_sub_generator), verbose=1) \n",
    "predictions = np.argmax(predictions, axis=-1) #multiple categories\n",
    "label_map = (train_generator.class_indices)\n",
    "label_map = dict((v,k) for k,v in label_map.items()) #flip k,v\n",
    "predictions = [label_map[k] for k in predictions]"
   ]
  },
  {
   "cell_type": "code",
   "execution_count": 37,
   "metadata": {
    "_cell_guid": "8a23bf64-0ea4-4a65-a148-9ebeea7eff6b",
    "_uuid": "55ee8f2c-4b08-475c-9adf-0094ab066809",
    "execution": {
     "iopub.execute_input": "2022-03-13T14:57:20.783828Z",
     "iopub.status.busy": "2022-03-13T14:57:20.783124Z",
     "iopub.status.idle": "2022-03-13T14:57:20.811370Z",
     "shell.execute_reply": "2022-03-13T14:57:20.810720Z",
     "shell.execute_reply.started": "2022-03-13T14:57:20.783789Z"
    },
    "jupyter": {
     "outputs_hidden": false
    }
   },
   "outputs": [],
   "source": [
    "filenames_with_dir=test_sub_generator.filenames\n",
    "submission = pd.DataFrame({'Id':filenames_with_dir, 'Category':predictions}, columns=['Id', 'Category'])\n",
    "submission['Id'] = submission['Id'].replace('test_upload/','')\n",
    "submission.to_csv('submission_xception61.23%.csv', index=False)\n",
    "print('Save submit')"
   ]
  },
  {
   "cell_type": "markdown",
   "metadata": {
    "_cell_guid": "443b56c2-9470-4464-9bae-2e009d9bf5f5",
    "_uuid": "95fe97de-b110-4d6c-aee8-7ddab7bb13e0"
   },
   "source": [
    "обучение половины весов FineTuning"
   ]
  },
  {
   "cell_type": "code",
   "execution_count": 38,
   "metadata": {
    "_cell_guid": "721d6e34-6d93-48b0-bb30-00dd84eb9fca",
    "_uuid": "132ebec3-2dac-4a18-8ae6-96e6dc897326",
    "execution": {
     "iopub.execute_input": "2022-03-13T14:57:20.812776Z",
     "iopub.status.busy": "2022-03-13T14:57:20.812459Z",
     "iopub.status.idle": "2022-03-13T14:57:20.818365Z",
     "shell.execute_reply": "2022-03-13T14:57:20.817436Z",
     "shell.execute_reply.started": "2022-03-13T14:57:20.812741Z"
    },
    "jupyter": {
     "outputs_hidden": false
    }
   },
   "outputs": [],
   "source": [
    "# Let's take a look to see how many layers are in the base model\n",
    "print(\"Number of layers in the base model: \", len(base_model.layers))"
   ]
  },
  {
   "cell_type": "code",
   "execution_count": 39,
   "metadata": {
    "_cell_guid": "31c3adf5-224f-40a9-8ebe-5f02a1c04028",
    "_uuid": "46ce96e6-a01f-439c-a917-a453de159f7c",
    "execution": {
     "iopub.execute_input": "2022-03-13T14:57:20.820489Z",
     "iopub.status.busy": "2022-03-13T14:57:20.819937Z",
     "iopub.status.idle": "2022-03-13T14:57:20.826007Z",
     "shell.execute_reply": "2022-03-13T14:57:20.825153Z",
     "shell.execute_reply.started": "2022-03-13T14:57:20.820452Z"
    },
    "jupyter": {
     "outputs_hidden": false
    }
   },
   "outputs": [],
   "source": [
    "#base_model.trainable = True\n",
    "\n",
    "# Fine-tune from this layer onwards\n",
    "#fine_tune_at = len(base_model.layers)//2\n",
    "\n",
    "# Freeze all the layers before the `fine_tune_at` layer\n",
    "#for layer in base_model.layers[:fine_tune_at]:\n",
    "    #layer.trainable =  False"
   ]
  },
  {
   "cell_type": "code",
   "execution_count": 40,
   "metadata": {
    "_cell_guid": "2465488e-c03a-4e55-85db-bc363dd25a97",
    "_uuid": "68132f40-31ea-47a1-95cf-465f23e0f193",
    "execution": {
     "iopub.execute_input": "2022-03-13T14:57:20.828373Z",
     "iopub.status.busy": "2022-03-13T14:57:20.828095Z",
     "iopub.status.idle": "2022-03-13T14:57:20.833455Z",
     "shell.execute_reply": "2022-03-13T14:57:20.832545Z",
     "shell.execute_reply.started": "2022-03-13T14:57:20.828340Z"
    },
    "jupyter": {
     "outputs_hidden": false
    }
   },
   "outputs": [],
   "source": [
    "#len(base_model.trainable_variables)"
   ]
  },
  {
   "cell_type": "code",
   "execution_count": 41,
   "metadata": {
    "_cell_guid": "3e52ec5d-b539-470e-9c36-cd0101674c9c",
    "_uuid": "bc029746-8924-4352-8fc4-075ad5d5d637",
    "execution": {
     "iopub.execute_input": "2022-03-13T14:57:20.835327Z",
     "iopub.status.busy": "2022-03-13T14:57:20.835045Z",
     "iopub.status.idle": "2022-03-13T14:57:20.840810Z",
     "shell.execute_reply": "2022-03-13T14:57:20.840104Z",
     "shell.execute_reply.started": "2022-03-13T14:57:20.835293Z"
    },
    "jupyter": {
     "outputs_hidden": false
    }
   },
   "outputs": [],
   "source": [
    "# Check the trainable status of the individual layers\n",
    "#for layer in model.layers:\n",
    "    #print(layer, layer.trainable)"
   ]
  },
  {
   "cell_type": "code",
   "execution_count": 42,
   "metadata": {
    "_cell_guid": "675d9895-f8c1-4de2-b2b3-8b17fcfb5980",
    "_uuid": "aafb7cda-ac05-45da-be6a-0ea69c690ae6",
    "execution": {
     "iopub.execute_input": "2022-03-13T14:57:20.846867Z",
     "iopub.status.busy": "2022-03-13T14:57:20.846669Z",
     "iopub.status.idle": "2022-03-13T14:57:20.851229Z",
     "shell.execute_reply": "2022-03-13T14:57:20.850270Z",
     "shell.execute_reply.started": "2022-03-13T14:57:20.846844Z"
    },
    "jupyter": {
     "outputs_hidden": false
    }
   },
   "outputs": [],
   "source": [
    "#EPOCHS               = 15  # эпох на обучение\n",
    "#BATCH_SIZE           = 32 # уменьшаем batch если сеть большая, иначе не влезет в память на GPU"
   ]
  },
  {
   "cell_type": "code",
   "execution_count": 43,
   "metadata": {
    "_cell_guid": "38230614-71bb-4fe8-a696-b33425c75f9b",
    "_uuid": "448d9159-4b37-40d4-864d-85b262e3937f",
    "execution": {
     "iopub.execute_input": "2022-03-13T14:57:20.853482Z",
     "iopub.status.busy": "2022-03-13T14:57:20.852849Z",
     "iopub.status.idle": "2022-03-13T14:57:20.858473Z",
     "shell.execute_reply": "2022-03-13T14:57:20.857563Z",
     "shell.execute_reply.started": "2022-03-13T14:57:20.853447Z"
    },
    "jupyter": {
     "outputs_hidden": false
    }
   },
   "outputs": [],
   "source": [
    "#model.compile(loss=\"categorical_crossentropy\", optimizer=optimizers.Adam(lr=LR), metrics=[\"accuracy\"])"
   ]
  },
  {
   "cell_type": "code",
   "execution_count": 44,
   "metadata": {
    "_cell_guid": "d85c31d8-3dfb-4628-990a-69232a2669a6",
    "_kg_hide-input": true,
    "_uuid": "397d3710-ce70-4dbe-86a8-647011bae6cd",
    "execution": {
     "iopub.execute_input": "2022-03-13T14:57:20.860287Z",
     "iopub.status.busy": "2022-03-13T14:57:20.860015Z",
     "iopub.status.idle": "2022-03-13T14:57:20.868571Z",
     "shell.execute_reply": "2022-03-13T14:57:20.867794Z",
     "shell.execute_reply.started": "2022-03-13T14:57:20.860234Z"
    },
    "jupyter": {
     "outputs_hidden": false
    }
   },
   "outputs": [],
   "source": [
    "# Обучаем\n",
    "#history = model.fit(\n",
    "        #train_generator,\n",
    "        #steps_per_epoch = len(train_generator),\n",
    "        #validation_data = test_generator, \n",
    "        #validation_steps = len(test_generator),\n",
    "        #epochs = EPOCHS,\n",
    "        #callbacks = callbacks_list\n",
    "#)"
   ]
  },
  {
   "cell_type": "code",
   "execution_count": 45,
   "metadata": {
    "_cell_guid": "7f347053-68ca-4289-b9f6-161fb123898d",
    "_uuid": "9e1c9f34-483c-422c-89e1-55baee4b8a73",
    "execution": {
     "iopub.execute_input": "2022-03-13T14:57:20.869748Z",
     "iopub.status.busy": "2022-03-13T14:57:20.869566Z",
     "iopub.status.idle": "2022-03-13T14:57:20.876320Z",
     "shell.execute_reply": "2022-03-13T14:57:20.875574Z",
     "shell.execute_reply.started": "2022-03-13T14:57:20.869726Z"
    },
    "jupyter": {
     "outputs_hidden": false
    }
   },
   "outputs": [],
   "source": [
    "#model.save('../working/model_last_xc.hdf5')\n",
    "#model.load_weights('best_model.hdf5')"
   ]
  },
  {
   "cell_type": "code",
   "execution_count": 46,
   "metadata": {
    "_cell_guid": "5cfb36ee-48c3-4851-a070-83a72471b08f",
    "_uuid": "ea8fe81c-9523-4490-9b2f-d668b7b671cb",
    "execution": {
     "iopub.execute_input": "2022-03-13T14:57:20.877950Z",
     "iopub.status.busy": "2022-03-13T14:57:20.877673Z",
     "iopub.status.idle": "2022-03-13T14:57:20.883267Z",
     "shell.execute_reply": "2022-03-13T14:57:20.882376Z",
     "shell.execute_reply.started": "2022-03-13T14:57:20.877902Z"
    },
    "jupyter": {
     "outputs_hidden": false
    }
   },
   "outputs": [],
   "source": [
    "#scores = model.evaluate_generator(test_generator, verbose=1)\n",
    "#print(\"Accuracy: %.2f%%\" % (scores[1]*100))"
   ]
  },
  {
   "cell_type": "markdown",
   "metadata": {
    "_cell_guid": "9bfbd513-71c2-401b-8db7-1b9b905ef91f",
    "_uuid": "75d523fb-048a-4710-afd0-f531c9157ba2"
   },
   "source": [
    "Submission"
   ]
  },
  {
   "cell_type": "code",
   "execution_count": 47,
   "metadata": {
    "_cell_guid": "bcee4d03-7f65-4dd5-9acf-3e913aa244af",
    "_uuid": "8b05acca-7576-4221-b665-81e5e4936db6",
    "execution": {
     "iopub.execute_input": "2022-03-13T14:57:20.884933Z",
     "iopub.status.busy": "2022-03-13T14:57:20.884529Z",
     "iopub.status.idle": "2022-03-13T14:57:20.890528Z",
     "shell.execute_reply": "2022-03-13T14:57:20.889742Z",
     "shell.execute_reply.started": "2022-03-13T14:57:20.884897Z"
    },
    "jupyter": {
     "outputs_hidden": false
    }
   },
   "outputs": [],
   "source": [
    "#test_sub_generator.samples"
   ]
  },
  {
   "cell_type": "code",
   "execution_count": 48,
   "metadata": {
    "_cell_guid": "4410e8fe-7ff2-4bee-9229-b3f33edb700e",
    "_uuid": "3ae862f4-259f-4dfe-8344-18aaa11c8b61",
    "execution": {
     "iopub.execute_input": "2022-03-13T14:57:20.892209Z",
     "iopub.status.busy": "2022-03-13T14:57:20.891929Z",
     "iopub.status.idle": "2022-03-13T14:57:20.897898Z",
     "shell.execute_reply": "2022-03-13T14:57:20.896963Z",
     "shell.execute_reply.started": "2022-03-13T14:57:20.892172Z"
    },
    "jupyter": {
     "outputs_hidden": false
    }
   },
   "outputs": [],
   "source": [
    "#test_sub_generator.reset()\n",
    "#predictions = model.predict_generator(test_sub_generator, steps=len(test_sub_generator), verbose=1) \n",
    "#predictions = np.argmax(predictions, axis=-1) #multiple categories\n",
    "#label_map = (train_generator.class_indices)\n",
    "#label_map = dict((v,k) for k,v in label_map.items()) #flip k,v\n",
    "#predictions = [label_map[k] for k in predictions]"
   ]
  },
  {
   "cell_type": "code",
   "execution_count": 49,
   "metadata": {
    "_cell_guid": "1c08ab56-4c50-4f5f-a98c-16b065191d01",
    "_uuid": "be00c680-3139-467c-aac0-712349b613e4",
    "execution": {
     "iopub.execute_input": "2022-03-13T14:57:20.899572Z",
     "iopub.status.busy": "2022-03-13T14:57:20.899172Z",
     "iopub.status.idle": "2022-03-13T14:57:20.905289Z",
     "shell.execute_reply": "2022-03-13T14:57:20.904460Z",
     "shell.execute_reply.started": "2022-03-13T14:57:20.899536Z"
    },
    "jupyter": {
     "outputs_hidden": false
    }
   },
   "outputs": [],
   "source": [
    "#filenames_with_dir=test_sub_generator.filenames\n",
    "#submission = pd.DataFrame({'Id':filenames_with_dir, 'Category':predictions}, columns=['Id', 'Category'])\n",
    "#submission['Id'] = submission['Id'].replace('test_upload/','')\n",
    "#submission.to_csv('submissionv_xc.csv', index=False)\n",
    "#print('Save submissionv_xc')"
   ]
  },
  {
   "cell_type": "code",
   "execution_count": 50,
   "metadata": {
    "_cell_guid": "269b11c8-eb3c-41ba-850a-6ea04b8ef7a7",
    "_uuid": "adb93ef0-2cb4-435e-944d-0e3090818f09",
    "execution": {
     "iopub.execute_input": "2022-03-13T14:57:20.906962Z",
     "iopub.status.busy": "2022-03-13T14:57:20.906677Z",
     "iopub.status.idle": "2022-03-13T14:57:20.912392Z",
     "shell.execute_reply": "2022-03-13T14:57:20.911472Z",
     "shell.execute_reply.started": "2022-03-13T14:57:20.906925Z"
    },
    "jupyter": {
     "outputs_hidden": false
    }
   },
   "outputs": [],
   "source": [
    "#submission.head()"
   ]
  },
  {
   "cell_type": "markdown",
   "metadata": {
    "_cell_guid": "fe2a0d49-811b-4327-ba77-b446837fb95a",
    "_uuid": "8fc0b3f2-dea8-4279-8ef7-76b2c722359b"
   },
   "source": [
    "### Загружаем предобученную сеть \"efficient-b5\" без батч нормализации"
   ]
  },
  {
   "cell_type": "code",
   "execution_count": 51,
   "metadata": {
    "_cell_guid": "3a219b32-3800-47c2-8277-55415218fdd0",
    "_uuid": "98e0a03f-cc65-4a14-b199-3d957eef2bb5",
    "execution": {
     "iopub.execute_input": "2022-03-13T14:57:20.914093Z",
     "iopub.status.busy": "2022-03-13T14:57:20.913809Z",
     "iopub.status.idle": "2022-03-13T14:57:28.859004Z",
     "shell.execute_reply": "2022-03-13T14:57:28.858287Z",
     "shell.execute_reply.started": "2022-03-13T14:57:20.914057Z"
    },
    "jupyter": {
     "outputs_hidden": false
    }
   },
   "outputs": [],
   "source": [
    "base_model1 = efn.EfficientNetB5(weights='imagenet', include_top=False, input_shape = input_shape)"
   ]
  },
  {
   "cell_type": "code",
   "execution_count": 52,
   "metadata": {
    "_cell_guid": "60ae198a-8f48-4ebd-b083-c5294bb75053",
    "_kg_hide-input": true,
    "_kg_hide-output": true,
    "_uuid": "12d4b0e6-81b6-486c-869e-e44793f4607f",
    "execution": {
     "iopub.execute_input": "2022-03-13T14:57:28.860438Z",
     "iopub.status.busy": "2022-03-13T14:57:28.860142Z",
     "iopub.status.idle": "2022-03-13T14:57:29.099799Z",
     "shell.execute_reply": "2022-03-13T14:57:29.099098Z",
     "shell.execute_reply.started": "2022-03-13T14:57:28.860402Z"
    },
    "jupyter": {
     "outputs_hidden": false
    }
   },
   "outputs": [],
   "source": [
    "base_model1.summary()"
   ]
  },
  {
   "cell_type": "markdown",
   "metadata": {},
   "source": [
    "обучение половины весов FineTuning¶\n"
   ]
  },
  {
   "cell_type": "code",
   "execution_count": 53,
   "metadata": {
    "_cell_guid": "5ec45168-0beb-41f1-9712-cf4a8539e48d",
    "_uuid": "160a493c-dd25-4d3c-acf6-140130f69be2",
    "execution": {
     "iopub.execute_input": "2022-03-13T14:57:29.101326Z",
     "iopub.status.busy": "2022-03-13T14:57:29.101057Z",
     "iopub.status.idle": "2022-03-13T14:57:29.132965Z",
     "shell.execute_reply": "2022-03-13T14:57:29.132149Z",
     "shell.execute_reply.started": "2022-03-13T14:57:29.101288Z"
    },
    "jupyter": {
     "outputs_hidden": false
    }
   },
   "outputs": [],
   "source": [
    "#base_model1.trainable = False\n",
    "base_model1.trainable = True\n",
    "\n",
    "# Fine-tune from this layer onwards\n",
    "fine_tune_at = len(base_model1.layers)//2\n",
    "\n",
    "# Freeze all the layers before the `fine_tune_at` layer\n",
    "for layer in base_model1.layers[:fine_tune_at]:\n",
    "    layer.trainable =  False"
   ]
  },
  {
   "cell_type": "code",
   "execution_count": 54,
   "metadata": {
    "_cell_guid": "87438efe-6913-489c-a3e5-47c0bcc1c7e6",
    "_uuid": "76eab1aa-7766-415e-8a62-33261ff4616d",
    "execution": {
     "iopub.execute_input": "2022-03-13T14:57:29.134540Z",
     "iopub.status.busy": "2022-03-13T14:57:29.134294Z",
     "iopub.status.idle": "2022-03-13T14:57:30.558630Z",
     "shell.execute_reply": "2022-03-13T14:57:30.557900Z",
     "shell.execute_reply.started": "2022-03-13T14:57:29.134502Z"
    },
    "jupyter": {
     "outputs_hidden": false
    }
   },
   "outputs": [],
   "source": [
    "model=M.Sequential()\n",
    "model.add(base_model1)\n",
    "model.add(L.GlobalAveragePooling2D(),) # объединяем все признаки в единый вектор \n",
    "\n",
    "\n",
    "model.add(L.Dense(256, activation='relu'))\n",
    "model.add(L.Dropout(0.25))\n",
    "model.add(L.Dense(CLASS_NUM, activation='softmax'))"
   ]
  },
  {
   "cell_type": "code",
   "execution_count": 55,
   "metadata": {
    "_cell_guid": "6672195b-fb43-4898-b980-f63a16c94029",
    "_uuid": "e082afe4-ea11-4ace-94e4-c083398baebb",
    "execution": {
     "iopub.execute_input": "2022-03-13T14:57:30.560180Z",
     "iopub.status.busy": "2022-03-13T14:57:30.559955Z",
     "iopub.status.idle": "2022-03-13T14:57:30.577760Z",
     "shell.execute_reply": "2022-03-13T14:57:30.577101Z",
     "shell.execute_reply.started": "2022-03-13T14:57:30.560149Z"
    },
    "jupyter": {
     "outputs_hidden": false
    }
   },
   "outputs": [],
   "source": [
    "model.compile(loss=\"categorical_crossentropy\", optimizer=optimizers.Adam(lr=LR), metrics=[\"accuracy\"])"
   ]
  },
  {
   "cell_type": "code",
   "execution_count": 56,
   "metadata": {
    "_cell_guid": "6e5122da-6de3-477f-a558-b290196ad94c",
    "_uuid": "0ef17821-c4ef-4e78-9c9a-d537c8693e80",
    "execution": {
     "iopub.execute_input": "2022-03-13T14:57:30.579507Z",
     "iopub.status.busy": "2022-03-13T14:57:30.579030Z",
     "iopub.status.idle": "2022-03-13T14:57:30.589593Z",
     "shell.execute_reply": "2022-03-13T14:57:30.588694Z",
     "shell.execute_reply.started": "2022-03-13T14:57:30.579469Z"
    },
    "jupyter": {
     "outputs_hidden": false
    }
   },
   "outputs": [],
   "source": [
    "# сколько слоев\n",
    "print(len(model.layers))\n",
    "len(model.trainable_variables)\n",
    "# Check the trainable status of the individual layers\n",
    "for layer in model.layers:\n",
    "    print(layer, layer.trainable)"
   ]
  },
  {
   "cell_type": "code",
   "execution_count": 57,
   "metadata": {
    "_cell_guid": "b2a52b6c-cbe7-4931-9ec3-a34e8310fce3",
    "_uuid": "5d138ba9-bdc7-4a91-983d-eeafdcc08f35",
    "execution": {
     "iopub.execute_input": "2022-03-13T14:57:30.591323Z",
     "iopub.status.busy": "2022-03-13T14:57:30.590551Z",
     "iopub.status.idle": "2022-03-13T14:57:30.625218Z",
     "shell.execute_reply": "2022-03-13T14:57:30.624549Z",
     "shell.execute_reply.started": "2022-03-13T14:57:30.591286Z"
    },
    "jupyter": {
     "outputs_hidden": false
    }
   },
   "outputs": [],
   "source": [
    "model.summary()"
   ]
  },
  {
   "cell_type": "code",
   "execution_count": 58,
   "metadata": {
    "_cell_guid": "7798f87c-bd8c-48be-b13b-5e8cf9e75fa4",
    "_uuid": "315a1d37-8422-47af-85ce-ee220d7de1cb",
    "execution": {
     "iopub.execute_input": "2022-03-13T14:57:30.627073Z",
     "iopub.status.busy": "2022-03-13T14:57:30.626314Z",
     "iopub.status.idle": "2022-03-13T14:57:30.630536Z",
     "shell.execute_reply": "2022-03-13T14:57:30.629756Z",
     "shell.execute_reply.started": "2022-03-13T14:57:30.627038Z"
    },
    "jupyter": {
     "outputs_hidden": false
    }
   },
   "outputs": [],
   "source": [
    "EPOCHS = 15  # 12 эпох на обучение"
   ]
  },
  {
   "cell_type": "code",
   "execution_count": 59,
   "metadata": {
    "_cell_guid": "b687c56b-50c4-4d75-82ed-13826b9da866",
    "_uuid": "a5b6d9cb-60b2-4bcb-95d4-5e5549fa3593",
    "execution": {
     "iopub.execute_input": "2022-03-13T14:57:30.632453Z",
     "iopub.status.busy": "2022-03-13T14:57:30.631838Z",
     "iopub.status.idle": "2022-03-13T15:46:59.551010Z",
     "shell.execute_reply": "2022-03-13T15:46:59.550211Z",
     "shell.execute_reply.started": "2022-03-13T14:57:30.632419Z"
    },
    "jupyter": {
     "outputs_hidden": false
    }
   },
   "outputs": [],
   "source": [
    "# Обучаем\n",
    "\n",
    "history = model.fit(\n",
    "        train_generator,\n",
    "        steps_per_epoch = len(train_generator),\n",
    "        validation_data = test_generator, \n",
    "        validation_steps = len(test_generator),\n",
    "        epochs = EPOCHS,\n",
    "        callbacks = callbacks_list\n",
    ")"
   ]
  },
  {
   "cell_type": "code",
   "execution_count": 60,
   "metadata": {
    "_cell_guid": "b844cd0c-55c2-4878-bb1e-56bffd3296d5",
    "_uuid": "05e4a930-9f83-48e7-a51b-db316917ebc4",
    "execution": {
     "iopub.execute_input": "2022-03-13T15:46:59.554754Z",
     "iopub.status.busy": "2022-03-13T15:46:59.554525Z",
     "iopub.status.idle": "2022-03-13T15:47:01.509152Z",
     "shell.execute_reply": "2022-03-13T15:47:01.508381Z",
     "shell.execute_reply.started": "2022-03-13T15:46:59.554727Z"
    },
    "jupyter": {
     "outputs_hidden": false
    }
   },
   "outputs": [],
   "source": [
    "model.save('../working/model_last_efn5.hdf5')\n",
    "model.load_weights('best_model.hdf5')"
   ]
  },
  {
   "cell_type": "code",
   "execution_count": 61,
   "metadata": {
    "_cell_guid": "bced95a7-612e-4ce3-a551-d4741c417a4c",
    "_uuid": "95fa11a5-2a77-45a4-8779-55e5dcec5447",
    "execution": {
     "iopub.execute_input": "2022-03-13T15:47:01.511338Z",
     "iopub.status.busy": "2022-03-13T15:47:01.511024Z",
     "iopub.status.idle": "2022-03-13T15:47:43.153418Z",
     "shell.execute_reply": "2022-03-13T15:47:43.152602Z",
     "shell.execute_reply.started": "2022-03-13T15:47:01.511300Z"
    },
    "jupyter": {
     "outputs_hidden": false
    }
   },
   "outputs": [],
   "source": [
    "scores = model.evaluate_generator(test_generator, steps=len(test_generator), verbose=1)\n",
    "print(\"Accuracy: %.2f%%\" % (scores[1]*100))"
   ]
  },
  {
   "cell_type": "code",
   "execution_count": 62,
   "metadata": {
    "_cell_guid": "3806f92f-b46a-4216-a441-1b8ecc1b1b3e",
    "_uuid": "65380ea6-0ada-4580-b366-176361b911de",
    "execution": {
     "iopub.execute_input": "2022-03-13T15:47:43.155061Z",
     "iopub.status.busy": "2022-03-13T15:47:43.154731Z",
     "iopub.status.idle": "2022-03-13T15:49:08.143397Z",
     "shell.execute_reply": "2022-03-13T15:49:08.142516Z",
     "shell.execute_reply.started": "2022-03-13T15:47:43.155022Z"
    },
    "jupyter": {
     "outputs_hidden": false
    }
   },
   "outputs": [],
   "source": [
    "test_sub_generator.reset()\n",
    "predictions = model.predict_generator(test_sub_generator, steps=len(test_sub_generator), verbose=1) \n",
    "predictions = np.argmax(predictions, axis=-1) #multiple categories\n",
    "label_map = (train_generator.class_indices)\n",
    "label_map = dict((v,k) for k,v in label_map.items()) #flip k,v\n",
    "predictions = [label_map[k] for k in predictions]"
   ]
  },
  {
   "cell_type": "code",
   "execution_count": 63,
   "metadata": {
    "_cell_guid": "c0720e52-a455-40c7-8f97-32fdadd02df2",
    "_uuid": "a219bc34-6acd-41e2-9f44-b5a3626c3aeb",
    "execution": {
     "iopub.execute_input": "2022-03-13T15:49:08.145308Z",
     "iopub.status.busy": "2022-03-13T15:49:08.145012Z",
     "iopub.status.idle": "2022-03-13T15:49:08.169764Z",
     "shell.execute_reply": "2022-03-13T15:49:08.168777Z",
     "shell.execute_reply.started": "2022-03-13T15:49:08.145270Z"
    },
    "jupyter": {
     "outputs_hidden": false
    }
   },
   "outputs": [],
   "source": [
    "filenames_with_dir=test_sub_generator.filenames\n",
    "submission = pd.DataFrame({'Id':filenames_with_dir, 'Category':predictions}, columns=['Id', 'Category'])\n",
    "submission['Id'] = submission['Id'].replace('test_upload/','')\n",
    "submission.to_csv('submission.csv', index=False)\n",
    "print('Save submission')"
   ]
  },
  {
   "cell_type": "markdown",
   "metadata": {
    "_cell_guid": "4ebe4e79-00f7-4e9f-8c24-6b7db958929c",
    "_uuid": "b4dab858-490a-414c-9849-371d09f96f8c"
   },
   "source": [
    "из двух использованных сетей Xception И EfficientNetB5 лучший результат дает второй.\n",
    "так же была настроена аугментация"
   ]
  },
  {
   "cell_type": "code",
   "execution_count": 64,
   "metadata": {
    "execution": {
     "iopub.execute_input": "2022-03-13T15:49:08.172230Z",
     "iopub.status.busy": "2022-03-13T15:49:08.171587Z",
     "iopub.status.idle": "2022-03-13T15:49:08.182512Z",
     "shell.execute_reply": "2022-03-13T15:49:08.181646Z",
     "shell.execute_reply.started": "2022-03-13T15:49:08.172187Z"
    }
   },
   "outputs": [],
   "source": [
    "submission.head()"
   ]
  },
  {
   "attachments": {
    "e75fc6f0-17f5-4beb-bab7-891b4bca6bfd.png": {
     "image/png": "[encoded data removed]"
    }
   },
   "cell_type": "markdown",
   "metadata": {},
   "source": [
    "![image.png](attachment:e75fc6f0-17f5-4beb-bab7-891b4bca6bfd.png)"
   ]
  },
  {
   "attachments": {
    "image.png": {
     "image/png": "[encoded data removed]"
    }
   },
   "cell_type": "markdown",
   "metadata": {},
   "source": [
    "![image.png](attachment:image.png)"
   ]
  },
  {
   "cell_type": "markdown",
   "metadata": {},
   "source": []
  }
 ],
 "metadata": {
  "kernelspec": {
   "display_name": "Python 3",
   "language": "python",
   "name": "python3"
  },
  "language_info": {
   "codemirror_mode": {
    "name": "ipython",
    "version": 3
   },
   "file_extension": ".py",
   "mimetype": "text/x-python",
   "name": "python",
   "nbconvert_exporter": "python",
   "pygments_lexer": "ipython3",
   "version": "3.8.5"
  }
 },
 "nbformat": 4,
 "nbformat_minor": 4
}
