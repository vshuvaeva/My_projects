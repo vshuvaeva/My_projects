{
 "cells": [
  {
   "cell_type": "markdown",
   "metadata": {},
   "source": [
    "## Проект 0. GitHub. Самый быстрый старт"
   ]
  },
  {
   "cell_type": "markdown",
   "metadata": {},
   "source": [
    "### Задание : улучшить алгоритм автора модуля"
   ]
  },
  {
   "cell_type": "code",
   "execution_count": 35,
   "metadata": {},
   "outputs": [],
   "source": [
    "import numpy as np\n",
    "def game_core_v3(number): \n",
    "    '''Сначала устанавливаем любое random число, а потом \n",
    "    определяем нижнюю и верхнею границу диапазона, в котором компьютер будет\n",
    "    угадывать число пока не достигнет правильного результата.'''\n",
    "    begin_border = 1\n",
    "    final_border = 100\n",
    "    count = 1 #счетчик устанавливаем на единицу, если угадаем с первой попытки\n",
    "    predict = np.random.randint(1, 101) # предполагаемое число\n",
    "\n",
    "    while predict != number:\n",
    "        count += 1\n",
    "        if predict > number:\n",
    "            final_border = predict\n",
    "        elif predict < number:\n",
    "            begin_border = predict + 1\n",
    "        '''Вычисляем новое значение угадываемого числа в новых границах'''\n",
    "        predict = (begin_border + final_border) // 2\n",
    "\n",
    "    return (count) # выход из цикла, если угадали"
   ]
  },
  {
   "cell_type": "code",
   "execution_count": 36,
   "metadata": {},
   "outputs": [
    {
     "data": {
      "text/plain": [
       "7"
      ]
     },
     "execution_count": 36,
     "metadata": {},
     "output_type": "execute_result"
    }
   ],
   "source": [
    "# Пример. Загадаем число 15\n",
    "game_core_v3(15)"
   ]
  },
  {
   "cell_type": "code",
   "execution_count": 37,
   "metadata": {},
   "outputs": [],
   "source": [
    "def score_game(game_core):\n",
    "    #Запускаем игру 1000 раз, чтобы узнать, как быстро игра угадывает число\n",
    "    count_ls = []\n",
    "    np.random.seed(1)\n",
    "    random_array = np.random.randint(1, 101, size=(1000))\n",
    "    for number in random_array:\n",
    "        count_ls.append(game_core(number))\n",
    "    score = int(np.mean(count_ls))\n",
    "    print(f\"Ваш алгоритм угадывает число в среднем за {score} попыток\")\n",
    "    return(score)"
   ]
  },
  {
   "cell_type": "code",
   "execution_count": 38,
   "metadata": {},
   "outputs": [
    {
     "name": "stdout",
     "output_type": "stream",
     "text": [
      "Ваш алгоритм угадывает число в среднем за 6 попыток\n"
     ]
    },
    {
     "data": {
      "text/plain": [
       "6"
      ]
     },
     "execution_count": 38,
     "metadata": {},
     "output_type": "execute_result"
    }
   ],
   "source": [
    "score_game(game_core_v3)"
   ]
  },
  {
   "cell_type": "markdown",
   "metadata": {},
   "source": [
    "ВЫВОД. Алгоритм автора модуля угадывал число в среднем за 30 попыток. Мой алгоритм угадывает число в среднем за 6 попыток! Это хороший результат. "
   ]
  },
  {
   "cell_type": "code",
   "execution_count": null,
   "metadata": {},
   "outputs": [],
   "source": []
  }
 ],
 "metadata": {
  "kernelspec": {
   "display_name": "Python 3",
   "language": "python",
   "name": "python3"
  },
  "language_info": {
   "codemirror_mode": {
    "name": "ipython",
    "version": 3
   },
   "file_extension": ".py",
   "mimetype": "text/x-python",
   "name": "python",
   "nbconvert_exporter": "python",
   "pygments_lexer": "ipython3",
   "version": "3.8.5"
  }
 },
 "nbformat": 4,
 "nbformat_minor": 4
}
