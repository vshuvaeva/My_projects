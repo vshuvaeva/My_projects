{
 "cells": [
  {
   "cell_type": "markdown",
   "metadata": {},
   "source": [
    "## Проект №3. Predict TripAdvisor Rating (Проект 3. О вкусной и здоровой пище )"
   ]
  },
  {
   "cell_type": "markdown",
   "metadata": {},
   "source": [
    "### Задача: предсказать рейтинг ресторанов в TripAdvisor"
   ]
  },
  {
   "cell_type": "code",
   "execution_count": 1123,
   "metadata": {
    "_cell_guid": "b1076dfc-b9ad-4769-8c92-a6c4dae69d19",
    "_uuid": "8f2839f25d086af736a60e9eeb907d3b93b6e0e5",
    "execution": {
     "iopub.execute_input": "2021-05-28T19:38:47.487226Z",
     "iopub.status.busy": "2021-05-28T19:38:47.48683Z",
     "iopub.status.idle": "2021-05-28T19:38:47.516885Z",
     "shell.execute_reply": "2021-05-28T19:38:47.515898Z",
     "shell.execute_reply.started": "2021-05-28T19:38:47.487147Z"
    }
   },
   "outputs": [],
   "source": [
    "import numpy as np # linear algebra\n",
    "import pandas as pd # data processing, CSV file I/O (e.g. pd.read_csv)\n",
    "\n",
    "import matplotlib.pyplot as plt\n",
    "import seaborn as sns \n",
    "%matplotlib inline\n",
    "\n",
    "# Загружаем специальный удобный инструмент для разделения датасета:\n",
    "from sklearn.model_selection import train_test_split\n",
    "\n",
    "\n",
    "import re\n",
    "import datetime\n",
    "from datetime import datetime, timedelta\n",
    "from itertools import combinations #для теста Стьюдента\n",
    "from scipy.stats import ttest_ind #для теста Стьюдента\n",
    "from sklearn.preprocessing import StandardScaler #для std нормализации\n",
    "from sklearn.preprocessing import MinMaxScaler #для minmax нормализации\n",
    "from textblob import TextBlob\n",
    "import warnings; warnings.simplefilter('ignore')\n",
    "\n",
    "#import os\n",
    "#for dirname, _, filenames in os.walk('/kaggle/input'):\n",
    "#    for filename in filenames:\n",
    "#        print(os.path.join(dirname, filename))\n",
    "\n",
    "\n",
    "        # Any results you write to the current directory are saved as output."
   ]
  },
  {
   "cell_type": "code",
   "execution_count": 1124,
   "metadata": {
    "execution": {
     "iopub.execute_input": "2021-05-28T19:38:47.519289Z",
     "iopub.status.busy": "2021-05-28T19:38:47.51882Z",
     "iopub.status.idle": "2021-05-28T19:38:47.52288Z",
     "shell.execute_reply": "2021-05-28T19:38:47.522136Z",
     "shell.execute_reply.started": "2021-05-28T19:38:47.519229Z"
    }
   },
   "outputs": [],
   "source": [
    "# всегда фиксируйте RANDOM_SEED, чтобы ваши эксперименты были воспроизводимы!\n",
    "RANDOM_SEED = 42"
   ]
  },
  {
   "cell_type": "code",
   "execution_count": 1125,
   "metadata": {
    "execution": {
     "iopub.execute_input": "2021-05-28T19:38:47.524466Z",
     "iopub.status.busy": "2021-05-28T19:38:47.52402Z",
     "iopub.status.idle": "2021-05-28T19:38:49.896156Z",
     "shell.execute_reply": "2021-05-28T19:38:49.895034Z",
     "shell.execute_reply.started": "2021-05-28T19:38:47.524419Z"
    }
   },
   "outputs": [
    {
     "name": "stderr",
     "output_type": "stream",
     "text": [
      "\"pip\" ­Ґ пў«пҐвбп ў­гваҐ­­Ґ© Ё«Ё ў­Ґи­Ґ©\n",
      "Є®¬ ­¤®©, ЁбЇ®«­пҐ¬®© Їа®Ја ¬¬®© Ё«Ё Ї ЄҐв­л¬ д ©«®¬.\n"
     ]
    }
   ],
   "source": [
    "# зафиксируем версию пакетов, чтобы эксперименты были воспроизводимы:\n",
    "!pip freeze > requirements.txt"
   ]
  },
  {
   "cell_type": "markdown",
   "metadata": {},
   "source": [
    "# DATA"
   ]
  },
  {
   "cell_type": "code",
   "execution_count": 1126,
   "metadata": {
    "_cell_guid": "79c7e3d0-c299-4dcb-8224-4455121ee9b0",
    "_uuid": "d629ff2d2480ee46fbb7e2d37f6b5fab8052498a",
    "execution": {
     "iopub.execute_input": "2021-05-28T19:38:49.89785Z",
     "iopub.status.busy": "2021-05-28T19:38:49.897545Z",
     "iopub.status.idle": "2021-05-28T19:38:50.148912Z",
     "shell.execute_reply": "2021-05-28T19:38:50.148034Z",
     "shell.execute_reply.started": "2021-05-28T19:38:49.897798Z"
    }
   },
   "outputs": [],
   "source": [
    "# тренировочный (train, используется для обучения модели)\n",
    "df_train = pd.read_csv('main_task.csv')\n",
    "\n",
    "# тестовый (test, используется для оценки точности модели)\n",
    "df_test = pd.read_csv('kaggle_task.csv')\n",
    "\n",
    "sample_submission = pd.read_csv('sample_submission.csv')"
   ]
  },
  {
   "cell_type": "code",
   "execution_count": 1127,
   "metadata": {
    "execution": {
     "iopub.execute_input": "2021-05-28T19:38:50.152496Z",
     "iopub.status.busy": "2021-05-28T19:38:50.152187Z",
     "iopub.status.idle": "2021-05-28T19:38:50.188349Z",
     "shell.execute_reply": "2021-05-28T19:38:50.187329Z",
     "shell.execute_reply.started": "2021-05-28T19:38:50.152444Z"
    }
   },
   "outputs": [
    {
     "name": "stdout",
     "output_type": "stream",
     "text": [
      "<class 'pandas.core.frame.DataFrame'>\n",
      "RangeIndex: 40000 entries, 0 to 39999\n",
      "Data columns (total 10 columns):\n",
      " #   Column             Non-Null Count  Dtype  \n",
      "---  ------             --------------  -----  \n",
      " 0   Restaurant_id      40000 non-null  object \n",
      " 1   City               40000 non-null  object \n",
      " 2   Cuisine Style      30717 non-null  object \n",
      " 3   Ranking            40000 non-null  float64\n",
      " 4   Rating             40000 non-null  float64\n",
      " 5   Price Range        26114 non-null  object \n",
      " 6   Number of Reviews  37457 non-null  float64\n",
      " 7   Reviews            40000 non-null  object \n",
      " 8   URL_TA             40000 non-null  object \n",
      " 9   ID_TA              40000 non-null  object \n",
      "dtypes: float64(3), object(7)\n",
      "memory usage: 2.0+ MB\n"
     ]
    }
   ],
   "source": [
    "df_train.info()"
   ]
  },
  {
   "cell_type": "code",
   "execution_count": 1128,
   "metadata": {
    "execution": {
     "iopub.execute_input": "2021-05-28T19:38:50.192151Z",
     "iopub.status.busy": "2021-05-28T19:38:50.191872Z",
     "iopub.status.idle": "2021-05-28T19:38:50.210978Z",
     "shell.execute_reply": "2021-05-28T19:38:50.210084Z",
     "shell.execute_reply.started": "2021-05-28T19:38:50.192105Z"
    }
   },
   "outputs": [
    {
     "name": "stdout",
     "output_type": "stream",
     "text": [
      "<class 'pandas.core.frame.DataFrame'>\n",
      "RangeIndex: 40000 entries, 0 to 39999\n",
      "Data columns (total 10 columns):\n",
      " #   Column             Non-Null Count  Dtype  \n",
      "---  ------             --------------  -----  \n",
      " 0   Restaurant_id      40000 non-null  object \n",
      " 1   City               40000 non-null  object \n",
      " 2   Cuisine Style      30717 non-null  object \n",
      " 3   Ranking            40000 non-null  float64\n",
      " 4   Rating             40000 non-null  float64\n",
      " 5   Price Range        26114 non-null  object \n",
      " 6   Number of Reviews  37457 non-null  float64\n",
      " 7   Reviews            40000 non-null  object \n",
      " 8   URL_TA             40000 non-null  object \n",
      " 9   ID_TA              40000 non-null  object \n",
      "dtypes: float64(3), object(7)\n",
      "memory usage: 2.0+ MB\n"
     ]
    }
   ],
   "source": [
    "df_train.info()"
   ]
  },
  {
   "cell_type": "code",
   "execution_count": 1129,
   "metadata": {
    "execution": {
     "iopub.execute_input": "2021-05-28T19:38:50.2125Z",
     "iopub.status.busy": "2021-05-28T19:38:50.212254Z",
     "iopub.status.idle": "2021-05-28T19:38:50.233929Z",
     "shell.execute_reply": "2021-05-28T19:38:50.23287Z",
     "shell.execute_reply.started": "2021-05-28T19:38:50.212456Z"
    }
   },
   "outputs": [
    {
     "name": "stdout",
     "output_type": "stream",
     "text": [
      "<class 'pandas.core.frame.DataFrame'>\n",
      "RangeIndex: 10000 entries, 0 to 9999\n",
      "Data columns (total 9 columns):\n",
      " #   Column             Non-Null Count  Dtype  \n",
      "---  ------             --------------  -----  \n",
      " 0   Restaurant_id      10000 non-null  object \n",
      " 1   City               10000 non-null  object \n",
      " 2   Cuisine Style      7693 non-null   object \n",
      " 3   Ranking            10000 non-null  float64\n",
      " 4   Price Range        6525 non-null   object \n",
      " 5   Number of Reviews  9343 non-null   float64\n",
      " 6   Reviews            9998 non-null   object \n",
      " 7   URL_TA             10000 non-null  object \n",
      " 8   ID_TA              10000 non-null  object \n",
      "dtypes: float64(2), object(7)\n",
      "memory usage: 429.8+ KB\n"
     ]
    }
   ],
   "source": [
    "df_test.info()"
   ]
  },
  {
   "cell_type": "code",
   "execution_count": 1130,
   "metadata": {
    "execution": {
     "iopub.execute_input": "2021-05-28T19:38:50.235401Z",
     "iopub.status.busy": "2021-05-28T19:38:50.235148Z",
     "iopub.status.idle": "2021-05-28T19:38:50.252505Z",
     "shell.execute_reply": "2021-05-28T19:38:50.251505Z",
     "shell.execute_reply.started": "2021-05-28T19:38:50.23536Z"
    }
   },
   "outputs": [
    {
     "data": {
      "text/html": [
       "<div>\n",
       "<style scoped>\n",
       "    .dataframe tbody tr th:only-of-type {\n",
       "        vertical-align: middle;\n",
       "    }\n",
       "\n",
       "    .dataframe tbody tr th {\n",
       "        vertical-align: top;\n",
       "    }\n",
       "\n",
       "    .dataframe thead th {\n",
       "        text-align: right;\n",
       "    }\n",
       "</style>\n",
       "<table border=\"1\" class=\"dataframe\">\n",
       "  <thead>\n",
       "    <tr style=\"text-align: right;\">\n",
       "      <th></th>\n",
       "      <th>Restaurant_id</th>\n",
       "      <th>City</th>\n",
       "      <th>Cuisine Style</th>\n",
       "      <th>Ranking</th>\n",
       "      <th>Price Range</th>\n",
       "      <th>Number of Reviews</th>\n",
       "      <th>Reviews</th>\n",
       "      <th>URL_TA</th>\n",
       "      <th>ID_TA</th>\n",
       "    </tr>\n",
       "  </thead>\n",
       "  <tbody>\n",
       "    <tr>\n",
       "      <th>0</th>\n",
       "      <td>id_0</td>\n",
       "      <td>Paris</td>\n",
       "      <td>['Bar', 'Pub']</td>\n",
       "      <td>12963.0</td>\n",
       "      <td>$$ - $$$</td>\n",
       "      <td>4.0</td>\n",
       "      <td>[[], []]</td>\n",
       "      <td>/Restaurant_Review-g187147-d10746918-Reviews-L...</td>\n",
       "      <td>d10746918</td>\n",
       "    </tr>\n",
       "    <tr>\n",
       "      <th>1</th>\n",
       "      <td>id_1</td>\n",
       "      <td>Helsinki</td>\n",
       "      <td>['European', 'Scandinavian', 'Gluten Free Opti...</td>\n",
       "      <td>106.0</td>\n",
       "      <td>$$ - $$$</td>\n",
       "      <td>97.0</td>\n",
       "      <td>[['Very good reviews!', 'Fine dining in Hakani...</td>\n",
       "      <td>/Restaurant_Review-g189934-d6674944-Reviews-Ra...</td>\n",
       "      <td>d6674944</td>\n",
       "    </tr>\n",
       "    <tr>\n",
       "      <th>2</th>\n",
       "      <td>id_2</td>\n",
       "      <td>Edinburgh</td>\n",
       "      <td>['Vegetarian Friendly']</td>\n",
       "      <td>810.0</td>\n",
       "      <td>$$ - $$$</td>\n",
       "      <td>28.0</td>\n",
       "      <td>[['Better than the Links', 'Ivy Black'], ['12/...</td>\n",
       "      <td>/Restaurant_Review-g186525-d13129638-Reviews-B...</td>\n",
       "      <td>d13129638</td>\n",
       "    </tr>\n",
       "    <tr>\n",
       "      <th>3</th>\n",
       "      <td>id_3</td>\n",
       "      <td>London</td>\n",
       "      <td>['Italian', 'Mediterranean', 'European', 'Vege...</td>\n",
       "      <td>1669.0</td>\n",
       "      <td>$$$$</td>\n",
       "      <td>202.0</td>\n",
       "      <td>[['Most exquisite', 'Delicious and authentic']...</td>\n",
       "      <td>/Restaurant_Review-g186338-d680417-Reviews-Qui...</td>\n",
       "      <td>d680417</td>\n",
       "    </tr>\n",
       "    <tr>\n",
       "      <th>4</th>\n",
       "      <td>id_4</td>\n",
       "      <td>Bratislava</td>\n",
       "      <td>['Italian', 'Mediterranean', 'European', 'Seaf...</td>\n",
       "      <td>37.0</td>\n",
       "      <td>$$$$</td>\n",
       "      <td>162.0</td>\n",
       "      <td>[['Always the best in bratislava', 'Very good ...</td>\n",
       "      <td>/Restaurant_Review-g274924-d1112354-Reviews-Ma...</td>\n",
       "      <td>d1112354</td>\n",
       "    </tr>\n",
       "  </tbody>\n",
       "</table>\n",
       "</div>"
      ],
      "text/plain": [
       "  Restaurant_id        City  \\\n",
       "0          id_0       Paris   \n",
       "1          id_1    Helsinki   \n",
       "2          id_2   Edinburgh   \n",
       "3          id_3      London   \n",
       "4          id_4  Bratislava   \n",
       "\n",
       "                                       Cuisine Style  Ranking Price Range  \\\n",
       "0                                     ['Bar', 'Pub']  12963.0    $$ - $$$   \n",
       "1  ['European', 'Scandinavian', 'Gluten Free Opti...    106.0    $$ - $$$   \n",
       "2                            ['Vegetarian Friendly']    810.0    $$ - $$$   \n",
       "3  ['Italian', 'Mediterranean', 'European', 'Vege...   1669.0        $$$$   \n",
       "4  ['Italian', 'Mediterranean', 'European', 'Seaf...     37.0        $$$$   \n",
       "\n",
       "   Number of Reviews                                            Reviews  \\\n",
       "0                4.0                                           [[], []]   \n",
       "1               97.0  [['Very good reviews!', 'Fine dining in Hakani...   \n",
       "2               28.0  [['Better than the Links', 'Ivy Black'], ['12/...   \n",
       "3              202.0  [['Most exquisite', 'Delicious and authentic']...   \n",
       "4              162.0  [['Always the best in bratislava', 'Very good ...   \n",
       "\n",
       "                                              URL_TA      ID_TA  \n",
       "0  /Restaurant_Review-g187147-d10746918-Reviews-L...  d10746918  \n",
       "1  /Restaurant_Review-g189934-d6674944-Reviews-Ra...   d6674944  \n",
       "2  /Restaurant_Review-g186525-d13129638-Reviews-B...  d13129638  \n",
       "3  /Restaurant_Review-g186338-d680417-Reviews-Qui...    d680417  \n",
       "4  /Restaurant_Review-g274924-d1112354-Reviews-Ma...   d1112354  "
      ]
     },
     "execution_count": 1130,
     "metadata": {},
     "output_type": "execute_result"
    }
   ],
   "source": [
    "df_test.head(5)"
   ]
  },
  {
   "cell_type": "code",
   "execution_count": 1131,
   "metadata": {
    "execution": {
     "iopub.execute_input": "2021-05-28T19:38:50.25431Z",
     "iopub.status.busy": "2021-05-28T19:38:50.253992Z",
     "iopub.status.idle": "2021-05-28T19:38:50.269814Z",
     "shell.execute_reply": "2021-05-28T19:38:50.268795Z",
     "shell.execute_reply.started": "2021-05-28T19:38:50.254248Z"
    }
   },
   "outputs": [
    {
     "data": {
      "text/html": [
       "<div>\n",
       "<style scoped>\n",
       "    .dataframe tbody tr th:only-of-type {\n",
       "        vertical-align: middle;\n",
       "    }\n",
       "\n",
       "    .dataframe tbody tr th {\n",
       "        vertical-align: top;\n",
       "    }\n",
       "\n",
       "    .dataframe thead th {\n",
       "        text-align: right;\n",
       "    }\n",
       "</style>\n",
       "<table border=\"1\" class=\"dataframe\">\n",
       "  <thead>\n",
       "    <tr style=\"text-align: right;\">\n",
       "      <th></th>\n",
       "      <th>Restaurant_id</th>\n",
       "      <th>Rating</th>\n",
       "    </tr>\n",
       "  </thead>\n",
       "  <tbody>\n",
       "    <tr>\n",
       "      <th>0</th>\n",
       "      <td>id_0</td>\n",
       "      <td>2.0</td>\n",
       "    </tr>\n",
       "    <tr>\n",
       "      <th>1</th>\n",
       "      <td>id_1</td>\n",
       "      <td>2.5</td>\n",
       "    </tr>\n",
       "    <tr>\n",
       "      <th>2</th>\n",
       "      <td>id_2</td>\n",
       "      <td>4.0</td>\n",
       "    </tr>\n",
       "    <tr>\n",
       "      <th>3</th>\n",
       "      <td>id_3</td>\n",
       "      <td>1.0</td>\n",
       "    </tr>\n",
       "    <tr>\n",
       "      <th>4</th>\n",
       "      <td>id_4</td>\n",
       "      <td>4.0</td>\n",
       "    </tr>\n",
       "  </tbody>\n",
       "</table>\n",
       "</div>"
      ],
      "text/plain": [
       "  Restaurant_id  Rating\n",
       "0          id_0     2.0\n",
       "1          id_1     2.5\n",
       "2          id_2     4.0\n",
       "3          id_3     1.0\n",
       "4          id_4     4.0"
      ]
     },
     "execution_count": 1131,
     "metadata": {},
     "output_type": "execute_result"
    }
   ],
   "source": [
    "sample_submission.head(5)"
   ]
  },
  {
   "cell_type": "code",
   "execution_count": 1132,
   "metadata": {
    "execution": {
     "iopub.execute_input": "2021-05-28T19:38:50.271521Z",
     "iopub.status.busy": "2021-05-28T19:38:50.271285Z",
     "iopub.status.idle": "2021-05-28T19:38:50.285353Z",
     "shell.execute_reply": "2021-05-28T19:38:50.284482Z",
     "shell.execute_reply.started": "2021-05-28T19:38:50.271481Z"
    }
   },
   "outputs": [
    {
     "name": "stdout",
     "output_type": "stream",
     "text": [
      "<class 'pandas.core.frame.DataFrame'>\n",
      "RangeIndex: 10000 entries, 0 to 9999\n",
      "Data columns (total 2 columns):\n",
      " #   Column         Non-Null Count  Dtype  \n",
      "---  ------         --------------  -----  \n",
      " 0   Restaurant_id  10000 non-null  object \n",
      " 1   Rating         10000 non-null  float64\n",
      "dtypes: float64(1), object(1)\n",
      "memory usage: 117.2+ KB\n"
     ]
    }
   ],
   "source": [
    "sample_submission.info()"
   ]
  },
  {
   "cell_type": "code",
   "execution_count": 1133,
   "metadata": {
    "execution": {
     "iopub.execute_input": "2021-05-28T19:38:50.287023Z",
     "iopub.status.busy": "2021-05-28T19:38:50.286794Z",
     "iopub.status.idle": "2021-05-28T19:38:50.341989Z",
     "shell.execute_reply": "2021-05-28T19:38:50.341223Z",
     "shell.execute_reply.started": "2021-05-28T19:38:50.286983Z"
    }
   },
   "outputs": [],
   "source": [
    "# ВАЖНО! дря корректной обработки признаков объединяем трейн и тест в один датасет\n",
    "df_train['sample'] = 1 # помечаем где у нас трейн\n",
    "df_test['sample'] = 0 # помечаем где у нас тест\n",
    "df_test['Rating'] = 0 # в тесте у нас нет значения Rating, мы его должны предсказать, по этому пока просто заполняем нулями\n",
    "\n",
    "data = df_test.append(df_train, sort=False).reset_index(drop=True) # объединяем"
   ]
  },
  {
   "cell_type": "code",
   "execution_count": 1134,
   "metadata": {
    "execution": {
     "iopub.execute_input": "2021-05-28T19:38:50.343895Z",
     "iopub.status.busy": "2021-05-28T19:38:50.343339Z",
     "iopub.status.idle": "2021-05-28T19:38:50.387553Z",
     "shell.execute_reply": "2021-05-28T19:38:50.386443Z",
     "shell.execute_reply.started": "2021-05-28T19:38:50.343836Z"
    }
   },
   "outputs": [
    {
     "name": "stdout",
     "output_type": "stream",
     "text": [
      "<class 'pandas.core.frame.DataFrame'>\n",
      "RangeIndex: 50000 entries, 0 to 49999\n",
      "Data columns (total 11 columns):\n",
      " #   Column             Non-Null Count  Dtype  \n",
      "---  ------             --------------  -----  \n",
      " 0   Restaurant_id      50000 non-null  object \n",
      " 1   City               50000 non-null  object \n",
      " 2   Cuisine Style      38410 non-null  object \n",
      " 3   Ranking            50000 non-null  float64\n",
      " 4   Price Range        32639 non-null  object \n",
      " 5   Number of Reviews  46800 non-null  float64\n",
      " 6   Reviews            49998 non-null  object \n",
      " 7   URL_TA             50000 non-null  object \n",
      " 8   ID_TA              50000 non-null  object \n",
      " 9   sample             50000 non-null  int64  \n",
      " 10  Rating             50000 non-null  float64\n",
      "dtypes: float64(3), int64(1), object(7)\n",
      "memory usage: 2.9+ MB\n"
     ]
    }
   ],
   "source": [
    "data.info()"
   ]
  },
  {
   "cell_type": "markdown",
   "metadata": {},
   "source": [
    "Подробнее по признакам:\n",
    "* City: Город \n",
    "* Cuisine Style: Кухня\n",
    "* Ranking: Ранг ресторана относительно других ресторанов в этом городе\n",
    "* Price Range: Цены в ресторане в 3 категориях\n",
    "* Number of Reviews: Количество отзывов\n",
    "* Reviews: 2 последних отзыва и даты этих отзывов\n",
    "* URL_TA: страница ресторана на 'www.tripadvisor.com' \n",
    "* ID_TA: ID ресторана в TripAdvisor\n",
    "* Rating: Рейтинг ресторана"
   ]
  },
  {
   "cell_type": "markdown",
   "metadata": {},
   "source": [
    "Изначально в дейтасете у нас 10 колонок, из которых только <b>Ranking</b> и целевая переменная <b>Rating</b> числовые переменные, остальные колонки - категориальные."
   ]
  },
  {
   "cell_type": "code",
   "execution_count": 1135,
   "metadata": {
    "execution": {
     "iopub.execute_input": "2021-05-28T19:38:50.389811Z",
     "iopub.status.busy": "2021-05-28T19:38:50.389313Z",
     "iopub.status.idle": "2021-05-28T19:38:50.408615Z",
     "shell.execute_reply": "2021-05-28T19:38:50.407971Z",
     "shell.execute_reply.started": "2021-05-28T19:38:50.389767Z"
    }
   },
   "outputs": [
    {
     "data": {
      "text/html": [
       "<div>\n",
       "<style scoped>\n",
       "    .dataframe tbody tr th:only-of-type {\n",
       "        vertical-align: middle;\n",
       "    }\n",
       "\n",
       "    .dataframe tbody tr th {\n",
       "        vertical-align: top;\n",
       "    }\n",
       "\n",
       "    .dataframe thead th {\n",
       "        text-align: right;\n",
       "    }\n",
       "</style>\n",
       "<table border=\"1\" class=\"dataframe\">\n",
       "  <thead>\n",
       "    <tr style=\"text-align: right;\">\n",
       "      <th></th>\n",
       "      <th>Restaurant_id</th>\n",
       "      <th>City</th>\n",
       "      <th>Cuisine Style</th>\n",
       "      <th>Ranking</th>\n",
       "      <th>Price Range</th>\n",
       "      <th>Number of Reviews</th>\n",
       "      <th>Reviews</th>\n",
       "      <th>URL_TA</th>\n",
       "      <th>ID_TA</th>\n",
       "      <th>sample</th>\n",
       "      <th>Rating</th>\n",
       "    </tr>\n",
       "  </thead>\n",
       "  <tbody>\n",
       "    <tr>\n",
       "      <th>32705</th>\n",
       "      <td>id_5151</td>\n",
       "      <td>Madrid</td>\n",
       "      <td>['Spanish']</td>\n",
       "      <td>5154.0</td>\n",
       "      <td>NaN</td>\n",
       "      <td>5.0</td>\n",
       "      <td>[['Awesome Tapas and Coctails', 'AVERAGE'], ['...</td>\n",
       "      <td>/Restaurant_Review-g187514-d4064945-Reviews-La...</td>\n",
       "      <td>d4064945</td>\n",
       "      <td>1</td>\n",
       "      <td>4.5</td>\n",
       "    </tr>\n",
       "    <tr>\n",
       "      <th>25756</th>\n",
       "      <td>id_4073</td>\n",
       "      <td>Madrid</td>\n",
       "      <td>['Steakhouse', 'Peruvian']</td>\n",
       "      <td>4075.0</td>\n",
       "      <td>$</td>\n",
       "      <td>NaN</td>\n",
       "      <td>[[], []]</td>\n",
       "      <td>/Restaurant_Review-g187514-d12632862-Reviews-A...</td>\n",
       "      <td>d12632862</td>\n",
       "      <td>1</td>\n",
       "      <td>5.0</td>\n",
       "    </tr>\n",
       "    <tr>\n",
       "      <th>2262</th>\n",
       "      <td>id_2262</td>\n",
       "      <td>Hamburg</td>\n",
       "      <td>['Mexican', 'Latin', 'Vegetarian Friendly']</td>\n",
       "      <td>261.0</td>\n",
       "      <td>$$ - $$$</td>\n",
       "      <td>133.0</td>\n",
       "      <td>[['Nice but old fashion', 'Big portions'], ['0...</td>\n",
       "      <td>/Restaurant_Review-g187331-d1038919-Reviews-Do...</td>\n",
       "      <td>d1038919</td>\n",
       "      <td>0</td>\n",
       "      <td>0.0</td>\n",
       "    </tr>\n",
       "    <tr>\n",
       "      <th>12654</th>\n",
       "      <td>id_9644</td>\n",
       "      <td>Paris</td>\n",
       "      <td>['French', 'European']</td>\n",
       "      <td>9646.0</td>\n",
       "      <td>$$ - $$$</td>\n",
       "      <td>315.0</td>\n",
       "      <td>[['Busy at the week end', 'quick stop over'], ...</td>\n",
       "      <td>/Restaurant_Review-g187147-d2181709-Reviews-La...</td>\n",
       "      <td>d2181709</td>\n",
       "      <td>1</td>\n",
       "      <td>3.0</td>\n",
       "    </tr>\n",
       "    <tr>\n",
       "      <th>19284</th>\n",
       "      <td>id_1233</td>\n",
       "      <td>Paris</td>\n",
       "      <td>['French', 'European', 'Vegetarian Friendly', ...</td>\n",
       "      <td>1234.0</td>\n",
       "      <td>$$ - $$$</td>\n",
       "      <td>354.0</td>\n",
       "      <td>[['Delicious and innovative dinner', 'Creative...</td>\n",
       "      <td>/Restaurant_Review-g187147-d719844-Reviews-Pom...</td>\n",
       "      <td>d719844</td>\n",
       "      <td>1</td>\n",
       "      <td>4.5</td>\n",
       "    </tr>\n",
       "  </tbody>\n",
       "</table>\n",
       "</div>"
      ],
      "text/plain": [
       "      Restaurant_id     City  \\\n",
       "32705       id_5151   Madrid   \n",
       "25756       id_4073   Madrid   \n",
       "2262        id_2262  Hamburg   \n",
       "12654       id_9644    Paris   \n",
       "19284       id_1233    Paris   \n",
       "\n",
       "                                           Cuisine Style  Ranking Price Range  \\\n",
       "32705                                        ['Spanish']   5154.0         NaN   \n",
       "25756                         ['Steakhouse', 'Peruvian']   4075.0           $   \n",
       "2262         ['Mexican', 'Latin', 'Vegetarian Friendly']    261.0    $$ - $$$   \n",
       "12654                             ['French', 'European']   9646.0    $$ - $$$   \n",
       "19284  ['French', 'European', 'Vegetarian Friendly', ...   1234.0    $$ - $$$   \n",
       "\n",
       "       Number of Reviews                                            Reviews  \\\n",
       "32705                5.0  [['Awesome Tapas and Coctails', 'AVERAGE'], ['...   \n",
       "25756                NaN                                           [[], []]   \n",
       "2262               133.0  [['Nice but old fashion', 'Big portions'], ['0...   \n",
       "12654              315.0  [['Busy at the week end', 'quick stop over'], ...   \n",
       "19284              354.0  [['Delicious and innovative dinner', 'Creative...   \n",
       "\n",
       "                                                  URL_TA      ID_TA  sample  \\\n",
       "32705  /Restaurant_Review-g187514-d4064945-Reviews-La...   d4064945       1   \n",
       "25756  /Restaurant_Review-g187514-d12632862-Reviews-A...  d12632862       1   \n",
       "2262   /Restaurant_Review-g187331-d1038919-Reviews-Do...   d1038919       0   \n",
       "12654  /Restaurant_Review-g187147-d2181709-Reviews-La...   d2181709       1   \n",
       "19284  /Restaurant_Review-g187147-d719844-Reviews-Pom...    d719844       1   \n",
       "\n",
       "       Rating  \n",
       "32705     4.5  \n",
       "25756     5.0  \n",
       "2262      0.0  \n",
       "12654     3.0  \n",
       "19284     4.5  "
      ]
     },
     "execution_count": 1135,
     "metadata": {},
     "output_type": "execute_result"
    }
   ],
   "source": [
    "data.sample(5)"
   ]
  },
  {
   "cell_type": "markdown",
   "metadata": {},
   "source": [
    "Как видим, большинство признаков у нас требует очистки и предварительной обработки."
   ]
  },
  {
   "cell_type": "code",
   "execution_count": 1136,
   "metadata": {},
   "outputs": [],
   "source": [
    "#Функция для анализа числовых столбцов\n",
    "def func_(df, col, with_bins):\n",
    "    \n",
    "    #Заменим на NaN если есть пустая строчка     \n",
    "    df[col] = df[col].apply(lambda x: None if str(x).strip()=='' else x)\n",
    "    \n",
    "    display(pd.DataFrame(df[col].value_counts()))\n",
    "    print(\"Значений, встретившихся в столбце\", col, \"более 10 раз:\", (df[col].value_counts()>10).sum())\n",
    "    print(\"Уникальных значений:\", df[col].nunique())\n",
    "    df.loc[:, [col]].info()\n",
    "    \n",
    "    if with_bins == 1:\n",
    "    \n",
    "        fig = plt.figure()\n",
    "        axes = fig.add_axes([0, 0, 1, 1])\n",
    "        axes.hist(df[col], bins = int(df[col].median()),color = 'green') \n",
    "        #axes.set_title('Общая сумма счета')\n",
    "        axes.set_ylabel('Количество')\n",
    "        axes.set_xlabel(col)  \n",
    "        \n",
    "    else: # без bins равному медиане\n",
    "        fig = plt.figure()\n",
    "        axes = fig.add_axes([0, 0, 1, 1])\n",
    "        axes.hist(df[col], color = 'green')        \n",
    "        axes.set_ylabel('Количество')\n",
    "        axes.set_xlabel(col)  "
   ]
  },
  {
   "cell_type": "code",
   "execution_count": 1137,
   "metadata": {},
   "outputs": [],
   "source": [
    "#Функция для анализа квантилей и выбросов\n",
    "def func_quantile(df, col):   \n",
    "    \n",
    "    IQR = df[col].quantile(q=0.75) - df[col].quantile(0.25)\n",
    "    perc25 = df[col].quantile(0.25)\n",
    "    perc75 = df[col].quantile(0.75)\n",
    "    print('25-й перцентиль: {},'.format(perc25), '75-й перцентиль: {},'.format(perc75), \"IQR: {}, \".format(IQR), \"Границы выбросов: [{f}, {l}].\".format(f=perc25 - 1.5*IQR, l=perc75 + 1.5*IQR))\n",
    "    \n",
    "    # Подсчитаем количество выбросов\n",
    "    print(\"Количество выбросов в столбце\",col,\":\",df[df[col]<perc25 - 1.5*IQR][col].count() + df[df[col]>perc75 + 1.5*IQR][col].count())\n",
    "    df[col].loc[df[col].between(perc25 - 1.5*IQR, perc75 + 1.5*IQR)].hist(bins = 20, label = 'IQR')\n",
    "    plt.legend()  "
   ]
  },
  {
   "cell_type": "code",
   "execution_count": 1138,
   "metadata": {},
   "outputs": [],
   "source": [
    "#Функция для заполнения выбросов ближайшим квантилем\n",
    "def filling_quantile(df, col, change_quant): #quant=0.25 или 0.75\n",
    "    IQR = df[col].quantile(q=0.75) - df[col].quantile(0.25)\n",
    "    perc25 = df[col].quantile(0.25)\n",
    "    perc75 = df[col].quantile(0.75)\n",
    "    high_border = perc75 + 1.5*IQR\n",
    "    low_border = perc25 - 1.5*IQR\n",
    "    if change_quant == 0.75:\n",
    "        df[col] = df[col].apply(lambda x: high_border if x>high_border else x)\n",
    "    elif change_quant == 0.25:\n",
    "        df[col] = df[col].apply(lambda x: low_border if x<low_border else x)\n",
    "    else:\n",
    "        print('Значение квантиля должно быть 0.25 или 0.75 :)')"
   ]
  },
  {
   "cell_type": "code",
   "execution_count": 1139,
   "metadata": {},
   "outputs": [],
   "source": [
    "#Строим график для колонок, содержащих номинативные переменные\n",
    "def get_boxplot(column):\n",
    "    fig, ax = plt.subplots(figsize = (8, 4))\n",
    "    sns.boxplot(x=column, y='Rating', \n",
    "                data=data.loc[data.loc[:, column].isin(data.loc[:, column].value_counts().index[:20])],\n",
    "               ax=ax)\n",
    "    plt.xticks(rotation=45)\n",
    "    ax.set_title('Boxplot for ' + column)\n",
    "    plt.show()"
   ]
  },
  {
   "cell_type": "code",
   "execution_count": 1140,
   "metadata": {},
   "outputs": [],
   "source": [
    "def get_stat_dif_2(column):\n",
    "    \n",
    "    cols = data[data['sample'] == 1].loc[:, column].value_counts().index[:]\n",
    "    combinations_all = list(combinations(cols, 2))\n",
    "    # Тест проводим на изначальном наборе данных без NA значений для целевого столбца, \n",
    "    # столбца с признаком, дополнительно исключив 0 для оценок\n",
    "    stud_stat = data[data['sample'] == 1]\n",
    "    for comb in combinations_all:\n",
    "        if ttest_ind(stud_stat.loc[data[data['sample'] == 1].loc[:, column] == comb[0], 'Rating'],\n",
    "                     stud_stat.loc[data[data['sample'] == 1].loc[:, column] == comb[1], 'Rating']).pvalue <= 0.05/len(combinations_all):  # учли поправку Бонферони\n",
    "            # print('Найдены статистически значимые различия для колонки', column)\n",
    "            pass\n",
    "        else:\n",
    "            return column \n",
    "            break"
   ]
  },
  {
   "cell_type": "code",
   "execution_count": 1141,
   "metadata": {},
   "outputs": [],
   "source": [
    "def get_stat_dif(column):\n",
    "    cols = data.loc[:, column].value_counts().index[:10]\n",
    "    combinations_all = list(combinations(cols, 2))\n",
    "    for comb in combinations_all:\n",
    "        if ttest_ind(data.loc[data.loc[:, column] == comb[0], 'Rating'], \n",
    "                        data.loc[data.loc[:, column] == comb[1], 'Rating']).pvalue \\\n",
    "            <= 0.05/len(combinations_all): # Учли поправку Бонферони\n",
    "            print('Найдены статистически значимые различия для колонки', column)\n",
    "        #    break\n",
    "        else:\n",
    "            return column\n",
    "            break"
   ]
  },
  {
   "cell_type": "markdown",
   "metadata": {},
   "source": [
    "# Cleaning and Prepping Data\n",
    "Обычно данные содержат в себе кучу мусора, который необходимо почистить, для того чтобы привести их в приемлемый формат. Чистка данных — это необходимый этап решения почти любой реальной задачи.   \n",
    "![](https://analyticsindiamag.com/wp-content/uploads/2018/01/data-cleaning.png)"
   ]
  },
  {
   "cell_type": "markdown",
   "metadata": {},
   "source": [
    "## 1. Обработка NAN \n",
    "У наличия пропусков могут быть разные причины, но пропуски нужно либо заполнить, либо исключить из набора полностью. Но с пропусками нужно быть внимательным, **даже отсутствие информации может быть важным признаком!**   \n",
    "По этому перед обработкой NAN лучше вынести информацию о наличии пропуска как отдельный признак "
   ]
  },
  {
   "cell_type": "code",
   "execution_count": 1142,
   "metadata": {
    "execution": {
     "iopub.execute_input": "2021-05-28T19:38:50.42486Z",
     "iopub.status.busy": "2021-05-28T19:38:50.424419Z",
     "iopub.status.idle": "2021-05-28T19:38:50.711549Z",
     "shell.execute_reply": "2021-05-28T19:38:50.710795Z",
     "shell.execute_reply.started": "2021-05-28T19:38:50.424819Z"
    }
   },
   "outputs": [],
   "source": [
    "#Заполняем единичкой, там где в колонке Number of Reviews нет числа отзывов\n",
    "data['isNAN'] = pd.isna(data['Number of Reviews']).astype('uint8')\n",
    "\n",
    "# заполняем пропуски медианой по городу\n",
    "median = data.groupby('City')['Number of Reviews'].median()\n",
    "data['Number_of_Reviews'] = data[data['isNAN'] > 0].City.apply(\n",
    "    lambda x: round(median.loc[x]))\n"
   ]
  },
  {
   "cell_type": "code",
   "execution_count": 1143,
   "metadata": {},
   "outputs": [
    {
     "data": {
      "text/plain": [
       "1"
      ]
     },
     "execution_count": 1143,
     "metadata": {},
     "output_type": "execute_result"
    }
   ],
   "source": [
    "data['Number of Reviews'].value_counts().min()"
   ]
  },
  {
   "cell_type": "code",
   "execution_count": 1144,
   "metadata": {},
   "outputs": [
    {
     "data": {
      "text/plain": [
       "21"
      ]
     },
     "execution_count": 1144,
     "metadata": {},
     "output_type": "execute_result"
    }
   ],
   "source": [
    "data['Number_of_Reviews'].value_counts().min()"
   ]
  },
  {
   "cell_type": "code",
   "execution_count": 1145,
   "metadata": {},
   "outputs": [],
   "source": [
    "data['Number of Reviews'].fillna(0, inplace=True)\n",
    "data['Number_of_Reviews'].fillna(0, inplace=True)\n",
    "data['Number of Reviews'] = data['Number of Reviews'] + data['Number_of_Reviews']\n",
    "\n",
    "#данные взяли, можно удалить\n",
    "data.drop(['Number_of_Reviews'], axis = 1, inplace = True)"
   ]
  },
  {
   "cell_type": "code",
   "execution_count": 1146,
   "metadata": {},
   "outputs": [
    {
     "data": {
      "text/html": [
       "<div>\n",
       "<style scoped>\n",
       "    .dataframe tbody tr th:only-of-type {\n",
       "        vertical-align: middle;\n",
       "    }\n",
       "\n",
       "    .dataframe tbody tr th {\n",
       "        vertical-align: top;\n",
       "    }\n",
       "\n",
       "    .dataframe thead th {\n",
       "        text-align: right;\n",
       "    }\n",
       "</style>\n",
       "<table border=\"1\" class=\"dataframe\">\n",
       "  <thead>\n",
       "    <tr style=\"text-align: right;\">\n",
       "      <th></th>\n",
       "      <th>Restaurant_id</th>\n",
       "      <th>City</th>\n",
       "      <th>Cuisine Style</th>\n",
       "      <th>Ranking</th>\n",
       "      <th>Price Range</th>\n",
       "      <th>Number of Reviews</th>\n",
       "      <th>Reviews</th>\n",
       "      <th>URL_TA</th>\n",
       "      <th>ID_TA</th>\n",
       "      <th>sample</th>\n",
       "      <th>Rating</th>\n",
       "      <th>isNAN</th>\n",
       "    </tr>\n",
       "  </thead>\n",
       "  <tbody>\n",
       "    <tr>\n",
       "      <th>0</th>\n",
       "      <td>id_0</td>\n",
       "      <td>Paris</td>\n",
       "      <td>['Bar', 'Pub']</td>\n",
       "      <td>12963.0</td>\n",
       "      <td>$$ - $$$</td>\n",
       "      <td>4.0</td>\n",
       "      <td>[[], []]</td>\n",
       "      <td>/Restaurant_Review-g187147-d10746918-Reviews-L...</td>\n",
       "      <td>d10746918</td>\n",
       "      <td>0</td>\n",
       "      <td>0.0</td>\n",
       "      <td>0</td>\n",
       "    </tr>\n",
       "    <tr>\n",
       "      <th>1</th>\n",
       "      <td>id_1</td>\n",
       "      <td>Helsinki</td>\n",
       "      <td>['European', 'Scandinavian', 'Gluten Free Opti...</td>\n",
       "      <td>106.0</td>\n",
       "      <td>$$ - $$$</td>\n",
       "      <td>97.0</td>\n",
       "      <td>[['Very good reviews!', 'Fine dining in Hakani...</td>\n",
       "      <td>/Restaurant_Review-g189934-d6674944-Reviews-Ra...</td>\n",
       "      <td>d6674944</td>\n",
       "      <td>0</td>\n",
       "      <td>0.0</td>\n",
       "      <td>0</td>\n",
       "    </tr>\n",
       "    <tr>\n",
       "      <th>2</th>\n",
       "      <td>id_2</td>\n",
       "      <td>Edinburgh</td>\n",
       "      <td>['Vegetarian Friendly']</td>\n",
       "      <td>810.0</td>\n",
       "      <td>$$ - $$$</td>\n",
       "      <td>28.0</td>\n",
       "      <td>[['Better than the Links', 'Ivy Black'], ['12/...</td>\n",
       "      <td>/Restaurant_Review-g186525-d13129638-Reviews-B...</td>\n",
       "      <td>d13129638</td>\n",
       "      <td>0</td>\n",
       "      <td>0.0</td>\n",
       "      <td>0</td>\n",
       "    </tr>\n",
       "    <tr>\n",
       "      <th>3</th>\n",
       "      <td>id_3</td>\n",
       "      <td>London</td>\n",
       "      <td>['Italian', 'Mediterranean', 'European', 'Vege...</td>\n",
       "      <td>1669.0</td>\n",
       "      <td>$$$$</td>\n",
       "      <td>202.0</td>\n",
       "      <td>[['Most exquisite', 'Delicious and authentic']...</td>\n",
       "      <td>/Restaurant_Review-g186338-d680417-Reviews-Qui...</td>\n",
       "      <td>d680417</td>\n",
       "      <td>0</td>\n",
       "      <td>0.0</td>\n",
       "      <td>0</td>\n",
       "    </tr>\n",
       "    <tr>\n",
       "      <th>4</th>\n",
       "      <td>id_4</td>\n",
       "      <td>Bratislava</td>\n",
       "      <td>['Italian', 'Mediterranean', 'European', 'Seaf...</td>\n",
       "      <td>37.0</td>\n",
       "      <td>$$$$</td>\n",
       "      <td>162.0</td>\n",
       "      <td>[['Always the best in bratislava', 'Very good ...</td>\n",
       "      <td>/Restaurant_Review-g274924-d1112354-Reviews-Ma...</td>\n",
       "      <td>d1112354</td>\n",
       "      <td>0</td>\n",
       "      <td>0.0</td>\n",
       "      <td>0</td>\n",
       "    </tr>\n",
       "    <tr>\n",
       "      <th>...</th>\n",
       "      <td>...</td>\n",
       "      <td>...</td>\n",
       "      <td>...</td>\n",
       "      <td>...</td>\n",
       "      <td>...</td>\n",
       "      <td>...</td>\n",
       "      <td>...</td>\n",
       "      <td>...</td>\n",
       "      <td>...</td>\n",
       "      <td>...</td>\n",
       "      <td>...</td>\n",
       "      <td>...</td>\n",
       "    </tr>\n",
       "    <tr>\n",
       "      <th>49995</th>\n",
       "      <td>id_499</td>\n",
       "      <td>Milan</td>\n",
       "      <td>['Italian', 'Vegetarian Friendly', 'Vegan Opti...</td>\n",
       "      <td>500.0</td>\n",
       "      <td>$$ - $$$</td>\n",
       "      <td>79.0</td>\n",
       "      <td>[['The real Italian experience!', 'Wonderful f...</td>\n",
       "      <td>/Restaurant_Review-g187849-d2104414-Reviews-Ro...</td>\n",
       "      <td>d2104414</td>\n",
       "      <td>1</td>\n",
       "      <td>4.5</td>\n",
       "      <td>0</td>\n",
       "    </tr>\n",
       "    <tr>\n",
       "      <th>49996</th>\n",
       "      <td>id_6340</td>\n",
       "      <td>Paris</td>\n",
       "      <td>['French', 'American', 'Bar', 'European', 'Veg...</td>\n",
       "      <td>6341.0</td>\n",
       "      <td>$$ - $$$</td>\n",
       "      <td>542.0</td>\n",
       "      <td>[['Parisian atmosphere', 'Bit pricey but inter...</td>\n",
       "      <td>/Restaurant_Review-g187147-d1800036-Reviews-La...</td>\n",
       "      <td>d1800036</td>\n",
       "      <td>1</td>\n",
       "      <td>3.5</td>\n",
       "      <td>0</td>\n",
       "    </tr>\n",
       "    <tr>\n",
       "      <th>49997</th>\n",
       "      <td>id_1649</td>\n",
       "      <td>Stockholm</td>\n",
       "      <td>['Japanese', 'Sushi']</td>\n",
       "      <td>1652.0</td>\n",
       "      <td>NaN</td>\n",
       "      <td>4.0</td>\n",
       "      <td>[['Good by swedish standards', 'A hidden jewel...</td>\n",
       "      <td>/Restaurant_Review-g189852-d947615-Reviews-Sus...</td>\n",
       "      <td>d947615</td>\n",
       "      <td>1</td>\n",
       "      <td>4.5</td>\n",
       "      <td>0</td>\n",
       "    </tr>\n",
       "    <tr>\n",
       "      <th>49998</th>\n",
       "      <td>id_640</td>\n",
       "      <td>Warsaw</td>\n",
       "      <td>['Polish', 'European', 'Eastern European', 'Ce...</td>\n",
       "      <td>641.0</td>\n",
       "      <td>$$ - $$$</td>\n",
       "      <td>70.0</td>\n",
       "      <td>[['Underground restaurant', 'Oldest Restaurant...</td>\n",
       "      <td>/Restaurant_Review-g274856-d1100838-Reviews-Ho...</td>\n",
       "      <td>d1100838</td>\n",
       "      <td>1</td>\n",
       "      <td>4.0</td>\n",
       "      <td>0</td>\n",
       "    </tr>\n",
       "    <tr>\n",
       "      <th>49999</th>\n",
       "      <td>id_4824</td>\n",
       "      <td>Milan</td>\n",
       "      <td>['Spanish']</td>\n",
       "      <td>4827.0</td>\n",
       "      <td>$$ - $$$</td>\n",
       "      <td>260.0</td>\n",
       "      <td>[['Average', 'Nice an informal'], ['01/31/2016...</td>\n",
       "      <td>/Restaurant_Review-g187849-d1109020-Reviews-Ta...</td>\n",
       "      <td>d1109020</td>\n",
       "      <td>1</td>\n",
       "      <td>3.0</td>\n",
       "      <td>0</td>\n",
       "    </tr>\n",
       "  </tbody>\n",
       "</table>\n",
       "<p>46800 rows × 12 columns</p>\n",
       "</div>"
      ],
      "text/plain": [
       "      Restaurant_id        City  \\\n",
       "0              id_0       Paris   \n",
       "1              id_1    Helsinki   \n",
       "2              id_2   Edinburgh   \n",
       "3              id_3      London   \n",
       "4              id_4  Bratislava   \n",
       "...             ...         ...   \n",
       "49995        id_499       Milan   \n",
       "49996       id_6340       Paris   \n",
       "49997       id_1649   Stockholm   \n",
       "49998        id_640      Warsaw   \n",
       "49999       id_4824       Milan   \n",
       "\n",
       "                                           Cuisine Style  Ranking Price Range  \\\n",
       "0                                         ['Bar', 'Pub']  12963.0    $$ - $$$   \n",
       "1      ['European', 'Scandinavian', 'Gluten Free Opti...    106.0    $$ - $$$   \n",
       "2                                ['Vegetarian Friendly']    810.0    $$ - $$$   \n",
       "3      ['Italian', 'Mediterranean', 'European', 'Vege...   1669.0        $$$$   \n",
       "4      ['Italian', 'Mediterranean', 'European', 'Seaf...     37.0        $$$$   \n",
       "...                                                  ...      ...         ...   \n",
       "49995  ['Italian', 'Vegetarian Friendly', 'Vegan Opti...    500.0    $$ - $$$   \n",
       "49996  ['French', 'American', 'Bar', 'European', 'Veg...   6341.0    $$ - $$$   \n",
       "49997                              ['Japanese', 'Sushi']   1652.0         NaN   \n",
       "49998  ['Polish', 'European', 'Eastern European', 'Ce...    641.0    $$ - $$$   \n",
       "49999                                        ['Spanish']   4827.0    $$ - $$$   \n",
       "\n",
       "       Number of Reviews                                            Reviews  \\\n",
       "0                    4.0                                           [[], []]   \n",
       "1                   97.0  [['Very good reviews!', 'Fine dining in Hakani...   \n",
       "2                   28.0  [['Better than the Links', 'Ivy Black'], ['12/...   \n",
       "3                  202.0  [['Most exquisite', 'Delicious and authentic']...   \n",
       "4                  162.0  [['Always the best in bratislava', 'Very good ...   \n",
       "...                  ...                                                ...   \n",
       "49995               79.0  [['The real Italian experience!', 'Wonderful f...   \n",
       "49996              542.0  [['Parisian atmosphere', 'Bit pricey but inter...   \n",
       "49997                4.0  [['Good by swedish standards', 'A hidden jewel...   \n",
       "49998               70.0  [['Underground restaurant', 'Oldest Restaurant...   \n",
       "49999              260.0  [['Average', 'Nice an informal'], ['01/31/2016...   \n",
       "\n",
       "                                                  URL_TA      ID_TA  sample  \\\n",
       "0      /Restaurant_Review-g187147-d10746918-Reviews-L...  d10746918       0   \n",
       "1      /Restaurant_Review-g189934-d6674944-Reviews-Ra...   d6674944       0   \n",
       "2      /Restaurant_Review-g186525-d13129638-Reviews-B...  d13129638       0   \n",
       "3      /Restaurant_Review-g186338-d680417-Reviews-Qui...    d680417       0   \n",
       "4      /Restaurant_Review-g274924-d1112354-Reviews-Ma...   d1112354       0   \n",
       "...                                                  ...        ...     ...   \n",
       "49995  /Restaurant_Review-g187849-d2104414-Reviews-Ro...   d2104414       1   \n",
       "49996  /Restaurant_Review-g187147-d1800036-Reviews-La...   d1800036       1   \n",
       "49997  /Restaurant_Review-g189852-d947615-Reviews-Sus...    d947615       1   \n",
       "49998  /Restaurant_Review-g274856-d1100838-Reviews-Ho...   d1100838       1   \n",
       "49999  /Restaurant_Review-g187849-d1109020-Reviews-Ta...   d1109020       1   \n",
       "\n",
       "       Rating  isNAN  \n",
       "0         0.0      0  \n",
       "1         0.0      0  \n",
       "2         0.0      0  \n",
       "3         0.0      0  \n",
       "4         0.0      0  \n",
       "...       ...    ...  \n",
       "49995     4.5      0  \n",
       "49996     3.5      0  \n",
       "49997     4.5      0  \n",
       "49998     4.0      0  \n",
       "49999     3.0      0  \n",
       "\n",
       "[46800 rows x 12 columns]"
      ]
     },
     "execution_count": 1146,
     "metadata": {},
     "output_type": "execute_result"
    }
   ],
   "source": [
    "data[data['isNAN'] ==0]"
   ]
  },
  {
   "cell_type": "markdown",
   "metadata": {},
   "source": [
    "### 2. Обработка признаков"
   ]
  },
  {
   "cell_type": "code",
   "execution_count": 1147,
   "metadata": {
    "execution": {
     "iopub.execute_input": "2021-05-28T19:38:50.713531Z",
     "iopub.status.busy": "2021-05-28T19:38:50.713004Z",
     "iopub.status.idle": "2021-05-28T19:38:50.847422Z",
     "shell.execute_reply": "2021-05-28T19:38:50.84658Z",
     "shell.execute_reply.started": "2021-05-28T19:38:50.713486Z"
    }
   },
   "outputs": [
    {
     "data": {
      "text/plain": [
       "Restaurant_id        13094\n",
       "City                    31\n",
       "Cuisine Style        10732\n",
       "Ranking              12975\n",
       "Price Range              4\n",
       "Number of Reviews     1573\n",
       "Reviews              41858\n",
       "URL_TA               49963\n",
       "ID_TA                49963\n",
       "sample                   2\n",
       "Rating                  10\n",
       "isNAN                    2\n",
       "dtype: int64"
      ]
     },
     "execution_count": 1147,
     "metadata": {},
     "output_type": "execute_result"
    }
   ],
   "source": [
    "data.nunique(dropna=False)"
   ]
  },
  {
   "cell_type": "markdown",
   "metadata": {},
   "source": [
    " ### Рассмотрим и проанализируем колонку Ranking"
   ]
  },
  {
   "cell_type": "code",
   "execution_count": 1148,
   "metadata": {},
   "outputs": [],
   "source": [
    "#Ranking: Ранг ресторана относительно других ресторанов в этом городе"
   ]
  },
  {
   "cell_type": "code",
   "execution_count": 1149,
   "metadata": {},
   "outputs": [
    {
     "data": {
      "text/html": [
       "<div>\n",
       "<style scoped>\n",
       "    .dataframe tbody tr th:only-of-type {\n",
       "        vertical-align: middle;\n",
       "    }\n",
       "\n",
       "    .dataframe tbody tr th {\n",
       "        vertical-align: top;\n",
       "    }\n",
       "\n",
       "    .dataframe thead th {\n",
       "        text-align: right;\n",
       "    }\n",
       "</style>\n",
       "<table border=\"1\" class=\"dataframe\">\n",
       "  <thead>\n",
       "    <tr style=\"text-align: right;\">\n",
       "      <th></th>\n",
       "      <th>Ranking</th>\n",
       "    </tr>\n",
       "  </thead>\n",
       "  <tbody>\n",
       "    <tr>\n",
       "      <th>93.0</th>\n",
       "      <td>22</td>\n",
       "    </tr>\n",
       "    <tr>\n",
       "      <th>72.0</th>\n",
       "      <td>21</td>\n",
       "    </tr>\n",
       "    <tr>\n",
       "      <th>491.0</th>\n",
       "      <td>21</td>\n",
       "    </tr>\n",
       "    <tr>\n",
       "      <th>842.0</th>\n",
       "      <td>21</td>\n",
       "    </tr>\n",
       "    <tr>\n",
       "      <th>1013.0</th>\n",
       "      <td>20</td>\n",
       "    </tr>\n",
       "    <tr>\n",
       "      <th>...</th>\n",
       "      <td>...</td>\n",
       "    </tr>\n",
       "    <tr>\n",
       "      <th>8027.0</th>\n",
       "      <td>1</td>\n",
       "    </tr>\n",
       "    <tr>\n",
       "      <th>10415.0</th>\n",
       "      <td>1</td>\n",
       "    </tr>\n",
       "    <tr>\n",
       "      <th>14621.0</th>\n",
       "      <td>1</td>\n",
       "    </tr>\n",
       "    <tr>\n",
       "      <th>11766.0</th>\n",
       "      <td>1</td>\n",
       "    </tr>\n",
       "    <tr>\n",
       "      <th>10585.0</th>\n",
       "      <td>1</td>\n",
       "    </tr>\n",
       "  </tbody>\n",
       "</table>\n",
       "<p>12975 rows × 1 columns</p>\n",
       "</div>"
      ],
      "text/plain": [
       "         Ranking\n",
       "93.0          22\n",
       "72.0          21\n",
       "491.0         21\n",
       "842.0         21\n",
       "1013.0        20\n",
       "...          ...\n",
       "8027.0         1\n",
       "10415.0        1\n",
       "14621.0        1\n",
       "11766.0        1\n",
       "10585.0        1\n",
       "\n",
       "[12975 rows x 1 columns]"
      ]
     },
     "metadata": {},
     "output_type": "display_data"
    },
    {
     "name": "stdout",
     "output_type": "stream",
     "text": [
      "Значений, встретившихся в столбце Ranking более 10 раз: 1269\n",
      "Уникальных значений: 12975\n",
      "<class 'pandas.core.frame.DataFrame'>\n",
      "RangeIndex: 50000 entries, 0 to 49999\n",
      "Data columns (total 1 columns):\n",
      " #   Column   Non-Null Count  Dtype  \n",
      "---  ------   --------------  -----  \n",
      " 0   Ranking  50000 non-null  float64\n",
      "dtypes: float64(1)\n",
      "memory usage: 390.7 KB\n"
     ]
    },
    {
     "data": {
      "image/png": "[encoded data removed]",
      "text/plain": [
       "<Figure size 432x288 with 1 Axes>"
      ]
     },
     "metadata": {
      "needs_background": "light"
     },
     "output_type": "display_data"
    }
   ],
   "source": [
    "func_(data,'Ranking',10)"
   ]
  },
  {
   "cell_type": "code",
   "execution_count": 1150,
   "metadata": {},
   "outputs": [
    {
     "name": "stdout",
     "output_type": "stream",
     "text": [
      "25-й перцентиль: 972.0, 75-й перцентиль: 5241.0, IQR: 4269.0,  Границы выбросов: [-5431.5, 11644.5].\n",
      "Количество выбросов в столбце Ranking : 3075\n"
     ]
    },
    {
     "data": {
      "image/png": "[encoded data removed]",
      "text/plain": [
       "<Figure size 432x288 with 1 Axes>"
      ]
     },
     "metadata": {
      "needs_background": "light"
     },
     "output_type": "display_data"
    }
   ],
   "source": [
    "func_quantile(data,'Ranking')"
   ]
  },
  {
   "cell_type": "code",
   "execution_count": 1151,
   "metadata": {},
   "outputs": [
    {
     "data": {
      "text/plain": [
       "<AxesSubplot:xlabel='Ranking'>"
      ]
     },
     "execution_count": 1151,
     "metadata": {},
     "output_type": "execute_result"
    },
    {
     "data": {
      "image/png": "[encoded data removed]",
      "text/plain": [
       "<Figure size 432x288 with 1 Axes>"
      ]
     },
     "metadata": {
      "needs_background": "light"
     },
     "output_type": "display_data"
    }
   ],
   "source": [
    "sns.boxplot(x= 'Ranking', data = data)"
   ]
  },
  {
   "cell_type": "code",
   "execution_count": 1152,
   "metadata": {},
   "outputs": [
    {
     "data": {
      "text/plain": [
       "-0.10989733543682878"
      ]
     },
     "execution_count": 1152,
     "metadata": {},
     "output_type": "execute_result"
    }
   ],
   "source": [
    "#Посмотрим на корреляцию\n",
    "data.loc[:,'Rating'].astype('float64').corr(data.loc[:,'Ranking']).astype('float64')"
   ]
  },
  {
   "cell_type": "code",
   "execution_count": 1153,
   "metadata": {},
   "outputs": [
    {
     "data": {
      "text/plain": [
       "<seaborn.axisgrid.PairGrid at 0x45b6b8b0>"
      ]
     },
     "execution_count": 1153,
     "metadata": {},
     "output_type": "execute_result"
    },
    {
     "data": {
      "image/png": "[encoded data removed]",
      "text/plain": [
       "<Figure size 360x360 with 6 Axes>"
      ]
     },
     "metadata": {
      "needs_background": "light"
     },
     "output_type": "display_data"
    }
   ],
   "source": [
    "sns.pairplot(data, vars = [\"Ranking\",\"Rating\"], kind = 'reg',diag_kind=\"kde\")"
   ]
  },
  {
   "cell_type": "markdown",
   "metadata": {},
   "source": [
    "Зависимость слабая линейная (корреляция всего -0,1)"
   ]
  },
  {
   "cell_type": "code",
   "execution_count": 1154,
   "metadata": {},
   "outputs": [],
   "source": [
    "# Заменим выбросы на ближайший квантиль Q3\n",
    "#filling_quantile(data, 'Ranking',0.75)\n",
    "\n",
    "#При замене - MAE ухудшается на 0,2. Все таки выбросы как отдельная группа в данном случае. Нельзя ее убирать. \n",
    "#Попробуем добавить группы."
   ]
  },
  {
   "cell_type": "code",
   "execution_count": 1155,
   "metadata": {},
   "outputs": [],
   "source": [
    "def func(x):\n",
    "    if x > 972 and x < 5241:\n",
    "        return 1\n",
    "    elif x < 972:\n",
    "        return 2\n",
    "    else: return 3     "
   ]
  },
  {
   "cell_type": "code",
   "execution_count": 1156,
   "metadata": {},
   "outputs": [],
   "source": [
    "data['Ranking_group'] = data['Ranking'].apply(func)"
   ]
  },
  {
   "cell_type": "code",
   "execution_count": 1157,
   "metadata": {},
   "outputs": [
    {
     "data": {
      "text/plain": [
       "-0.054359249145753234"
      ]
     },
     "execution_count": 1157,
     "metadata": {},
     "output_type": "execute_result"
    }
   ],
   "source": [
    "#Посмотрим на корреляцию\n",
    "data.loc[:,'Rating'].astype('float64').corr(data.loc[:,'Ranking_group']).astype('float64')"
   ]
  },
  {
   "cell_type": "markdown",
   "metadata": {},
   "source": [
    "Корреляция стала еще ниже. "
   ]
  },
  {
   "cell_type": "code",
   "execution_count": 1158,
   "metadata": {},
   "outputs": [],
   "source": [
    "#Попробуем сделать дамми-перемнные\n",
    "data = pd.get_dummies(data, columns=['Ranking_group'], dummy_na=False)\n",
    "#Немного улучшился MAE"
   ]
  },
  {
   "cell_type": "markdown",
   "metadata": {},
   "source": [
    "<b>Таким образом, я создала новый признак - три типа ранга ресторана относительно других ресторанов в этом городе</b>"
   ]
  },
  {
   "cell_type": "markdown",
   "metadata": {},
   "source": [
    "Найдем количество ресторанов в каждом городе"
   ]
  },
  {
   "cell_type": "code",
   "execution_count": 1159,
   "metadata": {},
   "outputs": [
    {
     "data": {
      "text/html": [
       "<div>\n",
       "<style scoped>\n",
       "    .dataframe tbody tr th:only-of-type {\n",
       "        vertical-align: middle;\n",
       "    }\n",
       "\n",
       "    .dataframe tbody tr th {\n",
       "        vertical-align: top;\n",
       "    }\n",
       "\n",
       "    .dataframe thead th {\n",
       "        text-align: right;\n",
       "    }\n",
       "</style>\n",
       "<table border=\"1\" class=\"dataframe\">\n",
       "  <thead>\n",
       "    <tr style=\"text-align: right;\">\n",
       "      <th></th>\n",
       "      <th>City</th>\n",
       "      <th>count_in_city</th>\n",
       "    </tr>\n",
       "  </thead>\n",
       "  <tbody>\n",
       "    <tr>\n",
       "      <th>0</th>\n",
       "      <td>Amsterdam</td>\n",
       "      <td>1372</td>\n",
       "    </tr>\n",
       "    <tr>\n",
       "      <th>1</th>\n",
       "      <td>Athens</td>\n",
       "      <td>776</td>\n",
       "    </tr>\n",
       "    <tr>\n",
       "      <th>2</th>\n",
       "      <td>Barcelona</td>\n",
       "      <td>3395</td>\n",
       "    </tr>\n",
       "    <tr>\n",
       "      <th>3</th>\n",
       "      <td>Berlin</td>\n",
       "      <td>2705</td>\n",
       "    </tr>\n",
       "    <tr>\n",
       "      <th>4</th>\n",
       "      <td>Bratislava</td>\n",
       "      <td>380</td>\n",
       "    </tr>\n",
       "    <tr>\n",
       "      <th>5</th>\n",
       "      <td>Brussels</td>\n",
       "      <td>1314</td>\n",
       "    </tr>\n",
       "    <tr>\n",
       "      <th>6</th>\n",
       "      <td>Budapest</td>\n",
       "      <td>1021</td>\n",
       "    </tr>\n",
       "    <tr>\n",
       "      <th>7</th>\n",
       "      <td>Copenhagen</td>\n",
       "      <td>819</td>\n",
       "    </tr>\n",
       "    <tr>\n",
       "      <th>8</th>\n",
       "      <td>Dublin</td>\n",
       "      <td>836</td>\n",
       "    </tr>\n",
       "    <tr>\n",
       "      <th>9</th>\n",
       "      <td>Edinburgh</td>\n",
       "      <td>745</td>\n",
       "    </tr>\n",
       "    <tr>\n",
       "      <th>10</th>\n",
       "      <td>Geneva</td>\n",
       "      <td>590</td>\n",
       "    </tr>\n",
       "    <tr>\n",
       "      <th>11</th>\n",
       "      <td>Hamburg</td>\n",
       "      <td>1186</td>\n",
       "    </tr>\n",
       "    <tr>\n",
       "      <th>12</th>\n",
       "      <td>Helsinki</td>\n",
       "      <td>475</td>\n",
       "    </tr>\n",
       "    <tr>\n",
       "      <th>13</th>\n",
       "      <td>Krakow</td>\n",
       "      <td>554</td>\n",
       "    </tr>\n",
       "    <tr>\n",
       "      <th>14</th>\n",
       "      <td>Lisbon</td>\n",
       "      <td>1647</td>\n",
       "    </tr>\n",
       "    <tr>\n",
       "      <th>15</th>\n",
       "      <td>Ljubljana</td>\n",
       "      <td>222</td>\n",
       "    </tr>\n",
       "    <tr>\n",
       "      <th>16</th>\n",
       "      <td>London</td>\n",
       "      <td>7193</td>\n",
       "    </tr>\n",
       "    <tr>\n",
       "      <th>17</th>\n",
       "      <td>Luxembourg</td>\n",
       "      <td>263</td>\n",
       "    </tr>\n",
       "    <tr>\n",
       "      <th>18</th>\n",
       "      <td>Lyon</td>\n",
       "      <td>1126</td>\n",
       "    </tr>\n",
       "    <tr>\n",
       "      <th>19</th>\n",
       "      <td>Madrid</td>\n",
       "      <td>3813</td>\n",
       "    </tr>\n",
       "    <tr>\n",
       "      <th>20</th>\n",
       "      <td>Milan</td>\n",
       "      <td>2694</td>\n",
       "    </tr>\n",
       "    <tr>\n",
       "      <th>21</th>\n",
       "      <td>Munich</td>\n",
       "      <td>1145</td>\n",
       "    </tr>\n",
       "    <tr>\n",
       "      <th>22</th>\n",
       "      <td>Oporto</td>\n",
       "      <td>642</td>\n",
       "    </tr>\n",
       "    <tr>\n",
       "      <th>23</th>\n",
       "      <td>Oslo</td>\n",
       "      <td>488</td>\n",
       "    </tr>\n",
       "    <tr>\n",
       "      <th>24</th>\n",
       "      <td>Paris</td>\n",
       "      <td>6108</td>\n",
       "    </tr>\n",
       "    <tr>\n",
       "      <th>25</th>\n",
       "      <td>Prague</td>\n",
       "      <td>1816</td>\n",
       "    </tr>\n",
       "    <tr>\n",
       "      <th>26</th>\n",
       "      <td>Rome</td>\n",
       "      <td>2589</td>\n",
       "    </tr>\n",
       "    <tr>\n",
       "      <th>27</th>\n",
       "      <td>Stockholm</td>\n",
       "      <td>1033</td>\n",
       "    </tr>\n",
       "    <tr>\n",
       "      <th>28</th>\n",
       "      <td>Vienna</td>\n",
       "      <td>1443</td>\n",
       "    </tr>\n",
       "    <tr>\n",
       "      <th>29</th>\n",
       "      <td>Warsaw</td>\n",
       "      <td>925</td>\n",
       "    </tr>\n",
       "    <tr>\n",
       "      <th>30</th>\n",
       "      <td>Zurich</td>\n",
       "      <td>685</td>\n",
       "    </tr>\n",
       "  </tbody>\n",
       "</table>\n",
       "</div>"
      ],
      "text/plain": [
       "          City  count_in_city\n",
       "0    Amsterdam           1372\n",
       "1       Athens            776\n",
       "2    Barcelona           3395\n",
       "3       Berlin           2705\n",
       "4   Bratislava            380\n",
       "5     Brussels           1314\n",
       "6     Budapest           1021\n",
       "7   Copenhagen            819\n",
       "8       Dublin            836\n",
       "9    Edinburgh            745\n",
       "10      Geneva            590\n",
       "11     Hamburg           1186\n",
       "12    Helsinki            475\n",
       "13      Krakow            554\n",
       "14      Lisbon           1647\n",
       "15   Ljubljana            222\n",
       "16      London           7193\n",
       "17  Luxembourg            263\n",
       "18        Lyon           1126\n",
       "19      Madrid           3813\n",
       "20       Milan           2694\n",
       "21      Munich           1145\n",
       "22      Oporto            642\n",
       "23        Oslo            488\n",
       "24       Paris           6108\n",
       "25      Prague           1816\n",
       "26        Rome           2589\n",
       "27   Stockholm           1033\n",
       "28      Vienna           1443\n",
       "29      Warsaw            925\n",
       "30      Zurich            685"
      ]
     },
     "execution_count": 1159,
     "metadata": {},
     "output_type": "execute_result"
    }
   ],
   "source": [
    "rest_count_in_city = data.groupby('City')['Restaurant_id'].count().reset_index()\n",
    "rest_count_in_city.sort_values(by = 'Restaurant_id',ascending=False)\n",
    "rest_count_in_city.rename(columns = {'Restaurant_id':'count_in_city'}, inplace = True)\n",
    "rest_count_in_city"
   ]
  },
  {
   "cell_type": "code",
   "execution_count": 1160,
   "metadata": {
    "execution": {
     "iopub.execute_input": "2021-05-28T19:38:52.005126Z",
     "iopub.status.busy": "2021-05-28T19:38:52.00469Z",
     "iopub.status.idle": "2021-05-28T19:38:52.491308Z",
     "shell.execute_reply": "2021-05-28T19:38:52.49002Z",
     "shell.execute_reply.started": "2021-05-28T19:38:52.005063Z"
    },
    "scrolled": true
   },
   "outputs": [
    {
     "data": {
      "text/plain": [
       "<AxesSubplot:>"
      ]
     },
     "execution_count": 1160,
     "metadata": {},
     "output_type": "execute_result"
    },
    {
     "data": {
      "image/png": "[encoded data removed]",
      "text/plain": [
       "<Figure size 720x504 with 1 Axes>"
      ]
     },
     "metadata": {
      "needs_background": "light"
     },
     "output_type": "display_data"
    }
   ],
   "source": [
    "plt.rcParams['figure.figsize'] = (10,7)\n",
    "df_train['Ranking'].hist(bins=100)"
   ]
  },
  {
   "cell_type": "markdown",
   "metadata": {},
   "source": [
    "У нас много ресторанов, которые не дотягивают и до 2500 места в своем городе, а что там по городам?"
   ]
  },
  {
   "cell_type": "code",
   "execution_count": 1161,
   "metadata": {
    "execution": {
     "iopub.execute_input": "2021-05-28T19:38:52.493605Z",
     "iopub.status.busy": "2021-05-28T19:38:52.493034Z",
     "iopub.status.idle": "2021-05-28T19:38:52.852624Z",
     "shell.execute_reply": "2021-05-28T19:38:52.851385Z",
     "shell.execute_reply.started": "2021-05-28T19:38:52.493358Z"
    }
   },
   "outputs": [
    {
     "data": {
      "text/plain": [
       "<AxesSubplot:>"
      ]
     },
     "execution_count": 1161,
     "metadata": {},
     "output_type": "execute_result"
    },
    {
     "data": {
      "image/png": "[encoded data removed]",
      "text/plain": [
       "<Figure size 720x504 with 1 Axes>"
      ]
     },
     "metadata": {
      "needs_background": "light"
     },
     "output_type": "display_data"
    }
   ],
   "source": [
    "df_train['City'].value_counts(ascending=True).plot(kind='barh')"
   ]
  },
  {
   "cell_type": "markdown",
   "metadata": {},
   "source": [
    "А кто-то говорил, что французы любят поесть=) Посмотрим, как изменится распределение в большом городе:"
   ]
  },
  {
   "cell_type": "code",
   "execution_count": 1162,
   "metadata": {
    "execution": {
     "iopub.execute_input": "2021-05-28T19:38:52.855111Z",
     "iopub.status.busy": "2021-05-28T19:38:52.85447Z",
     "iopub.status.idle": "2021-05-28T19:38:53.376391Z",
     "shell.execute_reply": "2021-05-28T19:38:53.375274Z",
     "shell.execute_reply.started": "2021-05-28T19:38:52.855042Z"
    }
   },
   "outputs": [
    {
     "data": {
      "text/plain": [
       "<AxesSubplot:>"
      ]
     },
     "execution_count": 1162,
     "metadata": {},
     "output_type": "execute_result"
    },
    {
     "data": {
      "image/png": "[encoded data removed]",
      "text/plain": [
       "<Figure size 720x504 with 1 Axes>"
      ]
     },
     "metadata": {
      "needs_background": "light"
     },
     "output_type": "display_data"
    }
   ],
   "source": [
    "df_train['Ranking'][df_train['City'] =='London'].hist(bins=100)"
   ]
  },
  {
   "cell_type": "code",
   "execution_count": 1163,
   "metadata": {
    "execution": {
     "iopub.execute_input": "2021-05-28T19:38:53.377993Z",
     "iopub.status.busy": "2021-05-28T19:38:53.377728Z",
     "iopub.status.idle": "2021-05-28T19:38:56.096161Z",
     "shell.execute_reply": "2021-05-28T19:38:56.094974Z",
     "shell.execute_reply.started": "2021-05-28T19:38:53.377949Z"
    }
   },
   "outputs": [
    {
     "data": {
      "image/png": "[encoded data removed]",
      "text/plain": [
       "<Figure size 720x504 with 1 Axes>"
      ]
     },
     "metadata": {
      "needs_background": "light"
     },
     "output_type": "display_data"
    }
   ],
   "source": [
    "# посмотрим на топ 10 городов\n",
    "for x in (df_train['City'].value_counts())[0:10].index:\n",
    "    df_train['Ranking'][df_train['City'] == x].hist(bins=100)\n",
    "plt.show()"
   ]
  },
  {
   "cell_type": "markdown",
   "metadata": {},
   "source": [
    "Получается, что Ranking имеет нормальное распределение, просто в больших городах больше ресторанов, из-за мы этого имеем смещение.\n",
    "\n",
    ">Попробуем приминить нормализацию\n"
   ]
  },
  {
   "cell_type": "code",
   "execution_count": 1164,
   "metadata": {},
   "outputs": [],
   "source": [
    "data = data.merge(rest_count_in_city, on='City', how='left',sort=False)"
   ]
  },
  {
   "cell_type": "code",
   "execution_count": 1165,
   "metadata": {},
   "outputs": [
    {
     "data": {
      "text/html": [
       "<div>\n",
       "<style scoped>\n",
       "    .dataframe tbody tr th:only-of-type {\n",
       "        vertical-align: middle;\n",
       "    }\n",
       "\n",
       "    .dataframe tbody tr th {\n",
       "        vertical-align: top;\n",
       "    }\n",
       "\n",
       "    .dataframe thead th {\n",
       "        text-align: right;\n",
       "    }\n",
       "</style>\n",
       "<table border=\"1\" class=\"dataframe\">\n",
       "  <thead>\n",
       "    <tr style=\"text-align: right;\">\n",
       "      <th></th>\n",
       "      <th>Restaurant_id</th>\n",
       "      <th>City</th>\n",
       "      <th>Cuisine Style</th>\n",
       "      <th>Ranking</th>\n",
       "      <th>Price Range</th>\n",
       "      <th>Number of Reviews</th>\n",
       "      <th>Reviews</th>\n",
       "      <th>URL_TA</th>\n",
       "      <th>ID_TA</th>\n",
       "      <th>sample</th>\n",
       "      <th>Rating</th>\n",
       "      <th>isNAN</th>\n",
       "      <th>Ranking_group_1</th>\n",
       "      <th>Ranking_group_2</th>\n",
       "      <th>Ranking_group_3</th>\n",
       "      <th>count_in_city</th>\n",
       "    </tr>\n",
       "  </thead>\n",
       "  <tbody>\n",
       "    <tr>\n",
       "      <th>0</th>\n",
       "      <td>id_0</td>\n",
       "      <td>Paris</td>\n",
       "      <td>['Bar', 'Pub']</td>\n",
       "      <td>12963.0</td>\n",
       "      <td>$$ - $$$</td>\n",
       "      <td>4.0</td>\n",
       "      <td>[[], []]</td>\n",
       "      <td>/Restaurant_Review-g187147-d10746918-Reviews-L...</td>\n",
       "      <td>d10746918</td>\n",
       "      <td>0</td>\n",
       "      <td>0.0</td>\n",
       "      <td>0</td>\n",
       "      <td>0</td>\n",
       "      <td>0</td>\n",
       "      <td>1</td>\n",
       "      <td>6108</td>\n",
       "    </tr>\n",
       "    <tr>\n",
       "      <th>1</th>\n",
       "      <td>id_1</td>\n",
       "      <td>Helsinki</td>\n",
       "      <td>['European', 'Scandinavian', 'Gluten Free Opti...</td>\n",
       "      <td>106.0</td>\n",
       "      <td>$$ - $$$</td>\n",
       "      <td>97.0</td>\n",
       "      <td>[['Very good reviews!', 'Fine dining in Hakani...</td>\n",
       "      <td>/Restaurant_Review-g189934-d6674944-Reviews-Ra...</td>\n",
       "      <td>d6674944</td>\n",
       "      <td>0</td>\n",
       "      <td>0.0</td>\n",
       "      <td>0</td>\n",
       "      <td>0</td>\n",
       "      <td>1</td>\n",
       "      <td>0</td>\n",
       "      <td>475</td>\n",
       "    </tr>\n",
       "    <tr>\n",
       "      <th>2</th>\n",
       "      <td>id_2</td>\n",
       "      <td>Edinburgh</td>\n",
       "      <td>['Vegetarian Friendly']</td>\n",
       "      <td>810.0</td>\n",
       "      <td>$$ - $$$</td>\n",
       "      <td>28.0</td>\n",
       "      <td>[['Better than the Links', 'Ivy Black'], ['12/...</td>\n",
       "      <td>/Restaurant_Review-g186525-d13129638-Reviews-B...</td>\n",
       "      <td>d13129638</td>\n",
       "      <td>0</td>\n",
       "      <td>0.0</td>\n",
       "      <td>0</td>\n",
       "      <td>0</td>\n",
       "      <td>1</td>\n",
       "      <td>0</td>\n",
       "      <td>745</td>\n",
       "    </tr>\n",
       "    <tr>\n",
       "      <th>3</th>\n",
       "      <td>id_3</td>\n",
       "      <td>London</td>\n",
       "      <td>['Italian', 'Mediterranean', 'European', 'Vege...</td>\n",
       "      <td>1669.0</td>\n",
       "      <td>$$$$</td>\n",
       "      <td>202.0</td>\n",
       "      <td>[['Most exquisite', 'Delicious and authentic']...</td>\n",
       "      <td>/Restaurant_Review-g186338-d680417-Reviews-Qui...</td>\n",
       "      <td>d680417</td>\n",
       "      <td>0</td>\n",
       "      <td>0.0</td>\n",
       "      <td>0</td>\n",
       "      <td>1</td>\n",
       "      <td>0</td>\n",
       "      <td>0</td>\n",
       "      <td>7193</td>\n",
       "    </tr>\n",
       "    <tr>\n",
       "      <th>4</th>\n",
       "      <td>id_4</td>\n",
       "      <td>Bratislava</td>\n",
       "      <td>['Italian', 'Mediterranean', 'European', 'Seaf...</td>\n",
       "      <td>37.0</td>\n",
       "      <td>$$$$</td>\n",
       "      <td>162.0</td>\n",
       "      <td>[['Always the best in bratislava', 'Very good ...</td>\n",
       "      <td>/Restaurant_Review-g274924-d1112354-Reviews-Ma...</td>\n",
       "      <td>d1112354</td>\n",
       "      <td>0</td>\n",
       "      <td>0.0</td>\n",
       "      <td>0</td>\n",
       "      <td>0</td>\n",
       "      <td>1</td>\n",
       "      <td>0</td>\n",
       "      <td>380</td>\n",
       "    </tr>\n",
       "  </tbody>\n",
       "</table>\n",
       "</div>"
      ],
      "text/plain": [
       "  Restaurant_id        City  \\\n",
       "0          id_0       Paris   \n",
       "1          id_1    Helsinki   \n",
       "2          id_2   Edinburgh   \n",
       "3          id_3      London   \n",
       "4          id_4  Bratislava   \n",
       "\n",
       "                                       Cuisine Style  Ranking Price Range  \\\n",
       "0                                     ['Bar', 'Pub']  12963.0    $$ - $$$   \n",
       "1  ['European', 'Scandinavian', 'Gluten Free Opti...    106.0    $$ - $$$   \n",
       "2                            ['Vegetarian Friendly']    810.0    $$ - $$$   \n",
       "3  ['Italian', 'Mediterranean', 'European', 'Vege...   1669.0        $$$$   \n",
       "4  ['Italian', 'Mediterranean', 'European', 'Seaf...     37.0        $$$$   \n",
       "\n",
       "   Number of Reviews                                            Reviews  \\\n",
       "0                4.0                                           [[], []]   \n",
       "1               97.0  [['Very good reviews!', 'Fine dining in Hakani...   \n",
       "2               28.0  [['Better than the Links', 'Ivy Black'], ['12/...   \n",
       "3              202.0  [['Most exquisite', 'Delicious and authentic']...   \n",
       "4              162.0  [['Always the best in bratislava', 'Very good ...   \n",
       "\n",
       "                                              URL_TA      ID_TA  sample  \\\n",
       "0  /Restaurant_Review-g187147-d10746918-Reviews-L...  d10746918       0   \n",
       "1  /Restaurant_Review-g189934-d6674944-Reviews-Ra...   d6674944       0   \n",
       "2  /Restaurant_Review-g186525-d13129638-Reviews-B...  d13129638       0   \n",
       "3  /Restaurant_Review-g186338-d680417-Reviews-Qui...    d680417       0   \n",
       "4  /Restaurant_Review-g274924-d1112354-Reviews-Ma...   d1112354       0   \n",
       "\n",
       "   Rating  isNAN  Ranking_group_1  Ranking_group_2  Ranking_group_3  \\\n",
       "0     0.0      0                0                0                1   \n",
       "1     0.0      0                0                1                0   \n",
       "2     0.0      0                0                1                0   \n",
       "3     0.0      0                1                0                0   \n",
       "4     0.0      0                0                1                0   \n",
       "\n",
       "   count_in_city  \n",
       "0           6108  \n",
       "1            475  \n",
       "2            745  \n",
       "3           7193  \n",
       "4            380  "
      ]
     },
     "execution_count": 1165,
     "metadata": {},
     "output_type": "execute_result"
    }
   ],
   "source": [
    "data.head(5)"
   ]
  },
  {
   "cell_type": "code",
   "execution_count": 1166,
   "metadata": {},
   "outputs": [
    {
     "data": {
      "text/html": [
       "<div>\n",
       "<style scoped>\n",
       "    .dataframe tbody tr th:only-of-type {\n",
       "        vertical-align: middle;\n",
       "    }\n",
       "\n",
       "    .dataframe tbody tr th {\n",
       "        vertical-align: top;\n",
       "    }\n",
       "\n",
       "    .dataframe thead th {\n",
       "        text-align: right;\n",
       "    }\n",
       "</style>\n",
       "<table border=\"1\" class=\"dataframe\">\n",
       "  <thead>\n",
       "    <tr style=\"text-align: right;\">\n",
       "      <th></th>\n",
       "      <th>Restaurant_id</th>\n",
       "      <th>count_in_city</th>\n",
       "      <th>Ranking</th>\n",
       "    </tr>\n",
       "  </thead>\n",
       "  <tbody>\n",
       "    <tr>\n",
       "      <th>0</th>\n",
       "      <td>id_0</td>\n",
       "      <td>6108</td>\n",
       "      <td>12963.0</td>\n",
       "    </tr>\n",
       "    <tr>\n",
       "      <th>1</th>\n",
       "      <td>id_1</td>\n",
       "      <td>475</td>\n",
       "      <td>106.0</td>\n",
       "    </tr>\n",
       "    <tr>\n",
       "      <th>2</th>\n",
       "      <td>id_2</td>\n",
       "      <td>745</td>\n",
       "      <td>810.0</td>\n",
       "    </tr>\n",
       "    <tr>\n",
       "      <th>3</th>\n",
       "      <td>id_3</td>\n",
       "      <td>7193</td>\n",
       "      <td>1669.0</td>\n",
       "    </tr>\n",
       "    <tr>\n",
       "      <th>4</th>\n",
       "      <td>id_4</td>\n",
       "      <td>380</td>\n",
       "      <td>37.0</td>\n",
       "    </tr>\n",
       "    <tr>\n",
       "      <th>...</th>\n",
       "      <td>...</td>\n",
       "      <td>...</td>\n",
       "      <td>...</td>\n",
       "    </tr>\n",
       "    <tr>\n",
       "      <th>49995</th>\n",
       "      <td>id_499</td>\n",
       "      <td>2694</td>\n",
       "      <td>500.0</td>\n",
       "    </tr>\n",
       "    <tr>\n",
       "      <th>49996</th>\n",
       "      <td>id_6340</td>\n",
       "      <td>6108</td>\n",
       "      <td>6341.0</td>\n",
       "    </tr>\n",
       "    <tr>\n",
       "      <th>49997</th>\n",
       "      <td>id_1649</td>\n",
       "      <td>1033</td>\n",
       "      <td>1652.0</td>\n",
       "    </tr>\n",
       "    <tr>\n",
       "      <th>49998</th>\n",
       "      <td>id_640</td>\n",
       "      <td>925</td>\n",
       "      <td>641.0</td>\n",
       "    </tr>\n",
       "    <tr>\n",
       "      <th>49999</th>\n",
       "      <td>id_4824</td>\n",
       "      <td>2694</td>\n",
       "      <td>4827.0</td>\n",
       "    </tr>\n",
       "  </tbody>\n",
       "</table>\n",
       "<p>50000 rows × 3 columns</p>\n",
       "</div>"
      ],
      "text/plain": [
       "      Restaurant_id  count_in_city  Ranking\n",
       "0              id_0           6108  12963.0\n",
       "1              id_1            475    106.0\n",
       "2              id_2            745    810.0\n",
       "3              id_3           7193   1669.0\n",
       "4              id_4            380     37.0\n",
       "...             ...            ...      ...\n",
       "49995        id_499           2694    500.0\n",
       "49996       id_6340           6108   6341.0\n",
       "49997       id_1649           1033   1652.0\n",
       "49998        id_640            925    641.0\n",
       "49999       id_4824           2694   4827.0\n",
       "\n",
       "[50000 rows x 3 columns]"
      ]
     },
     "execution_count": 1166,
     "metadata": {},
     "output_type": "execute_result"
    }
   ],
   "source": [
    "data.loc[:,['Restaurant_id','count_in_city','Ranking']]"
   ]
  },
  {
   "cell_type": "code",
   "execution_count": 1167,
   "metadata": {},
   "outputs": [],
   "source": [
    "data['Ranking_norm'] = data['Ranking']/data['count_in_city']\n",
    "#C ним хуже MAE, удалю потом как ненужную колонку"
   ]
  },
  {
   "cell_type": "code",
   "execution_count": 1168,
   "metadata": {},
   "outputs": [
    {
     "data": {
      "image/png": "[encoded data removed]",
      "text/plain": [
       "<Figure size 720x504 with 1 Axes>"
      ]
     },
     "metadata": {
      "needs_background": "light"
     },
     "output_type": "display_data"
    }
   ],
   "source": [
    "# Теперь посмотрим на топ 10 городов после нормализации\n",
    "for x in (data['City'].value_counts())[0:10].index:\n",
    "    data['Ranking_norm'][data['City'] == x].hist(bins=100)\n",
    "plt.show()"
   ]
  },
  {
   "cell_type": "markdown",
   "metadata": {},
   "source": [
    "Таким образом, мы избавились от смещения"
   ]
  },
  {
   "cell_type": "code",
   "execution_count": 1169,
   "metadata": {},
   "outputs": [
    {
     "data": {
      "text/plain": [
       "array([[0.84435519, 0.78829897],\n",
       "       [0.03629321, 0.0063857 ],\n",
       "       [0.0750251 , 0.04920027],\n",
       "       ...,\n",
       "       [0.11633912, 0.10040747],\n",
       "       [0.10084636, 0.03892234],\n",
       "       [0.35461196, 0.29349875]])"
      ]
     },
     "execution_count": 1169,
     "metadata": {},
     "output_type": "execute_result"
    }
   ],
   "source": [
    "#Попробуем еще один тип нормализации(для эксперимента):\n",
    "\n",
    "#Пробовала стандартную нормализацию, но мин макс нормализация дает лучший показатель MAE\n",
    "scaler = MinMaxScaler()#StandardScaler()\n",
    "Ranking_norm = scaler.fit_transform(data.loc[:,['count_in_city','Ranking']]) \n",
    "#Ranking_norm = scaler.fit_transform(data.loc[:,['Ranking']]) \n",
    "Ranking_norm"
   ]
  },
  {
   "cell_type": "code",
   "execution_count": 1170,
   "metadata": {},
   "outputs": [
    {
     "data": {
      "text/html": [
       "<div>\n",
       "<style scoped>\n",
       "    .dataframe tbody tr th:only-of-type {\n",
       "        vertical-align: middle;\n",
       "    }\n",
       "\n",
       "    .dataframe tbody tr th {\n",
       "        vertical-align: top;\n",
       "    }\n",
       "\n",
       "    .dataframe thead th {\n",
       "        text-align: right;\n",
       "    }\n",
       "</style>\n",
       "<table border=\"1\" class=\"dataframe\">\n",
       "  <thead>\n",
       "    <tr style=\"text-align: right;\">\n",
       "      <th></th>\n",
       "      <th>Ranking_norm_1</th>\n",
       "      <th>Ranking_norm_2</th>\n",
       "      <th>City</th>\n",
       "    </tr>\n",
       "  </thead>\n",
       "  <tbody>\n",
       "    <tr>\n",
       "      <th>0</th>\n",
       "      <td>0.844355</td>\n",
       "      <td>0.788299</td>\n",
       "      <td>Paris</td>\n",
       "    </tr>\n",
       "    <tr>\n",
       "      <th>1</th>\n",
       "      <td>0.036293</td>\n",
       "      <td>0.006386</td>\n",
       "      <td>Helsinki</td>\n",
       "    </tr>\n",
       "    <tr>\n",
       "      <th>2</th>\n",
       "      <td>0.075025</td>\n",
       "      <td>0.049200</td>\n",
       "      <td>Edinburgh</td>\n",
       "    </tr>\n",
       "    <tr>\n",
       "      <th>3</th>\n",
       "      <td>1.000000</td>\n",
       "      <td>0.101441</td>\n",
       "      <td>London</td>\n",
       "    </tr>\n",
       "    <tr>\n",
       "      <th>4</th>\n",
       "      <td>0.022665</td>\n",
       "      <td>0.002189</td>\n",
       "      <td>Bratislava</td>\n",
       "    </tr>\n",
       "    <tr>\n",
       "      <th>...</th>\n",
       "      <td>...</td>\n",
       "      <td>...</td>\n",
       "      <td>...</td>\n",
       "    </tr>\n",
       "    <tr>\n",
       "      <th>49995</th>\n",
       "      <td>0.354612</td>\n",
       "      <td>0.030347</td>\n",
       "      <td>Milan</td>\n",
       "    </tr>\n",
       "    <tr>\n",
       "      <th>49996</th>\n",
       "      <td>0.844355</td>\n",
       "      <td>0.385574</td>\n",
       "      <td>Paris</td>\n",
       "    </tr>\n",
       "    <tr>\n",
       "      <th>49997</th>\n",
       "      <td>0.116339</td>\n",
       "      <td>0.100407</td>\n",
       "      <td>Stockholm</td>\n",
       "    </tr>\n",
       "    <tr>\n",
       "      <th>49998</th>\n",
       "      <td>0.100846</td>\n",
       "      <td>0.038922</td>\n",
       "      <td>Warsaw</td>\n",
       "    </tr>\n",
       "    <tr>\n",
       "      <th>49999</th>\n",
       "      <td>0.354612</td>\n",
       "      <td>0.293499</td>\n",
       "      <td>Milan</td>\n",
       "    </tr>\n",
       "  </tbody>\n",
       "</table>\n",
       "<p>50000 rows × 3 columns</p>\n",
       "</div>"
      ],
      "text/plain": [
       "       Ranking_norm_1  Ranking_norm_2        City\n",
       "0            0.844355        0.788299       Paris\n",
       "1            0.036293        0.006386    Helsinki\n",
       "2            0.075025        0.049200   Edinburgh\n",
       "3            1.000000        0.101441      London\n",
       "4            0.022665        0.002189  Bratislava\n",
       "...               ...             ...         ...\n",
       "49995        0.354612        0.030347       Milan\n",
       "49996        0.844355        0.385574       Paris\n",
       "49997        0.116339        0.100407   Stockholm\n",
       "49998        0.100846        0.038922      Warsaw\n",
       "49999        0.354612        0.293499       Milan\n",
       "\n",
       "[50000 rows x 3 columns]"
      ]
     },
     "execution_count": 1170,
     "metadata": {},
     "output_type": "execute_result"
    }
   ],
   "source": [
    "df_norm_Ranking = pd.DataFrame(Ranking_norm,\n",
    "                  columns = ['Ranking_norm_1', 'Ranking_norm_2'])\n",
    "\n",
    "df_norm_Ranking['City']=data ['City']\n",
    "df_norm_Ranking"
   ]
  },
  {
   "cell_type": "code",
   "execution_count": 1171,
   "metadata": {},
   "outputs": [],
   "source": [
    "data['Ranking_norm_1'] = df_norm_Ranking['Ranking_norm_1']\n",
    "data['Ranking_norm_2'] = df_norm_Ranking['Ranking_norm_2']"
   ]
  },
  {
   "cell_type": "markdown",
   "metadata": {},
   "source": [
    "<b>Таким образом, я создала несколько новых признаков - Ranking_norm, Ranking_norm_1, Ranking_norm_2</b>"
   ]
  },
  {
   "cell_type": "markdown",
   "metadata": {},
   "source": [
    " ### Рассмотрим и проанализируем колонку Restaurant_id"
   ]
  },
  {
   "cell_type": "code",
   "execution_count": 1172,
   "metadata": {},
   "outputs": [
    {
     "data": {
      "text/plain": [
       "<AxesSubplot:>"
      ]
     },
     "execution_count": 1172,
     "metadata": {},
     "output_type": "execute_result"
    },
    {
     "data": {
      "image/png": "[encoded data removed]",
      "text/plain": [
       "<Figure size 720x504 with 1 Axes>"
      ]
     },
     "metadata": {
      "needs_background": "light"
     },
     "output_type": "display_data"
    }
   ],
   "source": [
    "data.groupby('Restaurant_id')['Rating'].mean().hist()"
   ]
  },
  {
   "cell_type": "markdown",
   "metadata": {},
   "source": [
    "Мы видим,что очень большое количество ресторанов имеют рейтинг от 2 до 4 "
   ]
  },
  {
   "cell_type": "code",
   "execution_count": 1173,
   "metadata": {},
   "outputs": [
    {
     "data": {
      "text/plain": [
       "13094"
      ]
     },
     "execution_count": 1173,
     "metadata": {},
     "output_type": "execute_result"
    }
   ],
   "source": [
    "# количество номеров ресторанов повторяется, значит это не уникальные номера, а какие-то сообщества, может сетевые.\n",
    "len(data['Restaurant_id'].value_counts())"
   ]
  },
  {
   "cell_type": "code",
   "execution_count": 1174,
   "metadata": {},
   "outputs": [
    {
     "data": {
      "text/html": [
       "<div>\n",
       "<style scoped>\n",
       "    .dataframe tbody tr th:only-of-type {\n",
       "        vertical-align: middle;\n",
       "    }\n",
       "\n",
       "    .dataframe tbody tr th {\n",
       "        vertical-align: top;\n",
       "    }\n",
       "\n",
       "    .dataframe thead th {\n",
       "        text-align: right;\n",
       "    }\n",
       "</style>\n",
       "<table border=\"1\" class=\"dataframe\">\n",
       "  <thead>\n",
       "    <tr style=\"text-align: right;\">\n",
       "      <th></th>\n",
       "      <th>Restaurant_id</th>\n",
       "      <th>City</th>\n",
       "      <th>Cuisine Style</th>\n",
       "      <th>Ranking</th>\n",
       "      <th>Price Range</th>\n",
       "      <th>Number of Reviews</th>\n",
       "      <th>Reviews</th>\n",
       "      <th>URL_TA</th>\n",
       "      <th>ID_TA</th>\n",
       "      <th>sample</th>\n",
       "      <th>Rating</th>\n",
       "      <th>isNAN</th>\n",
       "      <th>Ranking_group_1</th>\n",
       "      <th>Ranking_group_2</th>\n",
       "      <th>Ranking_group_3</th>\n",
       "      <th>count_in_city</th>\n",
       "      <th>Ranking_norm</th>\n",
       "      <th>Ranking_norm_1</th>\n",
       "      <th>Ranking_norm_2</th>\n",
       "    </tr>\n",
       "  </thead>\n",
       "  <tbody>\n",
       "    <tr>\n",
       "      <th>507</th>\n",
       "      <td>id_507</td>\n",
       "      <td>Bratislava</td>\n",
       "      <td>NaN</td>\n",
       "      <td>881.0</td>\n",
       "      <td>NaN</td>\n",
       "      <td>10.0</td>\n",
       "      <td>[[], []]</td>\n",
       "      <td>/Restaurant_Review-g274924-d4769786-Reviews-U_...</td>\n",
       "      <td>d4769786</td>\n",
       "      <td>0</td>\n",
       "      <td>0.0</td>\n",
       "      <td>1</td>\n",
       "      <td>0</td>\n",
       "      <td>1</td>\n",
       "      <td>0</td>\n",
       "      <td>380</td>\n",
       "      <td>2.318421</td>\n",
       "      <td>0.022665</td>\n",
       "      <td>0.053518</td>\n",
       "    </tr>\n",
       "    <tr>\n",
       "      <th>16671</th>\n",
       "      <td>id_4330</td>\n",
       "      <td>Madrid</td>\n",
       "      <td>NaN</td>\n",
       "      <td>4332.0</td>\n",
       "      <td>NaN</td>\n",
       "      <td>17.0</td>\n",
       "      <td>[['Good for casual dining', 'Business diner'],...</td>\n",
       "      <td>/Restaurant_Review-g187514-d5615749-Reviews-Re...</td>\n",
       "      <td>d5615749</td>\n",
       "      <td>1</td>\n",
       "      <td>4.0</td>\n",
       "      <td>0</td>\n",
       "      <td>1</td>\n",
       "      <td>0</td>\n",
       "      <td>0</td>\n",
       "      <td>3813</td>\n",
       "      <td>1.136113</td>\n",
       "      <td>0.515134</td>\n",
       "      <td>0.263395</td>\n",
       "    </tr>\n",
       "    <tr>\n",
       "      <th>11907</th>\n",
       "      <td>id_335</td>\n",
       "      <td>Geneva</td>\n",
       "      <td>['Chinese', 'Asian', 'Vegetarian Friendly', 'V...</td>\n",
       "      <td>337.0</td>\n",
       "      <td>$$ - $$$</td>\n",
       "      <td>90.0</td>\n",
       "      <td>[['Nice', 'Good food. Service with a smile.'],...</td>\n",
       "      <td>/Restaurant_Review-g188057-d2470755-Reviews-Zh...</td>\n",
       "      <td>d2470755</td>\n",
       "      <td>1</td>\n",
       "      <td>4.0</td>\n",
       "      <td>0</td>\n",
       "      <td>0</td>\n",
       "      <td>1</td>\n",
       "      <td>0</td>\n",
       "      <td>590</td>\n",
       "      <td>0.571186</td>\n",
       "      <td>0.052790</td>\n",
       "      <td>0.020434</td>\n",
       "    </tr>\n",
       "    <tr>\n",
       "      <th>45617</th>\n",
       "      <td>id_4553</td>\n",
       "      <td>London</td>\n",
       "      <td>['Chinese', 'Asian', 'Vegetarian Friendly']</td>\n",
       "      <td>4561.0</td>\n",
       "      <td>$$ - $$$</td>\n",
       "      <td>47.0</td>\n",
       "      <td>[['Good dinner', 'Atmosphere and sharinng'], [...</td>\n",
       "      <td>/Restaurant_Review-g186338-d11908573-Reviews-M...</td>\n",
       "      <td>d11908573</td>\n",
       "      <td>1</td>\n",
       "      <td>4.0</td>\n",
       "      <td>0</td>\n",
       "      <td>1</td>\n",
       "      <td>0</td>\n",
       "      <td>0</td>\n",
       "      <td>7193</td>\n",
       "      <td>0.634089</td>\n",
       "      <td>1.000000</td>\n",
       "      <td>0.277322</td>\n",
       "    </tr>\n",
       "    <tr>\n",
       "      <th>21381</th>\n",
       "      <td>id_7434</td>\n",
       "      <td>London</td>\n",
       "      <td>['Steakhouse', 'Halal']</td>\n",
       "      <td>7443.0</td>\n",
       "      <td>$$ - $$$</td>\n",
       "      <td>27.0</td>\n",
       "      <td>[['friendly', 'Awesome Steak Out!'], ['12/23/2...</td>\n",
       "      <td>/Restaurant_Review-g186338-d8803532-Reviews-St...</td>\n",
       "      <td>d8803532</td>\n",
       "      <td>1</td>\n",
       "      <td>4.0</td>\n",
       "      <td>0</td>\n",
       "      <td>0</td>\n",
       "      <td>0</td>\n",
       "      <td>1</td>\n",
       "      <td>7193</td>\n",
       "      <td>1.034756</td>\n",
       "      <td>1.000000</td>\n",
       "      <td>0.452594</td>\n",
       "    </tr>\n",
       "  </tbody>\n",
       "</table>\n",
       "</div>"
      ],
      "text/plain": [
       "      Restaurant_id        City  \\\n",
       "507          id_507  Bratislava   \n",
       "16671       id_4330      Madrid   \n",
       "11907        id_335      Geneva   \n",
       "45617       id_4553      London   \n",
       "21381       id_7434      London   \n",
       "\n",
       "                                           Cuisine Style  Ranking Price Range  \\\n",
       "507                                                  NaN    881.0         NaN   \n",
       "16671                                                NaN   4332.0         NaN   \n",
       "11907  ['Chinese', 'Asian', 'Vegetarian Friendly', 'V...    337.0    $$ - $$$   \n",
       "45617        ['Chinese', 'Asian', 'Vegetarian Friendly']   4561.0    $$ - $$$   \n",
       "21381                            ['Steakhouse', 'Halal']   7443.0    $$ - $$$   \n",
       "\n",
       "       Number of Reviews                                            Reviews  \\\n",
       "507                 10.0                                           [[], []]   \n",
       "16671               17.0  [['Good for casual dining', 'Business diner'],...   \n",
       "11907               90.0  [['Nice', 'Good food. Service with a smile.'],...   \n",
       "45617               47.0  [['Good dinner', 'Atmosphere and sharinng'], [...   \n",
       "21381               27.0  [['friendly', 'Awesome Steak Out!'], ['12/23/2...   \n",
       "\n",
       "                                                  URL_TA      ID_TA  sample  \\\n",
       "507    /Restaurant_Review-g274924-d4769786-Reviews-U_...   d4769786       0   \n",
       "16671  /Restaurant_Review-g187514-d5615749-Reviews-Re...   d5615749       1   \n",
       "11907  /Restaurant_Review-g188057-d2470755-Reviews-Zh...   d2470755       1   \n",
       "45617  /Restaurant_Review-g186338-d11908573-Reviews-M...  d11908573       1   \n",
       "21381  /Restaurant_Review-g186338-d8803532-Reviews-St...   d8803532       1   \n",
       "\n",
       "       Rating  isNAN  Ranking_group_1  Ranking_group_2  Ranking_group_3  \\\n",
       "507       0.0      1                0                1                0   \n",
       "16671     4.0      0                1                0                0   \n",
       "11907     4.0      0                0                1                0   \n",
       "45617     4.0      0                1                0                0   \n",
       "21381     4.0      0                0                0                1   \n",
       "\n",
       "       count_in_city  Ranking_norm  Ranking_norm_1  Ranking_norm_2  \n",
       "507              380      2.318421        0.022665        0.053518  \n",
       "16671           3813      1.136113        0.515134        0.263395  \n",
       "11907            590      0.571186        0.052790        0.020434  \n",
       "45617           7193      0.634089        1.000000        0.277322  \n",
       "21381           7193      1.034756        1.000000        0.452594  "
      ]
     },
     "execution_count": 1174,
     "metadata": {},
     "output_type": "execute_result"
    }
   ],
   "source": [
    "data.sample(5)"
   ]
  },
  {
   "cell_type": "code",
   "execution_count": 1175,
   "metadata": {},
   "outputs": [],
   "source": [
    "#Найдем сетевые рестораны\n",
    "network = (data['Restaurant_id'].value_counts()>2).reset_index()"
   ]
  },
  {
   "cell_type": "code",
   "execution_count": 1176,
   "metadata": {},
   "outputs": [],
   "source": [
    "network_list = list(network[network.Restaurant_id == True]['index'])\n"
   ]
  },
  {
   "cell_type": "code",
   "execution_count": 1177,
   "metadata": {},
   "outputs": [],
   "source": [
    "df_network = network[network.Restaurant_id == True]"
   ]
  },
  {
   "cell_type": "code",
   "execution_count": 1178,
   "metadata": {},
   "outputs": [],
   "source": [
    "df_network['chain'] = '1'"
   ]
  },
  {
   "cell_type": "code",
   "execution_count": 1179,
   "metadata": {},
   "outputs": [],
   "source": [
    "df_network.rename(columns = {\n",
    "                        'index':'Restaurant_id', \n",
    "                        'Restaurant_id':'True/Not', \n",
    "                         }, inplace = True)"
   ]
  },
  {
   "cell_type": "code",
   "execution_count": 1180,
   "metadata": {},
   "outputs": [
    {
     "data": {
      "text/html": [
       "<div>\n",
       "<style scoped>\n",
       "    .dataframe tbody tr th:only-of-type {\n",
       "        vertical-align: middle;\n",
       "    }\n",
       "\n",
       "    .dataframe tbody tr th {\n",
       "        vertical-align: top;\n",
       "    }\n",
       "\n",
       "    .dataframe thead th {\n",
       "        text-align: right;\n",
       "    }\n",
       "</style>\n",
       "<table border=\"1\" class=\"dataframe\">\n",
       "  <thead>\n",
       "    <tr style=\"text-align: right;\">\n",
       "      <th></th>\n",
       "      <th>Restaurant_id</th>\n",
       "      <th>True/Not</th>\n",
       "      <th>chain</th>\n",
       "    </tr>\n",
       "  </thead>\n",
       "  <tbody>\n",
       "    <tr>\n",
       "      <th>0</th>\n",
       "      <td>id_227</td>\n",
       "      <td>True</td>\n",
       "      <td>1</td>\n",
       "    </tr>\n",
       "    <tr>\n",
       "      <th>1</th>\n",
       "      <td>id_871</td>\n",
       "      <td>True</td>\n",
       "      <td>1</td>\n",
       "    </tr>\n",
       "    <tr>\n",
       "      <th>2</th>\n",
       "      <td>id_436</td>\n",
       "      <td>True</td>\n",
       "      <td>1</td>\n",
       "    </tr>\n",
       "    <tr>\n",
       "      <th>3</th>\n",
       "      <td>id_633</td>\n",
       "      <td>True</td>\n",
       "      <td>1</td>\n",
       "    </tr>\n",
       "    <tr>\n",
       "      <th>4</th>\n",
       "      <td>id_585</td>\n",
       "      <td>True</td>\n",
       "      <td>1</td>\n",
       "    </tr>\n",
       "    <tr>\n",
       "      <th>...</th>\n",
       "      <td>...</td>\n",
       "      <td>...</td>\n",
       "      <td>...</td>\n",
       "    </tr>\n",
       "    <tr>\n",
       "      <th>6727</th>\n",
       "      <td>id_3081</td>\n",
       "      <td>True</td>\n",
       "      <td>1</td>\n",
       "    </tr>\n",
       "    <tr>\n",
       "      <th>6728</th>\n",
       "      <td>id_5028</td>\n",
       "      <td>True</td>\n",
       "      <td>1</td>\n",
       "    </tr>\n",
       "    <tr>\n",
       "      <th>6729</th>\n",
       "      <td>id_2403</td>\n",
       "      <td>True</td>\n",
       "      <td>1</td>\n",
       "    </tr>\n",
       "    <tr>\n",
       "      <th>6730</th>\n",
       "      <td>id_6765</td>\n",
       "      <td>True</td>\n",
       "      <td>1</td>\n",
       "    </tr>\n",
       "    <tr>\n",
       "      <th>6731</th>\n",
       "      <td>id_6190</td>\n",
       "      <td>True</td>\n",
       "      <td>1</td>\n",
       "    </tr>\n",
       "  </tbody>\n",
       "</table>\n",
       "<p>6732 rows × 3 columns</p>\n",
       "</div>"
      ],
      "text/plain": [
       "     Restaurant_id  True/Not chain\n",
       "0           id_227      True     1\n",
       "1           id_871      True     1\n",
       "2           id_436      True     1\n",
       "3           id_633      True     1\n",
       "4           id_585      True     1\n",
       "...            ...       ...   ...\n",
       "6727       id_3081      True     1\n",
       "6728       id_5028      True     1\n",
       "6729       id_2403      True     1\n",
       "6730       id_6765      True     1\n",
       "6731       id_6190      True     1\n",
       "\n",
       "[6732 rows x 3 columns]"
      ]
     },
     "execution_count": 1180,
     "metadata": {},
     "output_type": "execute_result"
    }
   ],
   "source": [
    "df_network"
   ]
  },
  {
   "cell_type": "code",
   "execution_count": 1181,
   "metadata": {},
   "outputs": [
    {
     "data": {
      "text/html": [
       "<div>\n",
       "<style scoped>\n",
       "    .dataframe tbody tr th:only-of-type {\n",
       "        vertical-align: middle;\n",
       "    }\n",
       "\n",
       "    .dataframe tbody tr th {\n",
       "        vertical-align: top;\n",
       "    }\n",
       "\n",
       "    .dataframe thead th {\n",
       "        text-align: right;\n",
       "    }\n",
       "</style>\n",
       "<table border=\"1\" class=\"dataframe\">\n",
       "  <thead>\n",
       "    <tr style=\"text-align: right;\">\n",
       "      <th></th>\n",
       "      <th>Restaurant_id</th>\n",
       "      <th>chain</th>\n",
       "    </tr>\n",
       "  </thead>\n",
       "  <tbody>\n",
       "    <tr>\n",
       "      <th>0</th>\n",
       "      <td>id_227</td>\n",
       "      <td>1</td>\n",
       "    </tr>\n",
       "    <tr>\n",
       "      <th>1</th>\n",
       "      <td>id_871</td>\n",
       "      <td>1</td>\n",
       "    </tr>\n",
       "    <tr>\n",
       "      <th>2</th>\n",
       "      <td>id_436</td>\n",
       "      <td>1</td>\n",
       "    </tr>\n",
       "    <tr>\n",
       "      <th>3</th>\n",
       "      <td>id_633</td>\n",
       "      <td>1</td>\n",
       "    </tr>\n",
       "    <tr>\n",
       "      <th>4</th>\n",
       "      <td>id_585</td>\n",
       "      <td>1</td>\n",
       "    </tr>\n",
       "    <tr>\n",
       "      <th>...</th>\n",
       "      <td>...</td>\n",
       "      <td>...</td>\n",
       "    </tr>\n",
       "    <tr>\n",
       "      <th>6727</th>\n",
       "      <td>id_3081</td>\n",
       "      <td>1</td>\n",
       "    </tr>\n",
       "    <tr>\n",
       "      <th>6728</th>\n",
       "      <td>id_5028</td>\n",
       "      <td>1</td>\n",
       "    </tr>\n",
       "    <tr>\n",
       "      <th>6729</th>\n",
       "      <td>id_2403</td>\n",
       "      <td>1</td>\n",
       "    </tr>\n",
       "    <tr>\n",
       "      <th>6730</th>\n",
       "      <td>id_6765</td>\n",
       "      <td>1</td>\n",
       "    </tr>\n",
       "    <tr>\n",
       "      <th>6731</th>\n",
       "      <td>id_6190</td>\n",
       "      <td>1</td>\n",
       "    </tr>\n",
       "  </tbody>\n",
       "</table>\n",
       "<p>6732 rows × 2 columns</p>\n",
       "</div>"
      ],
      "text/plain": [
       "     Restaurant_id chain\n",
       "0           id_227     1\n",
       "1           id_871     1\n",
       "2           id_436     1\n",
       "3           id_633     1\n",
       "4           id_585     1\n",
       "...            ...   ...\n",
       "6727       id_3081     1\n",
       "6728       id_5028     1\n",
       "6729       id_2403     1\n",
       "6730       id_6765     1\n",
       "6731       id_6190     1\n",
       "\n",
       "[6732 rows x 2 columns]"
      ]
     },
     "execution_count": 1181,
     "metadata": {},
     "output_type": "execute_result"
    }
   ],
   "source": [
    "df_network = df_network.drop(['True/Not'], axis=1)\n",
    "df_network"
   ]
  },
  {
   "cell_type": "code",
   "execution_count": 1182,
   "metadata": {},
   "outputs": [
    {
     "data": {
      "text/html": [
       "<div>\n",
       "<style scoped>\n",
       "    .dataframe tbody tr th:only-of-type {\n",
       "        vertical-align: middle;\n",
       "    }\n",
       "\n",
       "    .dataframe tbody tr th {\n",
       "        vertical-align: top;\n",
       "    }\n",
       "\n",
       "    .dataframe thead th {\n",
       "        text-align: right;\n",
       "    }\n",
       "</style>\n",
       "<table border=\"1\" class=\"dataframe\">\n",
       "  <thead>\n",
       "    <tr style=\"text-align: right;\">\n",
       "      <th></th>\n",
       "      <th>Restaurant_id</th>\n",
       "      <th>City</th>\n",
       "      <th>Cuisine Style</th>\n",
       "      <th>Ranking</th>\n",
       "      <th>Price Range</th>\n",
       "      <th>Number of Reviews</th>\n",
       "      <th>Reviews</th>\n",
       "      <th>URL_TA</th>\n",
       "      <th>ID_TA</th>\n",
       "      <th>sample</th>\n",
       "      <th>Rating</th>\n",
       "      <th>isNAN</th>\n",
       "      <th>Ranking_group_1</th>\n",
       "      <th>Ranking_group_2</th>\n",
       "      <th>Ranking_group_3</th>\n",
       "      <th>count_in_city</th>\n",
       "      <th>Ranking_norm</th>\n",
       "      <th>Ranking_norm_1</th>\n",
       "      <th>Ranking_norm_2</th>\n",
       "    </tr>\n",
       "  </thead>\n",
       "  <tbody>\n",
       "    <tr>\n",
       "      <th>0</th>\n",
       "      <td>id_0</td>\n",
       "      <td>Paris</td>\n",
       "      <td>['Bar', 'Pub']</td>\n",
       "      <td>12963.0</td>\n",
       "      <td>$$ - $$$</td>\n",
       "      <td>4.0</td>\n",
       "      <td>[[], []]</td>\n",
       "      <td>/Restaurant_Review-g187147-d10746918-Reviews-L...</td>\n",
       "      <td>d10746918</td>\n",
       "      <td>0</td>\n",
       "      <td>0.0</td>\n",
       "      <td>0</td>\n",
       "      <td>0</td>\n",
       "      <td>0</td>\n",
       "      <td>1</td>\n",
       "      <td>6108</td>\n",
       "      <td>2.122299</td>\n",
       "      <td>0.844355</td>\n",
       "      <td>0.788299</td>\n",
       "    </tr>\n",
       "    <tr>\n",
       "      <th>1</th>\n",
       "      <td>id_1</td>\n",
       "      <td>Helsinki</td>\n",
       "      <td>['European', 'Scandinavian', 'Gluten Free Opti...</td>\n",
       "      <td>106.0</td>\n",
       "      <td>$$ - $$$</td>\n",
       "      <td>97.0</td>\n",
       "      <td>[['Very good reviews!', 'Fine dining in Hakani...</td>\n",
       "      <td>/Restaurant_Review-g189934-d6674944-Reviews-Ra...</td>\n",
       "      <td>d6674944</td>\n",
       "      <td>0</td>\n",
       "      <td>0.0</td>\n",
       "      <td>0</td>\n",
       "      <td>0</td>\n",
       "      <td>1</td>\n",
       "      <td>0</td>\n",
       "      <td>475</td>\n",
       "      <td>0.223158</td>\n",
       "      <td>0.036293</td>\n",
       "      <td>0.006386</td>\n",
       "    </tr>\n",
       "    <tr>\n",
       "      <th>2</th>\n",
       "      <td>id_2</td>\n",
       "      <td>Edinburgh</td>\n",
       "      <td>['Vegetarian Friendly']</td>\n",
       "      <td>810.0</td>\n",
       "      <td>$$ - $$$</td>\n",
       "      <td>28.0</td>\n",
       "      <td>[['Better than the Links', 'Ivy Black'], ['12/...</td>\n",
       "      <td>/Restaurant_Review-g186525-d13129638-Reviews-B...</td>\n",
       "      <td>d13129638</td>\n",
       "      <td>0</td>\n",
       "      <td>0.0</td>\n",
       "      <td>0</td>\n",
       "      <td>0</td>\n",
       "      <td>1</td>\n",
       "      <td>0</td>\n",
       "      <td>745</td>\n",
       "      <td>1.087248</td>\n",
       "      <td>0.075025</td>\n",
       "      <td>0.049200</td>\n",
       "    </tr>\n",
       "    <tr>\n",
       "      <th>3</th>\n",
       "      <td>id_3</td>\n",
       "      <td>London</td>\n",
       "      <td>['Italian', 'Mediterranean', 'European', 'Vege...</td>\n",
       "      <td>1669.0</td>\n",
       "      <td>$$$$</td>\n",
       "      <td>202.0</td>\n",
       "      <td>[['Most exquisite', 'Delicious and authentic']...</td>\n",
       "      <td>/Restaurant_Review-g186338-d680417-Reviews-Qui...</td>\n",
       "      <td>d680417</td>\n",
       "      <td>0</td>\n",
       "      <td>0.0</td>\n",
       "      <td>0</td>\n",
       "      <td>1</td>\n",
       "      <td>0</td>\n",
       "      <td>0</td>\n",
       "      <td>7193</td>\n",
       "      <td>0.232031</td>\n",
       "      <td>1.000000</td>\n",
       "      <td>0.101441</td>\n",
       "    </tr>\n",
       "    <tr>\n",
       "      <th>4</th>\n",
       "      <td>id_4</td>\n",
       "      <td>Bratislava</td>\n",
       "      <td>['Italian', 'Mediterranean', 'European', 'Seaf...</td>\n",
       "      <td>37.0</td>\n",
       "      <td>$$$$</td>\n",
       "      <td>162.0</td>\n",
       "      <td>[['Always the best in bratislava', 'Very good ...</td>\n",
       "      <td>/Restaurant_Review-g274924-d1112354-Reviews-Ma...</td>\n",
       "      <td>d1112354</td>\n",
       "      <td>0</td>\n",
       "      <td>0.0</td>\n",
       "      <td>0</td>\n",
       "      <td>0</td>\n",
       "      <td>1</td>\n",
       "      <td>0</td>\n",
       "      <td>380</td>\n",
       "      <td>0.097368</td>\n",
       "      <td>0.022665</td>\n",
       "      <td>0.002189</td>\n",
       "    </tr>\n",
       "  </tbody>\n",
       "</table>\n",
       "</div>"
      ],
      "text/plain": [
       "  Restaurant_id        City  \\\n",
       "0          id_0       Paris   \n",
       "1          id_1    Helsinki   \n",
       "2          id_2   Edinburgh   \n",
       "3          id_3      London   \n",
       "4          id_4  Bratislava   \n",
       "\n",
       "                                       Cuisine Style  Ranking Price Range  \\\n",
       "0                                     ['Bar', 'Pub']  12963.0    $$ - $$$   \n",
       "1  ['European', 'Scandinavian', 'Gluten Free Opti...    106.0    $$ - $$$   \n",
       "2                            ['Vegetarian Friendly']    810.0    $$ - $$$   \n",
       "3  ['Italian', 'Mediterranean', 'European', 'Vege...   1669.0        $$$$   \n",
       "4  ['Italian', 'Mediterranean', 'European', 'Seaf...     37.0        $$$$   \n",
       "\n",
       "   Number of Reviews                                            Reviews  \\\n",
       "0                4.0                                           [[], []]   \n",
       "1               97.0  [['Very good reviews!', 'Fine dining in Hakani...   \n",
       "2               28.0  [['Better than the Links', 'Ivy Black'], ['12/...   \n",
       "3              202.0  [['Most exquisite', 'Delicious and authentic']...   \n",
       "4              162.0  [['Always the best in bratislava', 'Very good ...   \n",
       "\n",
       "                                              URL_TA      ID_TA  sample  \\\n",
       "0  /Restaurant_Review-g187147-d10746918-Reviews-L...  d10746918       0   \n",
       "1  /Restaurant_Review-g189934-d6674944-Reviews-Ra...   d6674944       0   \n",
       "2  /Restaurant_Review-g186525-d13129638-Reviews-B...  d13129638       0   \n",
       "3  /Restaurant_Review-g186338-d680417-Reviews-Qui...    d680417       0   \n",
       "4  /Restaurant_Review-g274924-d1112354-Reviews-Ma...   d1112354       0   \n",
       "\n",
       "   Rating  isNAN  Ranking_group_1  Ranking_group_2  Ranking_group_3  \\\n",
       "0     0.0      0                0                0                1   \n",
       "1     0.0      0                0                1                0   \n",
       "2     0.0      0                0                1                0   \n",
       "3     0.0      0                1                0                0   \n",
       "4     0.0      0                0                1                0   \n",
       "\n",
       "   count_in_city  Ranking_norm  Ranking_norm_1  Ranking_norm_2  \n",
       "0           6108      2.122299        0.844355        0.788299  \n",
       "1            475      0.223158        0.036293        0.006386  \n",
       "2            745      1.087248        0.075025        0.049200  \n",
       "3           7193      0.232031        1.000000        0.101441  \n",
       "4            380      0.097368        0.022665        0.002189  "
      ]
     },
     "execution_count": 1182,
     "metadata": {},
     "output_type": "execute_result"
    }
   ],
   "source": [
    "data.head()"
   ]
  },
  {
   "cell_type": "code",
   "execution_count": 1183,
   "metadata": {},
   "outputs": [],
   "source": [
    "data = data.merge(df_network, on='Restaurant_id', how='left')\n",
    "data['chain'].fillna(0, inplace=True) #где не сеть, ставим 0"
   ]
  },
  {
   "cell_type": "code",
   "execution_count": 1184,
   "metadata": {},
   "outputs": [
    {
     "data": {
      "text/html": [
       "<div>\n",
       "<style scoped>\n",
       "    .dataframe tbody tr th:only-of-type {\n",
       "        vertical-align: middle;\n",
       "    }\n",
       "\n",
       "    .dataframe tbody tr th {\n",
       "        vertical-align: top;\n",
       "    }\n",
       "\n",
       "    .dataframe thead th {\n",
       "        text-align: right;\n",
       "    }\n",
       "</style>\n",
       "<table border=\"1\" class=\"dataframe\">\n",
       "  <thead>\n",
       "    <tr style=\"text-align: right;\">\n",
       "      <th></th>\n",
       "      <th>Restaurant_id</th>\n",
       "      <th>City</th>\n",
       "      <th>Cuisine Style</th>\n",
       "      <th>Ranking</th>\n",
       "      <th>Price Range</th>\n",
       "      <th>Number of Reviews</th>\n",
       "      <th>Reviews</th>\n",
       "      <th>URL_TA</th>\n",
       "      <th>ID_TA</th>\n",
       "      <th>sample</th>\n",
       "      <th>Rating</th>\n",
       "      <th>isNAN</th>\n",
       "      <th>Ranking_group_1</th>\n",
       "      <th>Ranking_group_2</th>\n",
       "      <th>Ranking_group_3</th>\n",
       "      <th>count_in_city</th>\n",
       "      <th>Ranking_norm</th>\n",
       "      <th>Ranking_norm_1</th>\n",
       "      <th>Ranking_norm_2</th>\n",
       "      <th>chain</th>\n",
       "    </tr>\n",
       "  </thead>\n",
       "  <tbody>\n",
       "    <tr>\n",
       "      <th>0</th>\n",
       "      <td>id_0</td>\n",
       "      <td>Paris</td>\n",
       "      <td>['Bar', 'Pub']</td>\n",
       "      <td>12963.0</td>\n",
       "      <td>$$ - $$$</td>\n",
       "      <td>4.0</td>\n",
       "      <td>[[], []]</td>\n",
       "      <td>/Restaurant_Review-g187147-d10746918-Reviews-L...</td>\n",
       "      <td>d10746918</td>\n",
       "      <td>0</td>\n",
       "      <td>0.0</td>\n",
       "      <td>0</td>\n",
       "      <td>0</td>\n",
       "      <td>0</td>\n",
       "      <td>1</td>\n",
       "      <td>6108</td>\n",
       "      <td>2.122299</td>\n",
       "      <td>0.844355</td>\n",
       "      <td>0.788299</td>\n",
       "      <td>1</td>\n",
       "    </tr>\n",
       "    <tr>\n",
       "      <th>1</th>\n",
       "      <td>id_1</td>\n",
       "      <td>Helsinki</td>\n",
       "      <td>['European', 'Scandinavian', 'Gluten Free Opti...</td>\n",
       "      <td>106.0</td>\n",
       "      <td>$$ - $$$</td>\n",
       "      <td>97.0</td>\n",
       "      <td>[['Very good reviews!', 'Fine dining in Hakani...</td>\n",
       "      <td>/Restaurant_Review-g189934-d6674944-Reviews-Ra...</td>\n",
       "      <td>d6674944</td>\n",
       "      <td>0</td>\n",
       "      <td>0.0</td>\n",
       "      <td>0</td>\n",
       "      <td>0</td>\n",
       "      <td>1</td>\n",
       "      <td>0</td>\n",
       "      <td>475</td>\n",
       "      <td>0.223158</td>\n",
       "      <td>0.036293</td>\n",
       "      <td>0.006386</td>\n",
       "      <td>1</td>\n",
       "    </tr>\n",
       "    <tr>\n",
       "      <th>2</th>\n",
       "      <td>id_2</td>\n",
       "      <td>Edinburgh</td>\n",
       "      <td>['Vegetarian Friendly']</td>\n",
       "      <td>810.0</td>\n",
       "      <td>$$ - $$$</td>\n",
       "      <td>28.0</td>\n",
       "      <td>[['Better than the Links', 'Ivy Black'], ['12/...</td>\n",
       "      <td>/Restaurant_Review-g186525-d13129638-Reviews-B...</td>\n",
       "      <td>d13129638</td>\n",
       "      <td>0</td>\n",
       "      <td>0.0</td>\n",
       "      <td>0</td>\n",
       "      <td>0</td>\n",
       "      <td>1</td>\n",
       "      <td>0</td>\n",
       "      <td>745</td>\n",
       "      <td>1.087248</td>\n",
       "      <td>0.075025</td>\n",
       "      <td>0.049200</td>\n",
       "      <td>1</td>\n",
       "    </tr>\n",
       "    <tr>\n",
       "      <th>3</th>\n",
       "      <td>id_3</td>\n",
       "      <td>London</td>\n",
       "      <td>['Italian', 'Mediterranean', 'European', 'Vege...</td>\n",
       "      <td>1669.0</td>\n",
       "      <td>$$$$</td>\n",
       "      <td>202.0</td>\n",
       "      <td>[['Most exquisite', 'Delicious and authentic']...</td>\n",
       "      <td>/Restaurant_Review-g186338-d680417-Reviews-Qui...</td>\n",
       "      <td>d680417</td>\n",
       "      <td>0</td>\n",
       "      <td>0.0</td>\n",
       "      <td>0</td>\n",
       "      <td>1</td>\n",
       "      <td>0</td>\n",
       "      <td>0</td>\n",
       "      <td>7193</td>\n",
       "      <td>0.232031</td>\n",
       "      <td>1.000000</td>\n",
       "      <td>0.101441</td>\n",
       "      <td>1</td>\n",
       "    </tr>\n",
       "    <tr>\n",
       "      <th>4</th>\n",
       "      <td>id_4</td>\n",
       "      <td>Bratislava</td>\n",
       "      <td>['Italian', 'Mediterranean', 'European', 'Seaf...</td>\n",
       "      <td>37.0</td>\n",
       "      <td>$$$$</td>\n",
       "      <td>162.0</td>\n",
       "      <td>[['Always the best in bratislava', 'Very good ...</td>\n",
       "      <td>/Restaurant_Review-g274924-d1112354-Reviews-Ma...</td>\n",
       "      <td>d1112354</td>\n",
       "      <td>0</td>\n",
       "      <td>0.0</td>\n",
       "      <td>0</td>\n",
       "      <td>0</td>\n",
       "      <td>1</td>\n",
       "      <td>0</td>\n",
       "      <td>380</td>\n",
       "      <td>0.097368</td>\n",
       "      <td>0.022665</td>\n",
       "      <td>0.002189</td>\n",
       "      <td>1</td>\n",
       "    </tr>\n",
       "  </tbody>\n",
       "</table>\n",
       "</div>"
      ],
      "text/plain": [
       "  Restaurant_id        City  \\\n",
       "0          id_0       Paris   \n",
       "1          id_1    Helsinki   \n",
       "2          id_2   Edinburgh   \n",
       "3          id_3      London   \n",
       "4          id_4  Bratislava   \n",
       "\n",
       "                                       Cuisine Style  Ranking Price Range  \\\n",
       "0                                     ['Bar', 'Pub']  12963.0    $$ - $$$   \n",
       "1  ['European', 'Scandinavian', 'Gluten Free Opti...    106.0    $$ - $$$   \n",
       "2                            ['Vegetarian Friendly']    810.0    $$ - $$$   \n",
       "3  ['Italian', 'Mediterranean', 'European', 'Vege...   1669.0        $$$$   \n",
       "4  ['Italian', 'Mediterranean', 'European', 'Seaf...     37.0        $$$$   \n",
       "\n",
       "   Number of Reviews                                            Reviews  \\\n",
       "0                4.0                                           [[], []]   \n",
       "1               97.0  [['Very good reviews!', 'Fine dining in Hakani...   \n",
       "2               28.0  [['Better than the Links', 'Ivy Black'], ['12/...   \n",
       "3              202.0  [['Most exquisite', 'Delicious and authentic']...   \n",
       "4              162.0  [['Always the best in bratislava', 'Very good ...   \n",
       "\n",
       "                                              URL_TA      ID_TA  sample  \\\n",
       "0  /Restaurant_Review-g187147-d10746918-Reviews-L...  d10746918       0   \n",
       "1  /Restaurant_Review-g189934-d6674944-Reviews-Ra...   d6674944       0   \n",
       "2  /Restaurant_Review-g186525-d13129638-Reviews-B...  d13129638       0   \n",
       "3  /Restaurant_Review-g186338-d680417-Reviews-Qui...    d680417       0   \n",
       "4  /Restaurant_Review-g274924-d1112354-Reviews-Ma...   d1112354       0   \n",
       "\n",
       "   Rating  isNAN  Ranking_group_1  Ranking_group_2  Ranking_group_3  \\\n",
       "0     0.0      0                0                0                1   \n",
       "1     0.0      0                0                1                0   \n",
       "2     0.0      0                0                1                0   \n",
       "3     0.0      0                1                0                0   \n",
       "4     0.0      0                0                1                0   \n",
       "\n",
       "   count_in_city  Ranking_norm  Ranking_norm_1  Ranking_norm_2 chain  \n",
       "0           6108      2.122299        0.844355        0.788299     1  \n",
       "1            475      0.223158        0.036293        0.006386     1  \n",
       "2            745      1.087248        0.075025        0.049200     1  \n",
       "3           7193      0.232031        1.000000        0.101441     1  \n",
       "4            380      0.097368        0.022665        0.002189     1  "
      ]
     },
     "execution_count": 1184,
     "metadata": {},
     "output_type": "execute_result"
    }
   ],
   "source": [
    "data.head()"
   ]
  },
  {
   "cell_type": "code",
   "execution_count": 1185,
   "metadata": {},
   "outputs": [
    {
     "data": {
      "text/plain": [
       "1    41083\n",
       "0     8917\n",
       "Name: chain, dtype: int64"
      ]
     },
     "execution_count": 1185,
     "metadata": {},
     "output_type": "execute_result"
    }
   ],
   "source": [
    "data['chain'].value_counts()"
   ]
  },
  {
   "cell_type": "code",
   "execution_count": 1186,
   "metadata": {},
   "outputs": [
    {
     "data": {
      "image/png": "[encoded data removed]",
      "text/plain": [
       "<Figure size 576x288 with 1 Axes>"
      ]
     },
     "metadata": {
      "needs_background": "light"
     },
     "output_type": "display_data"
    }
   ],
   "source": [
    "get_boxplot('chain')"
   ]
  },
  {
   "cell_type": "markdown",
   "metadata": {},
   "source": [
    "При сравнении boxplot видно, что у сетевых ресторанов (chain=1) Rating в среднем намного выше."
   ]
  },
  {
   "cell_type": "markdown",
   "metadata": {},
   "source": [
    "<b>Таким образом, я создала новый признак сетевого ресторана - chain</b>"
   ]
  },
  {
   "cell_type": "markdown",
   "metadata": {},
   "source": [
    " ### Рассмотрим и проанализируем колонку \"Price Range\""
   ]
  },
  {
   "cell_type": "code",
   "execution_count": 1187,
   "metadata": {
    "execution": {
     "iopub.execute_input": "2021-05-28T19:38:50.849069Z",
     "iopub.status.busy": "2021-05-28T19:38:50.848765Z",
     "iopub.status.idle": "2021-05-28T19:38:50.877855Z",
     "shell.execute_reply": "2021-05-28T19:38:50.876711Z",
     "shell.execute_reply.started": "2021-05-28T19:38:50.849005Z"
    }
   },
   "outputs": [
    {
     "data": {
      "text/plain": [
       "array(['$$ - $$$', '$$$$', '$', nan], dtype=object)"
      ]
     },
     "metadata": {},
     "output_type": "display_data"
    },
    {
     "data": {
      "text/plain": [
       "$$ - $$$    23041\n",
       "$            7816\n",
       "$$$$         1782\n",
       "Name: Price Range, dtype: int64"
      ]
     },
     "execution_count": 1187,
     "metadata": {},
     "output_type": "execute_result"
    }
   ],
   "source": [
    "display(data['Price Range'].unique())\n",
    "data['Price Range'].value_counts()"
   ]
  },
  {
   "cell_type": "code",
   "execution_count": 1188,
   "metadata": {
    "execution": {
     "iopub.execute_input": "2021-05-28T19:38:50.879439Z",
     "iopub.status.busy": "2021-05-28T19:38:50.879148Z",
     "iopub.status.idle": "2021-05-28T19:38:51.61482Z",
     "shell.execute_reply": "2021-05-28T19:38:51.613971Z",
     "shell.execute_reply.started": "2021-05-28T19:38:50.879393Z"
    }
   },
   "outputs": [],
   "source": [
    "# признак \"Price Range\"\n",
    "data['isNAN'] = pd.isna(data['Price Range']).astype('uint8')\n",
    "price_dict = {\"$$$$\": 3, \"$$ - $$$\": 2, \"$\": 1} \n",
    "data['Price Range'] = data['Price Range'].replace(to_replace=price_dict)\n",
    "# заполняем пропуски средним по городу\n",
    "median = data.groupby('City')['Price Range'].median()\n",
    "data['Price_Range'] = data[data['isNAN'] > 0].City.apply(\n",
    "    lambda x: median.loc[x])\n",
    "data['Price Range'].fillna(0, inplace=True)\n",
    "data['Price_Range'].fillna(0, inplace=True)\n",
    "data['Price Range'] = data['Price Range'] + data['Price_Range']\n",
    "data.drop(['Price_Range'], axis = 1, inplace = True)"
   ]
  },
  {
   "cell_type": "code",
   "execution_count": 1189,
   "metadata": {
    "execution": {
     "iopub.execute_input": "2021-05-28T19:38:51.616473Z",
     "iopub.status.busy": "2021-05-28T19:38:51.616174Z",
     "iopub.status.idle": "2021-05-28T19:38:51.630916Z",
     "shell.execute_reply": "2021-05-28T19:38:51.630082Z",
     "shell.execute_reply.started": "2021-05-28T19:38:51.616422Z"
    }
   },
   "outputs": [
    {
     "data": {
      "text/plain": [
       "array([2., 3., 1.])"
      ]
     },
     "metadata": {},
     "output_type": "display_data"
    },
    {
     "data": {
      "text/plain": [
       "2.0    40402\n",
       "1.0     7816\n",
       "3.0     1782\n",
       "Name: Price Range, dtype: int64"
      ]
     },
     "execution_count": 1189,
     "metadata": {},
     "output_type": "execute_result"
    }
   ],
   "source": [
    "display(data['Price Range'].unique())\n",
    "data['Price Range'].value_counts()"
   ]
  },
  {
   "cell_type": "code",
   "execution_count": 1190,
   "metadata": {},
   "outputs": [],
   "source": [
    "# Оценка модели хуже если закодировать признак с One-Hot Encoding\n",
    "#data = pd.get_dummies(data, columns=['Price Range'], dummy_na=False)"
   ]
  },
  {
   "cell_type": "code",
   "execution_count": 1191,
   "metadata": {
    "execution": {
     "iopub.execute_input": "2021-05-28T19:38:51.632673Z",
     "iopub.status.busy": "2021-05-28T19:38:51.632402Z",
     "iopub.status.idle": "2021-05-28T19:38:51.677808Z",
     "shell.execute_reply": "2021-05-28T19:38:51.67699Z",
     "shell.execute_reply.started": "2021-05-28T19:38:51.632626Z"
    }
   },
   "outputs": [
    {
     "data": {
      "image/png": "[encoded data removed]",
      "text/plain": [
       "<Figure size 576x288 with 1 Axes>"
      ]
     },
     "metadata": {
      "needs_background": "light"
     },
     "output_type": "display_data"
    }
   ],
   "source": [
    "get_boxplot('Price Range')"
   ]
  },
  {
   "cell_type": "markdown",
   "metadata": {},
   "source": [
    "По графику видно, что рестораны с более дорогой ценовой категорией имеют рейтинг не ниже где-то 3.5. А вот первую и вторую группу можно объединить. P.S. Это не улучшило MAE, поэтому вернула категории 1 и 2"
   ]
  },
  {
   "cell_type": "markdown",
   "metadata": {},
   "source": [
    "### Рассмотрим и проанализируем колонку \"Number of Reviews\""
   ]
  },
  {
   "cell_type": "code",
   "execution_count": 1192,
   "metadata": {},
   "outputs": [],
   "source": [
    "#Number of Reviews: Количество отзывов"
   ]
  },
  {
   "cell_type": "code",
   "execution_count": 1193,
   "metadata": {},
   "outputs": [
    {
     "data": {
      "text/plain": [
       "2.0       2403\n",
       "3.0       2042\n",
       "4.0       1707\n",
       "5.0       1471\n",
       "6.0       1258\n",
       "          ... \n",
       "1932.0       1\n",
       "1050.0       1\n",
       "1145.0       1\n",
       "768.0        1\n",
       "1087.0       1\n",
       "Name: Number of Reviews, Length: 1573, dtype: int64"
      ]
     },
     "execution_count": 1193,
     "metadata": {},
     "output_type": "execute_result"
    }
   ],
   "source": [
    "data['Number of Reviews'].value_counts()"
   ]
  },
  {
   "cell_type": "code",
   "execution_count": 1194,
   "metadata": {},
   "outputs": [
    {
     "data": {
      "text/plain": [
       "City\n",
       "London        949920.0\n",
       "Rome          737279.0\n",
       "Paris         693631.0\n",
       "Milan         437507.0\n",
       "Barcelona     437487.0\n",
       "Madrid        363611.0\n",
       "Prague        203846.0\n",
       "Lisbon        199788.0\n",
       "Amsterdam     196988.0\n",
       "Edinburgh     173573.0\n",
       "Berlin        160343.0\n",
       "Budapest      150430.0\n",
       "Dublin        124564.0\n",
       "Brussels      116308.0\n",
       "Vienna        109187.0\n",
       "Lyon           95409.0\n",
       "Munich         84822.0\n",
       "Oporto         81903.0\n",
       "Copenhagen     75122.0\n",
       "Stockholm      73208.0\n",
       "Athens         68975.0\n",
       "Krakow         68643.0\n",
       "Warsaw         57268.0\n",
       "Hamburg        50581.0\n",
       "Zurich         47969.0\n",
       "Oslo           47240.0\n",
       "Geneva         35331.0\n",
       "Helsinki       30099.0\n",
       "Luxembourg     21272.0\n",
       "Ljubljana      18569.0\n",
       "Bratislava     17242.0\n",
       "Name: Number of Reviews, dtype: float64"
      ]
     },
     "execution_count": 1194,
     "metadata": {},
     "output_type": "execute_result"
    }
   ],
   "source": [
    "#Посмотрим сколько отзывов приходится на каждый город \n",
    "Number_of_Reviews_Sum = data.groupby(['City'])['Number of Reviews'].sum().sort_values(ascending=False)\n",
    "Number_of_Reviews_Sum"
   ]
  },
  {
   "cell_type": "code",
   "execution_count": 1195,
   "metadata": {},
   "outputs": [
    {
     "data": {
      "text/plain": [
       "City\n",
       "London        7193\n",
       "Paris         6108\n",
       "Madrid        3813\n",
       "Barcelona     3395\n",
       "Berlin        2705\n",
       "Milan         2694\n",
       "Rome          2589\n",
       "Prague        1816\n",
       "Lisbon        1647\n",
       "Vienna        1443\n",
       "Amsterdam     1372\n",
       "Brussels      1314\n",
       "Hamburg       1186\n",
       "Munich        1145\n",
       "Lyon          1126\n",
       "Stockholm     1033\n",
       "Budapest      1021\n",
       "Warsaw         925\n",
       "Dublin         836\n",
       "Copenhagen     819\n",
       "Athens         776\n",
       "Edinburgh      745\n",
       "Zurich         685\n",
       "Oporto         642\n",
       "Geneva         590\n",
       "Krakow         554\n",
       "Oslo           488\n",
       "Helsinki       475\n",
       "Bratislava     380\n",
       "Luxembourg     263\n",
       "Ljubljana      222\n",
       "Name: Number of Reviews, dtype: int64"
      ]
     },
     "execution_count": 1195,
     "metadata": {},
     "output_type": "execute_result"
    }
   ],
   "source": [
    "Number_of_Reviews_Count = data.groupby(['City'])['Number of Reviews'].count().sort_values(ascending=False)\n",
    "Number_of_Reviews_Count\n"
   ]
  },
  {
   "cell_type": "code",
   "execution_count": 1196,
   "metadata": {},
   "outputs": [
    {
     "data": {
      "text/plain": [
       "{'Paris': 114,\n",
       " 'Helsinki': 63,\n",
       " 'Edinburgh': 233,\n",
       " 'London': 132,\n",
       " 'Bratislava': 45,\n",
       " 'Lisbon': 121,\n",
       " 'Budapest': 147,\n",
       " 'Stockholm': 71,\n",
       " 'Rome': 285,\n",
       " 'Milan': 162,\n",
       " 'Munich': 74,\n",
       " 'Hamburg': 43,\n",
       " 'Prague': 112,\n",
       " 'Vienna': 76,\n",
       " 'Dublin': 149,\n",
       " 'Barcelona': 129,\n",
       " 'Brussels': 89,\n",
       " 'Madrid': 95,\n",
       " 'Oslo': 97,\n",
       " 'Amsterdam': 144,\n",
       " 'Berlin': 59,\n",
       " 'Lyon': 85,\n",
       " 'Athens': 89,\n",
       " 'Warsaw': 62,\n",
       " 'Oporto': 128,\n",
       " 'Krakow': 124,\n",
       " 'Copenhagen': 92,\n",
       " 'Luxembourg': 81,\n",
       " 'Zurich': 70,\n",
       " 'Geneva': 60,\n",
       " 'Ljubljana': 84}"
      ]
     },
     "execution_count": 1196,
     "metadata": {},
     "output_type": "execute_result"
    }
   ],
   "source": [
    "#Подсчитаем среднее количество отзывов на один ресторан в городе: \n",
    "med_number_of_reviews_dict = {}\n",
    "for city in list(data.City.unique()):\n",
    "    med_number_of_reviews_dict[city] = round(Number_of_Reviews_Sum[city]/Number_of_Reviews_Count[city])\n",
    "\n",
    "med_number_of_reviews_dict "
   ]
  },
  {
   "cell_type": "code",
   "execution_count": 1197,
   "metadata": {},
   "outputs": [
    {
     "data": {
      "text/html": [
       "<div>\n",
       "<style scoped>\n",
       "    .dataframe tbody tr th:only-of-type {\n",
       "        vertical-align: middle;\n",
       "    }\n",
       "\n",
       "    .dataframe tbody tr th {\n",
       "        vertical-align: top;\n",
       "    }\n",
       "\n",
       "    .dataframe thead th {\n",
       "        text-align: right;\n",
       "    }\n",
       "</style>\n",
       "<table border=\"1\" class=\"dataframe\">\n",
       "  <thead>\n",
       "    <tr style=\"text-align: right;\">\n",
       "      <th></th>\n",
       "      <th>City</th>\n",
       "      <th>Number of Reviews_x</th>\n",
       "      <th>Number of Reviews_y</th>\n",
       "      <th>city_reviews_mean</th>\n",
       "    </tr>\n",
       "  </thead>\n",
       "  <tbody>\n",
       "    <tr>\n",
       "      <th>0</th>\n",
       "      <td>London</td>\n",
       "      <td>949920.0</td>\n",
       "      <td>7193</td>\n",
       "      <td>132.061727</td>\n",
       "    </tr>\n",
       "    <tr>\n",
       "      <th>1</th>\n",
       "      <td>Paris</td>\n",
       "      <td>693631.0</td>\n",
       "      <td>6108</td>\n",
       "      <td>113.561067</td>\n",
       "    </tr>\n",
       "    <tr>\n",
       "      <th>2</th>\n",
       "      <td>Madrid</td>\n",
       "      <td>363611.0</td>\n",
       "      <td>3813</td>\n",
       "      <td>95.360871</td>\n",
       "    </tr>\n",
       "    <tr>\n",
       "      <th>3</th>\n",
       "      <td>Barcelona</td>\n",
       "      <td>437487.0</td>\n",
       "      <td>3395</td>\n",
       "      <td>128.862150</td>\n",
       "    </tr>\n",
       "    <tr>\n",
       "      <th>4</th>\n",
       "      <td>Berlin</td>\n",
       "      <td>160343.0</td>\n",
       "      <td>2705</td>\n",
       "      <td>59.276525</td>\n",
       "    </tr>\n",
       "    <tr>\n",
       "      <th>5</th>\n",
       "      <td>Milan</td>\n",
       "      <td>437507.0</td>\n",
       "      <td>2694</td>\n",
       "      <td>162.400520</td>\n",
       "    </tr>\n",
       "    <tr>\n",
       "      <th>6</th>\n",
       "      <td>Rome</td>\n",
       "      <td>737279.0</td>\n",
       "      <td>2589</td>\n",
       "      <td>284.773658</td>\n",
       "    </tr>\n",
       "    <tr>\n",
       "      <th>7</th>\n",
       "      <td>Prague</td>\n",
       "      <td>203846.0</td>\n",
       "      <td>1816</td>\n",
       "      <td>112.250000</td>\n",
       "    </tr>\n",
       "    <tr>\n",
       "      <th>8</th>\n",
       "      <td>Lisbon</td>\n",
       "      <td>199788.0</td>\n",
       "      <td>1647</td>\n",
       "      <td>121.304189</td>\n",
       "    </tr>\n",
       "    <tr>\n",
       "      <th>9</th>\n",
       "      <td>Vienna</td>\n",
       "      <td>109187.0</td>\n",
       "      <td>1443</td>\n",
       "      <td>75.666667</td>\n",
       "    </tr>\n",
       "    <tr>\n",
       "      <th>10</th>\n",
       "      <td>Amsterdam</td>\n",
       "      <td>196988.0</td>\n",
       "      <td>1372</td>\n",
       "      <td>143.577259</td>\n",
       "    </tr>\n",
       "    <tr>\n",
       "      <th>11</th>\n",
       "      <td>Brussels</td>\n",
       "      <td>116308.0</td>\n",
       "      <td>1314</td>\n",
       "      <td>88.514460</td>\n",
       "    </tr>\n",
       "    <tr>\n",
       "      <th>12</th>\n",
       "      <td>Hamburg</td>\n",
       "      <td>50581.0</td>\n",
       "      <td>1186</td>\n",
       "      <td>42.648398</td>\n",
       "    </tr>\n",
       "    <tr>\n",
       "      <th>13</th>\n",
       "      <td>Munich</td>\n",
       "      <td>84822.0</td>\n",
       "      <td>1145</td>\n",
       "      <td>74.080349</td>\n",
       "    </tr>\n",
       "    <tr>\n",
       "      <th>14</th>\n",
       "      <td>Lyon</td>\n",
       "      <td>95409.0</td>\n",
       "      <td>1126</td>\n",
       "      <td>84.732682</td>\n",
       "    </tr>\n",
       "    <tr>\n",
       "      <th>15</th>\n",
       "      <td>Stockholm</td>\n",
       "      <td>73208.0</td>\n",
       "      <td>1033</td>\n",
       "      <td>70.869313</td>\n",
       "    </tr>\n",
       "    <tr>\n",
       "      <th>16</th>\n",
       "      <td>Budapest</td>\n",
       "      <td>150430.0</td>\n",
       "      <td>1021</td>\n",
       "      <td>147.335945</td>\n",
       "    </tr>\n",
       "    <tr>\n",
       "      <th>17</th>\n",
       "      <td>Warsaw</td>\n",
       "      <td>57268.0</td>\n",
       "      <td>925</td>\n",
       "      <td>61.911351</td>\n",
       "    </tr>\n",
       "    <tr>\n",
       "      <th>18</th>\n",
       "      <td>Dublin</td>\n",
       "      <td>124564.0</td>\n",
       "      <td>836</td>\n",
       "      <td>149.000000</td>\n",
       "    </tr>\n",
       "    <tr>\n",
       "      <th>19</th>\n",
       "      <td>Copenhagen</td>\n",
       "      <td>75122.0</td>\n",
       "      <td>819</td>\n",
       "      <td>91.724054</td>\n",
       "    </tr>\n",
       "    <tr>\n",
       "      <th>20</th>\n",
       "      <td>Athens</td>\n",
       "      <td>68975.0</td>\n",
       "      <td>776</td>\n",
       "      <td>88.885309</td>\n",
       "    </tr>\n",
       "    <tr>\n",
       "      <th>21</th>\n",
       "      <td>Edinburgh</td>\n",
       "      <td>173573.0</td>\n",
       "      <td>745</td>\n",
       "      <td>232.983893</td>\n",
       "    </tr>\n",
       "    <tr>\n",
       "      <th>22</th>\n",
       "      <td>Zurich</td>\n",
       "      <td>47969.0</td>\n",
       "      <td>685</td>\n",
       "      <td>70.027737</td>\n",
       "    </tr>\n",
       "    <tr>\n",
       "      <th>23</th>\n",
       "      <td>Oporto</td>\n",
       "      <td>81903.0</td>\n",
       "      <td>642</td>\n",
       "      <td>127.574766</td>\n",
       "    </tr>\n",
       "    <tr>\n",
       "      <th>24</th>\n",
       "      <td>Geneva</td>\n",
       "      <td>35331.0</td>\n",
       "      <td>590</td>\n",
       "      <td>59.883051</td>\n",
       "    </tr>\n",
       "    <tr>\n",
       "      <th>25</th>\n",
       "      <td>Krakow</td>\n",
       "      <td>68643.0</td>\n",
       "      <td>554</td>\n",
       "      <td>123.904332</td>\n",
       "    </tr>\n",
       "    <tr>\n",
       "      <th>26</th>\n",
       "      <td>Oslo</td>\n",
       "      <td>47240.0</td>\n",
       "      <td>488</td>\n",
       "      <td>96.803279</td>\n",
       "    </tr>\n",
       "    <tr>\n",
       "      <th>27</th>\n",
       "      <td>Helsinki</td>\n",
       "      <td>30099.0</td>\n",
       "      <td>475</td>\n",
       "      <td>63.366316</td>\n",
       "    </tr>\n",
       "    <tr>\n",
       "      <th>28</th>\n",
       "      <td>Bratislava</td>\n",
       "      <td>17242.0</td>\n",
       "      <td>380</td>\n",
       "      <td>45.373684</td>\n",
       "    </tr>\n",
       "    <tr>\n",
       "      <th>29</th>\n",
       "      <td>Luxembourg</td>\n",
       "      <td>21272.0</td>\n",
       "      <td>263</td>\n",
       "      <td>80.882129</td>\n",
       "    </tr>\n",
       "    <tr>\n",
       "      <th>30</th>\n",
       "      <td>Ljubljana</td>\n",
       "      <td>18569.0</td>\n",
       "      <td>222</td>\n",
       "      <td>83.644144</td>\n",
       "    </tr>\n",
       "  </tbody>\n",
       "</table>\n",
       "</div>"
      ],
      "text/plain": [
       "          City  Number of Reviews_x  Number of Reviews_y  city_reviews_mean\n",
       "0       London             949920.0                 7193         132.061727\n",
       "1        Paris             693631.0                 6108         113.561067\n",
       "2       Madrid             363611.0                 3813          95.360871\n",
       "3    Barcelona             437487.0                 3395         128.862150\n",
       "4       Berlin             160343.0                 2705          59.276525\n",
       "5        Milan             437507.0                 2694         162.400520\n",
       "6         Rome             737279.0                 2589         284.773658\n",
       "7       Prague             203846.0                 1816         112.250000\n",
       "8       Lisbon             199788.0                 1647         121.304189\n",
       "9       Vienna             109187.0                 1443          75.666667\n",
       "10   Amsterdam             196988.0                 1372         143.577259\n",
       "11    Brussels             116308.0                 1314          88.514460\n",
       "12     Hamburg              50581.0                 1186          42.648398\n",
       "13      Munich              84822.0                 1145          74.080349\n",
       "14        Lyon              95409.0                 1126          84.732682\n",
       "15   Stockholm              73208.0                 1033          70.869313\n",
       "16    Budapest             150430.0                 1021         147.335945\n",
       "17      Warsaw              57268.0                  925          61.911351\n",
       "18      Dublin             124564.0                  836         149.000000\n",
       "19  Copenhagen              75122.0                  819          91.724054\n",
       "20      Athens              68975.0                  776          88.885309\n",
       "21   Edinburgh             173573.0                  745         232.983893\n",
       "22      Zurich              47969.0                  685          70.027737\n",
       "23      Oporto              81903.0                  642         127.574766\n",
       "24      Geneva              35331.0                  590          59.883051\n",
       "25      Krakow              68643.0                  554         123.904332\n",
       "26        Oslo              47240.0                  488          96.803279\n",
       "27    Helsinki              30099.0                  475          63.366316\n",
       "28  Bratislava              17242.0                  380          45.373684\n",
       "29  Luxembourg              21272.0                  263          80.882129\n",
       "30   Ljubljana              18569.0                  222          83.644144"
      ]
     },
     "execution_count": 1197,
     "metadata": {},
     "output_type": "execute_result"
    }
   ],
   "source": [
    "# Попробую другим способом получить среднее по городу\n",
    "table = Number_of_Reviews_Sum.reset_index().merge(Number_of_Reviews_Count.reset_index(), on='City', how='right')\n",
    "table['city_reviews_mean'] = table['Number of Reviews_x']/table['Number of Reviews_y']\n",
    "table"
   ]
  },
  {
   "cell_type": "code",
   "execution_count": 1198,
   "metadata": {},
   "outputs": [
    {
     "data": {
      "text/plain": [
       "{'Amsterdam': [143.57725947521865],\n",
       " 'Athens': [88.88530927835052],\n",
       " 'Barcelona': [128.8621502209131],\n",
       " 'Berlin': [59.27652495378928],\n",
       " 'Bratislava': [45.373684210526314],\n",
       " 'Brussels': [88.5144596651446],\n",
       " 'Budapest': [147.33594515181196],\n",
       " 'Copenhagen': [91.72405372405372],\n",
       " 'Dublin': [149.0],\n",
       " 'Edinburgh': [232.98389261744967],\n",
       " 'Geneva': [59.883050847457625],\n",
       " 'Hamburg': [42.64839797639123],\n",
       " 'Helsinki': [63.36631578947368],\n",
       " 'Krakow': [123.9043321299639],\n",
       " 'Lisbon': [121.30418943533698],\n",
       " 'Ljubljana': [83.64414414414415],\n",
       " 'London': [132.06172667871542],\n",
       " 'Luxembourg': [80.88212927756653],\n",
       " 'Lyon': [84.73268206039076],\n",
       " 'Madrid': [95.36087070548125],\n",
       " 'Milan': [162.40051967334819],\n",
       " 'Munich': [74.08034934497816],\n",
       " 'Oporto': [127.57476635514018],\n",
       " 'Oslo': [96.80327868852459],\n",
       " 'Paris': [113.56106745252129],\n",
       " 'Prague': [112.25],\n",
       " 'Rome': [284.7736577829278],\n",
       " 'Stockholm': [70.86931268151017],\n",
       " 'Vienna': [75.66666666666667],\n",
       " 'Warsaw': [61.91135135135135],\n",
       " 'Zurich': [70.02773722627737]}"
      ]
     },
     "execution_count": 1198,
     "metadata": {},
     "output_type": "execute_result"
    }
   ],
   "source": [
    "#Тоже превращаем данные в словарь (просто для тренировки)\n",
    "city_reviews = table.groupby('City')['city_reviews_mean'].apply(list).to_dict()\n",
    "city_reviews"
   ]
  },
  {
   "cell_type": "code",
   "execution_count": 1199,
   "metadata": {},
   "outputs": [],
   "source": [
    "# Заменяем все нули на среднее по городу количество отзывов (по итогу это не особо поменяло MAE):\n",
    "def number_of_reviews_med(row):\n",
    "    if row['Number of Reviews'] == 0:\n",
    "        result = med_number_of_reviews_dict[row['City']]\n",
    "    else:\n",
    "        result = row['Number of Reviews']\n",
    "    return result\n",
    "\n",
    "data['Number of Reviews'] = data.apply(lambda row: number_of_reviews_med(row),axis = 1)\n"
   ]
  },
  {
   "cell_type": "markdown",
   "metadata": {},
   "source": [
    "<b>Таким образом, создан новый признак - среднее количество отзывов на один ресторан в городе Number of Reviews</b>"
   ]
  },
  {
   "cell_type": "markdown",
   "metadata": {},
   "source": [
    " ### Рассмотрим и проанализируем колонку \"Cuisine Style\""
   ]
  },
  {
   "cell_type": "code",
   "execution_count": 1200,
   "metadata": {
    "execution": {
     "iopub.execute_input": "2021-05-28T19:38:51.679143Z",
     "iopub.status.busy": "2021-05-28T19:38:51.678882Z",
     "iopub.status.idle": "2021-05-28T19:38:51.688745Z",
     "shell.execute_reply": "2021-05-28T19:38:51.6865Z",
     "shell.execute_reply.started": "2021-05-28T19:38:51.679106Z"
    }
   },
   "outputs": [
    {
     "data": {
      "text/plain": [
       "\"['Bar', 'Pub']\""
      ]
     },
     "execution_count": 1200,
     "metadata": {},
     "output_type": "execute_result"
    }
   ],
   "source": [
    "# Cuisine Style: Кухня\n",
    "data.loc[0, 'Cuisine Style']\n",
    "# В одной ячейке представлены несколько типов кухонь, которые есть в ресторане"
   ]
  },
  {
   "cell_type": "code",
   "execution_count": 1201,
   "metadata": {},
   "outputs": [],
   "source": [
    "data['Cuisine Style'] = data['Cuisine Style'].apply(lambda x: str(x).replace('[',''))\n",
    "data['Cuisine Style'] = data['Cuisine Style'].apply(lambda x: str(x).replace(']',''))\n",
    "data['Cuisine Style'] = data['Cuisine Style'].apply(lambda x: str(x).replace(' ',''))"
   ]
  },
  {
   "cell_type": "code",
   "execution_count": 1202,
   "metadata": {},
   "outputs": [],
   "source": [
    "def parse_values(x):\n",
    "    if 'VegetarianFriendly' in x:\n",
    "           return 1\n",
    "    elif 'European' in x:\n",
    "           return 2\n",
    "#    elif 'Mediterranean' in x:    \n",
    "#           return 3\n",
    "#    elif 'Italian' in x:    \n",
    "#           return 4        \n",
    "#    elif 'VeganOptions' in x:    \n",
    "#           return 5        \n",
    "#    elif 'GlutenFreeOptions' in x:    \n",
    "#           return 6          \n",
    "    else:\n",
    "         return 3\n",
    "data['Cuisine'] = data['Cuisine Style'].apply(parse_values)"
   ]
  },
  {
   "cell_type": "code",
   "execution_count": 1203,
   "metadata": {},
   "outputs": [],
   "source": [
    "#Хуже MAE с разбивкой \n",
    "#data = pd.get_dummies(data, columns=[ 'Cuisine',], dummy_na=True)"
   ]
  },
  {
   "cell_type": "code",
   "execution_count": 1204,
   "metadata": {
    "execution": {
     "iopub.execute_input": "2021-05-28T19:38:51.691672Z",
     "iopub.status.busy": "2021-05-28T19:38:51.69118Z",
     "iopub.status.idle": "2021-05-28T19:38:51.882897Z",
     "shell.execute_reply": "2021-05-28T19:38:51.882057Z",
     "shell.execute_reply.started": "2021-05-28T19:38:51.691588Z"
    }
   },
   "outputs": [],
   "source": [
    " #посчитаем количество представленных кухонь, если значение пустое, то кухня одна\n",
    "def modify_cuisine_style(value):\n",
    "    if pd.isnull(value):\n",
    "        return []\n",
    "    else:\n",
    "        result = value.replace('[', '') \n",
    "        result = result.replace(']', '') \n",
    "        result = result.replace(', ', ',')\n",
    "        return result.split(\",\")\n",
    "\n",
    "data['Cuisine Style'] = data['Cuisine Style'].apply(modify_cuisine_style)\n",
    "data['Cuisine_Style'] = data['Cuisine Style'].apply(lambda x: 1 if len(x)==0 else len(x))"
   ]
  },
  {
   "cell_type": "code",
   "execution_count": 1205,
   "metadata": {},
   "outputs": [],
   "source": [
    "#data['Cuisine Style'].to_list()"
   ]
  },
  {
   "cell_type": "code",
   "execution_count": 1206,
   "metadata": {},
   "outputs": [],
   "source": [
    "#data_exploded = data.explode('Cuisine Style')\n",
    "#data_exploded['Cuisine Style'].value_counts().head(10)"
   ]
  },
  {
   "cell_type": "code",
   "execution_count": 1207,
   "metadata": {},
   "outputs": [],
   "source": [
    "#data_exploded.type_of_cuisine.value_counts().head(7)"
   ]
  },
  {
   "cell_type": "code",
   "execution_count": 1208,
   "metadata": {},
   "outputs": [],
   "source": [
    "#data['Cuisine'].value_counts()"
   ]
  },
  {
   "cell_type": "code",
   "execution_count": 1209,
   "metadata": {},
   "outputs": [],
   "source": [
    "#Преобразуем средние значения часто встречающихся типов кухонь по конкретному городу в словарь\n",
    "#City_Cuisine_dict = data.groupby('City')['Cuisine'].mean().to_dict()"
   ]
  },
  {
   "cell_type": "code",
   "execution_count": 1210,
   "metadata": {},
   "outputs": [],
   "source": [
    "#Создадим новый признак (МАЕ лучше, но при submit на Kagle хуже немного значение, поэтому не буду использовать)\n",
    "#data['mean_city_cuisine'] = data['City'].replace(to_replace=City_Cuisine_dict)"
   ]
  },
  {
   "cell_type": "code",
   "execution_count": 1211,
   "metadata": {},
   "outputs": [],
   "source": [
    "#Посмотрим на корреляцию\n",
    "#data.loc[:,'Rating'].astype('float64').corr(data.loc[:,'mean_city_cuisine']).astype('float64')"
   ]
  },
  {
   "cell_type": "markdown",
   "metadata": {},
   "source": [
    "### Рассмотрим и проанализируем колонку City"
   ]
  },
  {
   "cell_type": "code",
   "execution_count": 1212,
   "metadata": {},
   "outputs": [
    {
     "data": {
      "text/plain": [
       "London        7193\n",
       "Paris         6108\n",
       "Madrid        3813\n",
       "Barcelona     3395\n",
       "Berlin        2705\n",
       "Milan         2694\n",
       "Rome          2589\n",
       "Prague        1816\n",
       "Lisbon        1647\n",
       "Vienna        1443\n",
       "Amsterdam     1372\n",
       "Brussels      1314\n",
       "Hamburg       1186\n",
       "Munich        1145\n",
       "Lyon          1126\n",
       "Stockholm     1033\n",
       "Budapest      1021\n",
       "Warsaw         925\n",
       "Dublin         836\n",
       "Copenhagen     819\n",
       "Athens         776\n",
       "Edinburgh      745\n",
       "Zurich         685\n",
       "Oporto         642\n",
       "Geneva         590\n",
       "Krakow         554\n",
       "Oslo           488\n",
       "Helsinki       475\n",
       "Bratislava     380\n",
       "Luxembourg     263\n",
       "Ljubljana      222\n",
       "Name: City, dtype: int64"
      ]
     },
     "execution_count": 1212,
     "metadata": {},
     "output_type": "execute_result"
    }
   ],
   "source": [
    "data.City.value_counts()"
   ]
  },
  {
   "cell_type": "code",
   "execution_count": 1213,
   "metadata": {},
   "outputs": [
    {
     "data": {
      "image/png": "[encoded data removed]",
      "text/plain": [
       "<Figure size 576x288 with 1 Axes>"
      ]
     },
     "metadata": {
      "needs_background": "light"
     },
     "output_type": "display_data"
    }
   ],
   "source": [
    "get_boxplot('City')"
   ]
  },
  {
   "cell_type": "code",
   "execution_count": 1214,
   "metadata": {},
   "outputs": [],
   "source": [
    "#Введём признак, является ли город столицей\n",
    "capital = ['Amsterdam', 'Athens', 'Berlin', 'Bratislava', 'Brussels', 'Budapest', 'Copenhagen', 'Dublin', 'Edinburgh', 'Helsinki',\n",
    "           'Lisbon', 'Ljubljana', 'London', 'Luxembourg', 'Madrid', 'Oslo', 'Paris', 'Prague', 'Rome', 'Stockholm', 'Vienna', 'Warsaw']\n",
    "data['Capital'] = data['City'].apply(lambda x: 1 if x in (capital) else 0)"
   ]
  },
  {
   "cell_type": "code",
   "execution_count": 1215,
   "metadata": {},
   "outputs": [
    {
     "data": {
      "image/png": "[encoded data removed]",
      "text/plain": [
       "<Figure size 576x288 with 1 Axes>"
      ]
     },
     "metadata": {
      "needs_background": "light"
     },
     "output_type": "display_data"
    }
   ],
   "source": [
    "get_boxplot('Capital')"
   ]
  },
  {
   "cell_type": "markdown",
   "metadata": {},
   "source": [
    "К моему удивлению, признак столицы не влияет на рейтинг ресторана."
   ]
  },
  {
   "cell_type": "markdown",
   "metadata": {},
   "source": [
    "Попробую сделать из этого признака дамми-переменную."
   ]
  },
  {
   "cell_type": "code",
   "execution_count": 1216,
   "metadata": {},
   "outputs": [],
   "source": [
    "data = pd.get_dummies(data, columns=['Capital'], dummy_na=False)"
   ]
  },
  {
   "cell_type": "markdown",
   "metadata": {},
   "source": [
    "Признак Capital в виде дамми-переменной положительно повлиял на показатель MAE."
   ]
  },
  {
   "cell_type": "markdown",
   "metadata": {},
   "source": [
    "<b>Таким образом, создан новый признак - столица Capital.</b>"
   ]
  },
  {
   "cell_type": "code",
   "execution_count": 1217,
   "metadata": {
    "execution": {
     "iopub.execute_input": "2021-05-28T19:38:51.928008Z",
     "iopub.status.busy": "2021-05-28T19:38:51.927769Z",
     "iopub.status.idle": "2021-05-28T19:38:51.970322Z",
     "shell.execute_reply": "2021-05-28T19:38:51.969579Z",
     "shell.execute_reply.started": "2021-05-28T19:38:51.927968Z"
    }
   },
   "outputs": [],
   "source": [
    "# для One-Hot Encoding в pandas есть готовая функция - get_dummies. Особенно радует параметр dummy_na\n",
    "data = pd.get_dummies(data, columns=[ 'City',], dummy_na=True)"
   ]
  },
  {
   "cell_type": "markdown",
   "metadata": {},
   "source": [
    " ### Рассмотрим и проанализируем колонку \"Reviews\""
   ]
  },
  {
   "cell_type": "code",
   "execution_count": 1218,
   "metadata": {},
   "outputs": [],
   "source": [
    "#Reviews: 2 последних отзыва и даты этих отзывов"
   ]
  },
  {
   "cell_type": "code",
   "execution_count": 1219,
   "metadata": {},
   "outputs": [],
   "source": [
    "data['Reviews'] = data['Reviews'].apply(lambda x: str(x).replace('[',''))\n",
    "data['Reviews'] = data['Reviews'].apply(lambda x: str(x).replace(']',''))\n",
    "data['Reviews'] = data['Reviews'].apply(lambda x: str(x).replace(' ',''))"
   ]
  },
  {
   "cell_type": "code",
   "execution_count": 1220,
   "metadata": {},
   "outputs": [],
   "source": [
    "# Создаем столбец Review_Dates содержащий список дат отзывов:\n",
    "pattern = re.compile('\\d+\\/\\d+\\/\\d+')\n",
    "data['Review_Date'] = data.Reviews.apply(pattern.findall)"
   ]
  },
  {
   "cell_type": "code",
   "execution_count": 1221,
   "metadata": {},
   "outputs": [
    {
     "data": {
      "text/plain": [
       "2    36202\n",
       "0     8114\n",
       "1     5680\n",
       "3        4\n",
       "Name: Number_of_Date, dtype: int64"
      ]
     },
     "execution_count": 1221,
     "metadata": {},
     "output_type": "execute_result"
    }
   ],
   "source": [
    "# Смотрим сколько всего бывает дат:\n",
    "data['Number_of_Date'] = data.Review_Date.apply(lambda x: len(list(x)))\n",
    "data.Number_of_Date.value_counts()"
   ]
  },
  {
   "cell_type": "code",
   "execution_count": 1222,
   "metadata": {},
   "outputs": [],
   "source": [
    "#Видим, что первая дата прописана в отзыве "
   ]
  },
  {
   "cell_type": "code",
   "execution_count": 1223,
   "metadata": {},
   "outputs": [
    {
     "data": {
      "text/plain": [
       "2    36206\n",
       "0     8114\n",
       "1     5680\n",
       "Name: Number_of_Date, dtype: int64"
      ]
     },
     "execution_count": 1223,
     "metadata": {},
     "output_type": "execute_result"
    }
   ],
   "source": [
    "# Убираем даты упоминаемые из комментариях отзывов:\n",
    "data.Review_Date = data.Review_Date.apply(lambda x: [x[-2], x[-1]] if len(x) > 2 else x)\n",
    "\n",
    "# Проверяем, что получилось:\n",
    "data['Number_of_Date'] = data.Review_Date.apply(lambda x: len(list(x))) \n",
    "data.Number_of_Date.value_counts() "
   ]
  },
  {
   "cell_type": "code",
   "execution_count": 1224,
   "metadata": {},
   "outputs": [],
   "source": [
    "# Разносим даты по 2-м новым столбцам, так чтобы в столбце Date_Rev_1 была бОльшая дата\n",
    "# и переводим их в формат datetime:\n",
    "\n",
    "def date_rev_1_func(x):\n",
    "    if len(x) == 0:\n",
    "        result = None\n",
    "    elif len(x) == 1:\n",
    "        result = x[0]\n",
    "    else: \n",
    "        result = max(x)\n",
    "    return result"
   ]
  },
  {
   "cell_type": "code",
   "execution_count": 1225,
   "metadata": {},
   "outputs": [],
   "source": [
    "def date_rev_2_func(x):\n",
    "    if len(x) == 0:\n",
    "        result = None\n",
    "    elif len(x) == 1:\n",
    "        result = x[0]\n",
    "    else:\n",
    "        result = min(x)\n",
    "    return result"
   ]
  },
  {
   "cell_type": "code",
   "execution_count": 1226,
   "metadata": {},
   "outputs": [],
   "source": [
    "data['Date_Rev_1'] = pd.to_datetime(data.Review_Date.apply(lambda x: date_rev_1_func(x)))\n",
    "data['Date_Rev_2'] = pd.to_datetime(data.Review_Date.apply(lambda x: date_rev_2_func(x)))"
   ]
  },
  {
   "cell_type": "code",
   "execution_count": 1227,
   "metadata": {},
   "outputs": [
    {
     "name": "stdout",
     "output_type": "stream",
     "text": [
      "3296.0\n"
     ]
    }
   ],
   "source": [
    "# Cмотрим разницу между датами 2-х отзывов и ее макcимальное значение:\n",
    "data['Date_Rev_delta'] = (data.Date_Rev_1 - data.Date_Rev_2)/ np.timedelta64(1, \"D\")\n",
    "\n",
    "x = list(data['Date_Rev_delta'].unique()) \n",
    "x.sort()\n",
    "print(x[-1])"
   ]
  },
  {
   "cell_type": "code",
   "execution_count": 1228,
   "metadata": {},
   "outputs": [
    {
     "data": {
      "text/plain": [
       "Timestamp('2018-02-26 00:00:00')"
      ]
     },
     "metadata": {},
     "output_type": "display_data"
    }
   ],
   "source": [
    "# Создаем колонку с количеством дней, отделяющих последний отзыв от date_max:\n",
    "\n",
    "# Находим максимальную дату отзыва в датасете:\n",
    "date_max = data['Date_Rev_1'].max()\n",
    "display(date_max)\n",
    "\n",
    "# Заполняем колонку:\n",
    "data['Date_Rev_From_Max'] = data.apply(lambda row: None if len(row.Review_Date) == 0  \n",
    "                                       else ((date_max-row.Date_Rev_1)), axis=1) / np.timedelta64(1, \"D\")  \n",
    "\n",
    "# Находим максимальное значение в колонке:\n",
    "bad_date = data['Date_Rev_From_Max'].max()\n",
    "\n",
    "# Заполняем пропуски максимальным значением в колонке:\n",
    "data.Date_Rev_From_Max.fillna(bad_date, inplace = True)"
   ]
  },
  {
   "cell_type": "markdown",
   "metadata": {},
   "source": [
    "<b>Таким образом, создала признак Date_Rev_From_Max</b>"
   ]
  },
  {
   "cell_type": "markdown",
   "metadata": {},
   "source": [
    "Попробуем воспользоваться библиотекой TextBlob для оценки отзывов"
   ]
  },
  {
   "cell_type": "code",
   "execution_count": 1229,
   "metadata": {},
   "outputs": [],
   "source": [
    "data['Review_1'] = data['Reviews'].apply(lambda x: TextBlob(x).polarity)"
   ]
  },
  {
   "cell_type": "code",
   "execution_count": 1230,
   "metadata": {},
   "outputs": [
    {
     "data": {
      "text/plain": [
       " 0.00    46545\n",
       " 1.00     1122\n",
       " 0.50      427\n",
       " 0.70      176\n",
       "-1.00      159\n",
       " 0.60      126\n",
       "-0.15      121\n",
       " 0.60      120\n",
       " 0.40      112\n",
       " 0.80      102\n",
       "Name: Review_1, dtype: int64"
      ]
     },
     "execution_count": 1230,
     "metadata": {},
     "output_type": "execute_result"
    }
   ],
   "source": [
    "data['Review_1'].value_counts().head(10)"
   ]
  },
  {
   "cell_type": "markdown",
   "metadata": {},
   "source": [
    "Слишком много нейтральных отзывов. Значений 0 - 46 тысяч. Смысла не имеет использовать."
   ]
  },
  {
   "cell_type": "markdown",
   "metadata": {},
   "source": [
    " ### Рассмотрим и проанализируем колонку \"ID_TA\""
   ]
  },
  {
   "cell_type": "code",
   "execution_count": 1231,
   "metadata": {},
   "outputs": [],
   "source": [
    "#ID_TA: ID ресторана в TripAdvisor"
   ]
  },
  {
   "cell_type": "code",
   "execution_count": 1232,
   "metadata": {},
   "outputs": [
    {
     "data": {
      "text/html": [
       "<div>\n",
       "<style scoped>\n",
       "    .dataframe tbody tr th:only-of-type {\n",
       "        vertical-align: middle;\n",
       "    }\n",
       "\n",
       "    .dataframe tbody tr th {\n",
       "        vertical-align: top;\n",
       "    }\n",
       "\n",
       "    .dataframe thead th {\n",
       "        text-align: right;\n",
       "    }\n",
       "</style>\n",
       "<table border=\"1\" class=\"dataframe\">\n",
       "  <thead>\n",
       "    <tr style=\"text-align: right;\">\n",
       "      <th></th>\n",
       "      <th>index</th>\n",
       "      <th>ID_TA</th>\n",
       "    </tr>\n",
       "  </thead>\n",
       "  <tbody>\n",
       "    <tr>\n",
       "      <th>0</th>\n",
       "      <td>d11999956</td>\n",
       "      <td>2</td>\n",
       "    </tr>\n",
       "    <tr>\n",
       "      <th>1</th>\n",
       "      <td>d3685055</td>\n",
       "      <td>2</td>\n",
       "    </tr>\n",
       "    <tr>\n",
       "      <th>2</th>\n",
       "      <td>d12488993</td>\n",
       "      <td>2</td>\n",
       "    </tr>\n",
       "    <tr>\n",
       "      <th>3</th>\n",
       "      <td>d8753348</td>\n",
       "      <td>2</td>\n",
       "    </tr>\n",
       "    <tr>\n",
       "      <th>4</th>\n",
       "      <td>d1315077</td>\n",
       "      <td>2</td>\n",
       "    </tr>\n",
       "    <tr>\n",
       "      <th>5</th>\n",
       "      <td>d9877640</td>\n",
       "      <td>2</td>\n",
       "    </tr>\n",
       "    <tr>\n",
       "      <th>6</th>\n",
       "      <td>d11921719</td>\n",
       "      <td>2</td>\n",
       "    </tr>\n",
       "    <tr>\n",
       "      <th>7</th>\n",
       "      <td>d3161682</td>\n",
       "      <td>2</td>\n",
       "    </tr>\n",
       "    <tr>\n",
       "      <th>8</th>\n",
       "      <td>d13002276</td>\n",
       "      <td>2</td>\n",
       "    </tr>\n",
       "    <tr>\n",
       "      <th>9</th>\n",
       "      <td>d11674463</td>\n",
       "      <td>2</td>\n",
       "    </tr>\n",
       "    <tr>\n",
       "      <th>10</th>\n",
       "      <td>d10440367</td>\n",
       "      <td>2</td>\n",
       "    </tr>\n",
       "    <tr>\n",
       "      <th>11</th>\n",
       "      <td>d2010743</td>\n",
       "      <td>2</td>\n",
       "    </tr>\n",
       "    <tr>\n",
       "      <th>12</th>\n",
       "      <td>d7342803</td>\n",
       "      <td>2</td>\n",
       "    </tr>\n",
       "    <tr>\n",
       "      <th>13</th>\n",
       "      <td>d7827387</td>\n",
       "      <td>2</td>\n",
       "    </tr>\n",
       "    <tr>\n",
       "      <th>14</th>\n",
       "      <td>d2477531</td>\n",
       "      <td>2</td>\n",
       "    </tr>\n",
       "    <tr>\n",
       "      <th>15</th>\n",
       "      <td>d5618007</td>\n",
       "      <td>2</td>\n",
       "    </tr>\n",
       "    <tr>\n",
       "      <th>16</th>\n",
       "      <td>d5617412</td>\n",
       "      <td>2</td>\n",
       "    </tr>\n",
       "    <tr>\n",
       "      <th>17</th>\n",
       "      <td>d1235635</td>\n",
       "      <td>2</td>\n",
       "    </tr>\n",
       "    <tr>\n",
       "      <th>18</th>\n",
       "      <td>d987900</td>\n",
       "      <td>2</td>\n",
       "    </tr>\n",
       "    <tr>\n",
       "      <th>19</th>\n",
       "      <td>d2669414</td>\n",
       "      <td>2</td>\n",
       "    </tr>\n",
       "    <tr>\n",
       "      <th>20</th>\n",
       "      <td>d7809594</td>\n",
       "      <td>2</td>\n",
       "    </tr>\n",
       "    <tr>\n",
       "      <th>21</th>\n",
       "      <td>d1568045</td>\n",
       "      <td>2</td>\n",
       "    </tr>\n",
       "    <tr>\n",
       "      <th>22</th>\n",
       "      <td>d4600226</td>\n",
       "      <td>2</td>\n",
       "    </tr>\n",
       "    <tr>\n",
       "      <th>23</th>\n",
       "      <td>d793170</td>\n",
       "      <td>2</td>\n",
       "    </tr>\n",
       "    <tr>\n",
       "      <th>24</th>\n",
       "      <td>d3396817</td>\n",
       "      <td>2</td>\n",
       "    </tr>\n",
       "    <tr>\n",
       "      <th>25</th>\n",
       "      <td>d4748208</td>\n",
       "      <td>2</td>\n",
       "    </tr>\n",
       "    <tr>\n",
       "      <th>26</th>\n",
       "      <td>d4914988</td>\n",
       "      <td>2</td>\n",
       "    </tr>\n",
       "    <tr>\n",
       "      <th>27</th>\n",
       "      <td>d2360290</td>\n",
       "      <td>2</td>\n",
       "    </tr>\n",
       "    <tr>\n",
       "      <th>28</th>\n",
       "      <td>d11698990</td>\n",
       "      <td>2</td>\n",
       "    </tr>\n",
       "    <tr>\n",
       "      <th>29</th>\n",
       "      <td>d3748757</td>\n",
       "      <td>2</td>\n",
       "    </tr>\n",
       "    <tr>\n",
       "      <th>30</th>\n",
       "      <td>d3647024</td>\n",
       "      <td>2</td>\n",
       "    </tr>\n",
       "    <tr>\n",
       "      <th>31</th>\n",
       "      <td>d1028622</td>\n",
       "      <td>2</td>\n",
       "    </tr>\n",
       "    <tr>\n",
       "      <th>32</th>\n",
       "      <td>d697406</td>\n",
       "      <td>2</td>\n",
       "    </tr>\n",
       "    <tr>\n",
       "      <th>33</th>\n",
       "      <td>d7337366</td>\n",
       "      <td>2</td>\n",
       "    </tr>\n",
       "    <tr>\n",
       "      <th>34</th>\n",
       "      <td>d10047799</td>\n",
       "      <td>2</td>\n",
       "    </tr>\n",
       "    <tr>\n",
       "      <th>35</th>\n",
       "      <td>d10316215</td>\n",
       "      <td>2</td>\n",
       "    </tr>\n",
       "    <tr>\n",
       "      <th>36</th>\n",
       "      <td>d9802625</td>\n",
       "      <td>2</td>\n",
       "    </tr>\n",
       "  </tbody>\n",
       "</table>\n",
       "</div>"
      ],
      "text/plain": [
       "        index  ID_TA\n",
       "0   d11999956      2\n",
       "1    d3685055      2\n",
       "2   d12488993      2\n",
       "3    d8753348      2\n",
       "4    d1315077      2\n",
       "5    d9877640      2\n",
       "6   d11921719      2\n",
       "7    d3161682      2\n",
       "8   d13002276      2\n",
       "9   d11674463      2\n",
       "10  d10440367      2\n",
       "11   d2010743      2\n",
       "12   d7342803      2\n",
       "13   d7827387      2\n",
       "14   d2477531      2\n",
       "15   d5618007      2\n",
       "16   d5617412      2\n",
       "17   d1235635      2\n",
       "18    d987900      2\n",
       "19   d2669414      2\n",
       "20   d7809594      2\n",
       "21   d1568045      2\n",
       "22   d4600226      2\n",
       "23    d793170      2\n",
       "24   d3396817      2\n",
       "25   d4748208      2\n",
       "26   d4914988      2\n",
       "27   d2360290      2\n",
       "28  d11698990      2\n",
       "29   d3748757      2\n",
       "30   d3647024      2\n",
       "31   d1028622      2\n",
       "32    d697406      2\n",
       "33   d7337366      2\n",
       "34  d10047799      2\n",
       "35  d10316215      2\n",
       "36   d9802625      2"
      ]
     },
     "execution_count": 1232,
     "metadata": {},
     "output_type": "execute_result"
    }
   ],
   "source": [
    "df_ID_TA = data.ID_TA.value_counts()[:].reset_index()\n",
    "df_ID_TA[df_ID_TA.ID_TA ==2]"
   ]
  },
  {
   "cell_type": "markdown",
   "metadata": {},
   "source": [
    "Видим, что номера имеют разную длину. Посмотрим какими они бывают."
   ]
  },
  {
   "cell_type": "code",
   "execution_count": 1233,
   "metadata": {},
   "outputs": [],
   "source": [
    "data['ID_TA_type'] = data['ID_TA'].apply(lambda x: len(x))"
   ]
  },
  {
   "cell_type": "code",
   "execution_count": 1234,
   "metadata": {},
   "outputs": [
    {
     "data": {
      "text/plain": [
       "<AxesSubplot:>"
      ]
     },
     "execution_count": 1234,
     "metadata": {},
     "output_type": "execute_result"
    },
    {
     "data": {
      "image/png": "[encoded data removed]",
      "text/plain": [
       "<Figure size 720x504 with 1 Axes>"
      ]
     },
     "metadata": {
      "needs_background": "light"
     },
     "output_type": "display_data"
    }
   ],
   "source": [
    "data['ID_TA_type'].hist()"
   ]
  },
  {
   "cell_type": "code",
   "execution_count": 1235,
   "metadata": {},
   "outputs": [
    {
     "data": {
      "text/plain": [
       "ID_TA_type\n",
       "7    3.146266\n",
       "8    3.150534\n",
       "9    3.334108\n",
       "Name: Rating, dtype: float64"
      ]
     },
     "execution_count": 1235,
     "metadata": {},
     "output_type": "execute_result"
    }
   ],
   "source": [
    "Rating_median_ID_TA_type = data.groupby('ID_TA_type')['Rating'].mean()\n",
    "Rating_median_ID_TA_type"
   ]
  },
  {
   "cell_type": "code",
   "execution_count": 1236,
   "metadata": {},
   "outputs": [
    {
     "data": {
      "image/png": "[encoded data removed]",
      "text/plain": [
       "<Figure size 576x288 with 1 Axes>"
      ]
     },
     "metadata": {
      "needs_background": "light"
     },
     "output_type": "display_data"
    }
   ],
   "source": [
    "for i in ['ID_TA_type']:\n",
    "    get_boxplot(i)"
   ]
  },
  {
   "cell_type": "markdown",
   "metadata": {},
   "source": [
    "Видно, что у номеров длиной 8 и 9, рейтинг немного выше."
   ]
  },
  {
   "cell_type": "code",
   "execution_count": 1237,
   "metadata": {},
   "outputs": [],
   "source": [
    "#объединим номера с длиной 8 и 9 в одну группу, а с длиной 7 - в другую.\n",
    "def len_ID_TA(x):\n",
    "    if x == 8 or x == 9:\n",
    "        return 1\n",
    "    else: return 0  "
   ]
  },
  {
   "cell_type": "code",
   "execution_count": 1238,
   "metadata": {},
   "outputs": [],
   "source": [
    "data['type_ID_TA2'] = data['ID_TA_type'].apply(len_ID_TA)"
   ]
  },
  {
   "cell_type": "code",
   "execution_count": 1239,
   "metadata": {},
   "outputs": [],
   "source": [
    "#data = pd.get_dummies(data, columns=['type_ID_TA2'], dummy_na=False)\n",
    "#так хуже MAE становится"
   ]
  },
  {
   "cell_type": "markdown",
   "metadata": {},
   "source": [
    "<b>Таким образом, создала признаки, основывающиеся на длине ID ресторана в TripAdvisor - ID_TA_type и type_ID_TA2</b> "
   ]
  },
  {
   "cell_type": "markdown",
   "metadata": {},
   "source": [
    "<b>Оставляя оба признака MAE улучшается</b>"
   ]
  },
  {
   "cell_type": "markdown",
   "metadata": {},
   "source": [
    "### Посмотрим распределение целевой переменной"
   ]
  },
  {
   "cell_type": "code",
   "execution_count": 1240,
   "metadata": {
    "execution": {
     "iopub.execute_input": "2021-05-28T19:38:56.098888Z",
     "iopub.status.busy": "2021-05-28T19:38:56.098295Z",
     "iopub.status.idle": "2021-05-28T19:38:56.490666Z",
     "shell.execute_reply": "2021-05-28T19:38:56.489674Z",
     "shell.execute_reply.started": "2021-05-28T19:38:56.098823Z"
    }
   },
   "outputs": [
    {
     "data": {
      "text/plain": [
       "<AxesSubplot:>"
      ]
     },
     "execution_count": 1240,
     "metadata": {},
     "output_type": "execute_result"
    },
    {
     "data": {
      "image/png": "[encoded data removed]",
      "text/plain": [
       "<Figure size 720x504 with 1 Axes>"
      ]
     },
     "metadata": {
      "needs_background": "light"
     },
     "output_type": "display_data"
    }
   ],
   "source": [
    "df_train['Rating'].value_counts(ascending=True).plot(kind='barh')"
   ]
  },
  {
   "cell_type": "markdown",
   "metadata": {},
   "source": [
    "### Посмотрим распределение целевой переменной относительно признака"
   ]
  },
  {
   "cell_type": "code",
   "execution_count": 1241,
   "metadata": {
    "execution": {
     "iopub.execute_input": "2021-05-28T19:38:56.492866Z",
     "iopub.status.busy": "2021-05-28T19:38:56.492298Z",
     "iopub.status.idle": "2021-05-28T19:38:57.005808Z",
     "shell.execute_reply": "2021-05-28T19:38:57.004822Z",
     "shell.execute_reply.started": "2021-05-28T19:38:56.492786Z"
    }
   },
   "outputs": [
    {
     "data": {
      "text/plain": [
       "<AxesSubplot:>"
      ]
     },
     "execution_count": 1241,
     "metadata": {},
     "output_type": "execute_result"
    },
    {
     "data": {
      "image/png": "[encoded data removed]",
      "text/plain": [
       "<Figure size 720x504 with 1 Axes>"
      ]
     },
     "metadata": {
      "needs_background": "light"
     },
     "output_type": "display_data"
    }
   ],
   "source": [
    "df_train['Ranking'][df_train['Rating'] == 5].hist(bins=100)"
   ]
  },
  {
   "cell_type": "code",
   "execution_count": 1242,
   "metadata": {
    "execution": {
     "iopub.execute_input": "2021-05-28T19:38:57.013487Z",
     "iopub.status.busy": "2021-05-28T19:38:57.012669Z",
     "iopub.status.idle": "2021-05-28T19:38:57.517168Z",
     "shell.execute_reply": "2021-05-28T19:38:57.515767Z",
     "shell.execute_reply.started": "2021-05-28T19:38:57.013413Z"
    }
   },
   "outputs": [
    {
     "data": {
      "text/plain": [
       "<AxesSubplot:>"
      ]
     },
     "execution_count": 1242,
     "metadata": {},
     "output_type": "execute_result"
    },
    {
     "data": {
      "image/png": "[encoded data removed]",
      "text/plain": [
       "<Figure size 720x504 with 1 Axes>"
      ]
     },
     "metadata": {
      "needs_background": "light"
     },
     "output_type": "display_data"
    }
   ],
   "source": [
    "df_train['Ranking'][df_train['Rating'] < 4].hist(bins=100)"
   ]
  },
  {
   "cell_type": "markdown",
   "metadata": {},
   "source": [
    "## Создание полиномиальных признаков"
   ]
  },
  {
   "cell_type": "code",
   "execution_count": 1243,
   "metadata": {},
   "outputs": [],
   "source": [
    "from sklearn.preprocessing import PolynomialFeatures"
   ]
  },
  {
   "cell_type": "code",
   "execution_count": 1244,
   "metadata": {},
   "outputs": [
    {
     "data": {
      "text/plain": [
       "array([[1.00000000e+00, 1.29630000e+04, 4.00000000e+00, 1.68039369e+08,\n",
       "        5.18520000e+04, 1.60000000e+01],\n",
       "       [1.00000000e+00, 1.06000000e+02, 9.70000000e+01, 1.12360000e+04,\n",
       "        1.02820000e+04, 9.40900000e+03],\n",
       "       [1.00000000e+00, 8.10000000e+02, 2.80000000e+01, 6.56100000e+05,\n",
       "        2.26800000e+04, 7.84000000e+02],\n",
       "       ...,\n",
       "       [1.00000000e+00, 1.65200000e+03, 4.00000000e+00, 2.72910400e+06,\n",
       "        6.60800000e+03, 1.60000000e+01],\n",
       "       [1.00000000e+00, 6.41000000e+02, 7.00000000e+01, 4.10881000e+05,\n",
       "        4.48700000e+04, 4.90000000e+03],\n",
       "       [1.00000000e+00, 4.82700000e+03, 2.60000000e+02, 2.32999290e+07,\n",
       "        1.25502000e+06, 6.76000000e+04]])"
      ]
     },
     "execution_count": 1244,
     "metadata": {},
     "output_type": "execute_result"
    }
   ],
   "source": [
    "#Опытным путем нашла, что увеличение показателя MAE идет при использовании двух признаков:'Ranking', 'Number of Reviews'\n",
    "pf = PolynomialFeatures(2)\n",
    "poly_features = pf.fit_transform(data[['Ranking', 'Number of Reviews']])#Price Range\n",
    "poly_features"
   ]
  },
  {
   "cell_type": "code",
   "execution_count": 1245,
   "metadata": {},
   "outputs": [
    {
     "data": {
      "text/html": [
       "<div>\n",
       "<style scoped>\n",
       "    .dataframe tbody tr th:only-of-type {\n",
       "        vertical-align: middle;\n",
       "    }\n",
       "\n",
       "    .dataframe tbody tr th {\n",
       "        vertical-align: top;\n",
       "    }\n",
       "\n",
       "    .dataframe thead th {\n",
       "        text-align: right;\n",
       "    }\n",
       "</style>\n",
       "<table border=\"1\" class=\"dataframe\">\n",
       "  <thead>\n",
       "    <tr style=\"text-align: right;\">\n",
       "      <th></th>\n",
       "      <th>poly1</th>\n",
       "      <th>poly2</th>\n",
       "      <th>poly3</th>\n",
       "      <th>poly4</th>\n",
       "      <th>poly5</th>\n",
       "      <th>poly6</th>\n",
       "    </tr>\n",
       "  </thead>\n",
       "  <tbody>\n",
       "    <tr>\n",
       "      <th>0</th>\n",
       "      <td>1.0</td>\n",
       "      <td>12963.0</td>\n",
       "      <td>4.0</td>\n",
       "      <td>168039369.0</td>\n",
       "      <td>51852.0</td>\n",
       "      <td>16.0</td>\n",
       "    </tr>\n",
       "    <tr>\n",
       "      <th>1</th>\n",
       "      <td>1.0</td>\n",
       "      <td>106.0</td>\n",
       "      <td>97.0</td>\n",
       "      <td>11236.0</td>\n",
       "      <td>10282.0</td>\n",
       "      <td>9409.0</td>\n",
       "    </tr>\n",
       "    <tr>\n",
       "      <th>2</th>\n",
       "      <td>1.0</td>\n",
       "      <td>810.0</td>\n",
       "      <td>28.0</td>\n",
       "      <td>656100.0</td>\n",
       "      <td>22680.0</td>\n",
       "      <td>784.0</td>\n",
       "    </tr>\n",
       "    <tr>\n",
       "      <th>3</th>\n",
       "      <td>1.0</td>\n",
       "      <td>1669.0</td>\n",
       "      <td>202.0</td>\n",
       "      <td>2785561.0</td>\n",
       "      <td>337138.0</td>\n",
       "      <td>40804.0</td>\n",
       "    </tr>\n",
       "    <tr>\n",
       "      <th>4</th>\n",
       "      <td>1.0</td>\n",
       "      <td>37.0</td>\n",
       "      <td>162.0</td>\n",
       "      <td>1369.0</td>\n",
       "      <td>5994.0</td>\n",
       "      <td>26244.0</td>\n",
       "    </tr>\n",
       "    <tr>\n",
       "      <th>...</th>\n",
       "      <td>...</td>\n",
       "      <td>...</td>\n",
       "      <td>...</td>\n",
       "      <td>...</td>\n",
       "      <td>...</td>\n",
       "      <td>...</td>\n",
       "    </tr>\n",
       "    <tr>\n",
       "      <th>49995</th>\n",
       "      <td>1.0</td>\n",
       "      <td>500.0</td>\n",
       "      <td>79.0</td>\n",
       "      <td>250000.0</td>\n",
       "      <td>39500.0</td>\n",
       "      <td>6241.0</td>\n",
       "    </tr>\n",
       "    <tr>\n",
       "      <th>49996</th>\n",
       "      <td>1.0</td>\n",
       "      <td>6341.0</td>\n",
       "      <td>542.0</td>\n",
       "      <td>40208281.0</td>\n",
       "      <td>3436822.0</td>\n",
       "      <td>293764.0</td>\n",
       "    </tr>\n",
       "    <tr>\n",
       "      <th>49997</th>\n",
       "      <td>1.0</td>\n",
       "      <td>1652.0</td>\n",
       "      <td>4.0</td>\n",
       "      <td>2729104.0</td>\n",
       "      <td>6608.0</td>\n",
       "      <td>16.0</td>\n",
       "    </tr>\n",
       "    <tr>\n",
       "      <th>49998</th>\n",
       "      <td>1.0</td>\n",
       "      <td>641.0</td>\n",
       "      <td>70.0</td>\n",
       "      <td>410881.0</td>\n",
       "      <td>44870.0</td>\n",
       "      <td>4900.0</td>\n",
       "    </tr>\n",
       "    <tr>\n",
       "      <th>49999</th>\n",
       "      <td>1.0</td>\n",
       "      <td>4827.0</td>\n",
       "      <td>260.0</td>\n",
       "      <td>23299929.0</td>\n",
       "      <td>1255020.0</td>\n",
       "      <td>67600.0</td>\n",
       "    </tr>\n",
       "  </tbody>\n",
       "</table>\n",
       "<p>50000 rows × 6 columns</p>\n",
       "</div>"
      ],
      "text/plain": [
       "       poly1    poly2  poly3        poly4      poly5     poly6\n",
       "0        1.0  12963.0    4.0  168039369.0    51852.0      16.0\n",
       "1        1.0    106.0   97.0      11236.0    10282.0    9409.0\n",
       "2        1.0    810.0   28.0     656100.0    22680.0     784.0\n",
       "3        1.0   1669.0  202.0    2785561.0   337138.0   40804.0\n",
       "4        1.0     37.0  162.0       1369.0     5994.0   26244.0\n",
       "...      ...      ...    ...          ...        ...       ...\n",
       "49995    1.0    500.0   79.0     250000.0    39500.0    6241.0\n",
       "49996    1.0   6341.0  542.0   40208281.0  3436822.0  293764.0\n",
       "49997    1.0   1652.0    4.0    2729104.0     6608.0      16.0\n",
       "49998    1.0    641.0   70.0     410881.0    44870.0    4900.0\n",
       "49999    1.0   4827.0  260.0   23299929.0  1255020.0   67600.0\n",
       "\n",
       "[50000 rows x 6 columns]"
      ]
     },
     "metadata": {},
     "output_type": "display_data"
    }
   ],
   "source": [
    "df = pd.DataFrame(poly_features,\n",
    "                  columns = ['poly1', 'poly2', 'poly3','poly4','poly5','poly6']                  )\n",
    "display(df)"
   ]
  },
  {
   "cell_type": "code",
   "execution_count": 1246,
   "metadata": {},
   "outputs": [],
   "source": [
    "#data['1'] =df['1']+df['2']+df['3']+df['4']+df['5']+df['6']\n",
    "data['poly1'] =df['poly1']\n",
    "data['poly2'] =df['poly2']\n",
    "data['poly3'] =df['poly3']\n",
    "data['poly4'] =df['poly4']\n",
    "data['poly5'] =df['poly5']\n",
    "#data['poly6'] =df['poly6'] Не найден как статистически значимый, убрала"
   ]
  },
  {
   "cell_type": "markdown",
   "metadata": {},
   "source": [
    "На этом графике видим, как признаки связаны между собой и с целевой переменной."
   ]
  },
  {
   "cell_type": "code",
   "execution_count": 1247,
   "metadata": {
    "execution": {
     "iopub.execute_input": "2021-05-28T19:38:57.519909Z",
     "iopub.status.busy": "2021-05-28T19:38:57.519326Z",
     "iopub.status.idle": "2021-05-28T19:38:58.956148Z",
     "shell.execute_reply": "2021-05-28T19:38:58.95503Z",
     "shell.execute_reply.started": "2021-05-28T19:38:57.519665Z"
    }
   },
   "outputs": [
    {
     "data": {
      "text/plain": [
       "<AxesSubplot:>"
      ]
     },
     "execution_count": 1247,
     "metadata": {},
     "output_type": "execute_result"
    },
    {
     "data": {
      "image/png": "[encoded data removed]",
      "text/plain": [
       "<Figure size 1080x720 with 2 Axes>"
      ]
     },
     "metadata": {
      "needs_background": "light"
     },
     "output_type": "display_data"
    }
   ],
   "source": [
    "plt.rcParams['figure.figsize'] = (15,10)\n",
    "sns.heatmap(data.drop(['sample'], axis=1).corr(),)"
   ]
  },
  {
   "cell_type": "code",
   "execution_count": 1249,
   "metadata": {},
   "outputs": [
    {
     "name": "stdout",
     "output_type": "stream",
     "text": [
      "Найдены статистически значимые различия для колонки ID_TA\n",
      "Найдены статистически значимые различия для колонки City_Athens\n",
      "Найдены статистически значимые различия для колонки City_Berlin\n",
      "Найдены статистически значимые различия для колонки City_Madrid\n",
      "Найдены статистически значимые различия для колонки City_Milan\n",
      "Найдены статистически значимые различия для колонки City_Oporto\n",
      "Найдены статистически значимые различия для колонки City_Rome\n",
      "Найдены статистически значимые различия для колонки City_Stockholm\n",
      "Найдены статистически значимые различия для колонки City_Vienna\n",
      "Найдены статистически значимые различия для колонки Capital_0\n",
      "Найдены статистически значимые различия для колонки Capital_1\n"
     ]
    }
   ],
   "source": [
    "for col in ['Restaurant_id', 'Reviews', 'URL_TA', 'ID_TA', 'City_Amsterdam',  'City_Athens',  'City_Barcelona', 'City_Berlin',  \n",
    "                'City_Bratislava',  'City_Brussels',  'City_Budapest',  'City_Copenhagen',  \n",
    "                'City_Dublin',  'City_Edinburgh',  'City_Geneva',  'City_Hamburg',  \n",
    "                'City_Helsinki', 'City_Krakow',  'City_Lisbon',  'City_Ljubljana',  \n",
    "                'City_London',  'City_Luxembourg',  'City_Lyon',  'City_Madrid',  'City_Milan',  \n",
    "                'City_Munich',  'City_Oporto',  'City_Oslo',  'City_Paris', 'City_Prague',  \n",
    "                'City_Rome',  'City_Stockholm',  'City_Vienna',  'City_Warsaw',  'City_Zurich',  \n",
    "                'City_nan','poly1','poly2','poly3','poly4','poly5','Ranking_norm_1','Ranking_norm_2','Ranking_norm',\n",
    "                'Ranking','Capital_0','Capital_1']:\n",
    "    get_stat_dif(col)"
   ]
  },
  {
   "cell_type": "markdown",
   "metadata": {},
   "source": [
    "# Data Preprocessing"
   ]
  },
  {
   "cell_type": "code",
   "execution_count": 1250,
   "metadata": {},
   "outputs": [
    {
     "data": {
      "text/html": [
       "<div>\n",
       "<style scoped>\n",
       "    .dataframe tbody tr th:only-of-type {\n",
       "        vertical-align: middle;\n",
       "    }\n",
       "\n",
       "    .dataframe tbody tr th {\n",
       "        vertical-align: top;\n",
       "    }\n",
       "\n",
       "    .dataframe thead th {\n",
       "        text-align: right;\n",
       "    }\n",
       "</style>\n",
       "<table border=\"1\" class=\"dataframe\">\n",
       "  <thead>\n",
       "    <tr style=\"text-align: right;\">\n",
       "      <th></th>\n",
       "      <th>Restaurant_id</th>\n",
       "      <th>Cuisine Style</th>\n",
       "      <th>Ranking</th>\n",
       "      <th>Price Range</th>\n",
       "      <th>Number of Reviews</th>\n",
       "      <th>Reviews</th>\n",
       "      <th>URL_TA</th>\n",
       "      <th>ID_TA</th>\n",
       "      <th>sample</th>\n",
       "      <th>Rating</th>\n",
       "      <th>...</th>\n",
       "      <th>Date_Rev_delta</th>\n",
       "      <th>Date_Rev_From_Max</th>\n",
       "      <th>Review_1</th>\n",
       "      <th>ID_TA_type</th>\n",
       "      <th>type_ID_TA2</th>\n",
       "      <th>poly1</th>\n",
       "      <th>poly2</th>\n",
       "      <th>poly3</th>\n",
       "      <th>poly4</th>\n",
       "      <th>poly5</th>\n",
       "    </tr>\n",
       "  </thead>\n",
       "  <tbody>\n",
       "    <tr>\n",
       "      <th>0</th>\n",
       "      <td>id_0</td>\n",
       "      <td>['Bar', 'Pub']</td>\n",
       "      <td>12963.0</td>\n",
       "      <td>2.0</td>\n",
       "      <td>4.0</td>\n",
       "      <td>,</td>\n",
       "      <td>/Restaurant_Review-g187147-d10746918-Reviews-L...</td>\n",
       "      <td>d10746918</td>\n",
       "      <td>0</td>\n",
       "      <td>0.0</td>\n",
       "      <td>...</td>\n",
       "      <td>NaN</td>\n",
       "      <td>5059.0</td>\n",
       "      <td>0.0</td>\n",
       "      <td>9</td>\n",
       "      <td>1</td>\n",
       "      <td>1.0</td>\n",
       "      <td>12963.0</td>\n",
       "      <td>4.0</td>\n",
       "      <td>168039369.0</td>\n",
       "      <td>51852.0</td>\n",
       "    </tr>\n",
       "    <tr>\n",
       "      <th>1</th>\n",
       "      <td>id_1</td>\n",
       "      <td>['European', 'Scandinavian', 'GlutenFreeOption...</td>\n",
       "      <td>106.0</td>\n",
       "      <td>2.0</td>\n",
       "      <td>97.0</td>\n",
       "      <td>'Verygoodreviews!','FinedininginHakaniemi','12...</td>\n",
       "      <td>/Restaurant_Review-g189934-d6674944-Reviews-Ra...</td>\n",
       "      <td>d6674944</td>\n",
       "      <td>0</td>\n",
       "      <td>0.0</td>\n",
       "      <td>...</td>\n",
       "      <td>37.0</td>\n",
       "      <td>83.0</td>\n",
       "      <td>0.0</td>\n",
       "      <td>8</td>\n",
       "      <td>1</td>\n",
       "      <td>1.0</td>\n",
       "      <td>106.0</td>\n",
       "      <td>97.0</td>\n",
       "      <td>11236.0</td>\n",
       "      <td>10282.0</td>\n",
       "    </tr>\n",
       "    <tr>\n",
       "      <th>2</th>\n",
       "      <td>id_2</td>\n",
       "      <td>['VegetarianFriendly']</td>\n",
       "      <td>810.0</td>\n",
       "      <td>2.0</td>\n",
       "      <td>28.0</td>\n",
       "      <td>'BetterthantheLinks','IvyBlack','12/28/2017','...</td>\n",
       "      <td>/Restaurant_Review-g186525-d13129638-Reviews-B...</td>\n",
       "      <td>d13129638</td>\n",
       "      <td>0</td>\n",
       "      <td>0.0</td>\n",
       "      <td>...</td>\n",
       "      <td>22.0</td>\n",
       "      <td>60.0</td>\n",
       "      <td>0.0</td>\n",
       "      <td>9</td>\n",
       "      <td>1</td>\n",
       "      <td>1.0</td>\n",
       "      <td>810.0</td>\n",
       "      <td>28.0</td>\n",
       "      <td>656100.0</td>\n",
       "      <td>22680.0</td>\n",
       "    </tr>\n",
       "    <tr>\n",
       "      <th>3</th>\n",
       "      <td>id_3</td>\n",
       "      <td>['Italian', 'Mediterranean', 'European', 'Vege...</td>\n",
       "      <td>1669.0</td>\n",
       "      <td>3.0</td>\n",
       "      <td>202.0</td>\n",
       "      <td>'Mostexquisite','Deliciousandauthentic','12/06...</td>\n",
       "      <td>/Restaurant_Review-g186338-d680417-Reviews-Qui...</td>\n",
       "      <td>d680417</td>\n",
       "      <td>0</td>\n",
       "      <td>0.0</td>\n",
       "      <td>...</td>\n",
       "      <td>14.0</td>\n",
       "      <td>82.0</td>\n",
       "      <td>0.0</td>\n",
       "      <td>7</td>\n",
       "      <td>0</td>\n",
       "      <td>1.0</td>\n",
       "      <td>1669.0</td>\n",
       "      <td>202.0</td>\n",
       "      <td>2785561.0</td>\n",
       "      <td>337138.0</td>\n",
       "    </tr>\n",
       "    <tr>\n",
       "      <th>4</th>\n",
       "      <td>id_4</td>\n",
       "      <td>['Italian', 'Mediterranean', 'European', 'Seaf...</td>\n",
       "      <td>37.0</td>\n",
       "      <td>3.0</td>\n",
       "      <td>162.0</td>\n",
       "      <td>'Alwaysthebestinbratislava','Verygoodbutpricey...</td>\n",
       "      <td>/Restaurant_Review-g274924-d1112354-Reviews-Ma...</td>\n",
       "      <td>d1112354</td>\n",
       "      <td>0</td>\n",
       "      <td>0.0</td>\n",
       "      <td>...</td>\n",
       "      <td>15.0</td>\n",
       "      <td>18.0</td>\n",
       "      <td>0.0</td>\n",
       "      <td>8</td>\n",
       "      <td>1</td>\n",
       "      <td>1.0</td>\n",
       "      <td>37.0</td>\n",
       "      <td>162.0</td>\n",
       "      <td>1369.0</td>\n",
       "      <td>5994.0</td>\n",
       "    </tr>\n",
       "  </tbody>\n",
       "</table>\n",
       "<p>5 rows × 69 columns</p>\n",
       "</div>"
      ],
      "text/plain": [
       "  Restaurant_id                                      Cuisine Style  Ranking  \\\n",
       "0          id_0                                     ['Bar', 'Pub']  12963.0   \n",
       "1          id_1  ['European', 'Scandinavian', 'GlutenFreeOption...    106.0   \n",
       "2          id_2                             ['VegetarianFriendly']    810.0   \n",
       "3          id_3  ['Italian', 'Mediterranean', 'European', 'Vege...   1669.0   \n",
       "4          id_4  ['Italian', 'Mediterranean', 'European', 'Seaf...     37.0   \n",
       "\n",
       "   Price Range  Number of Reviews  \\\n",
       "0          2.0                4.0   \n",
       "1          2.0               97.0   \n",
       "2          2.0               28.0   \n",
       "3          3.0              202.0   \n",
       "4          3.0              162.0   \n",
       "\n",
       "                                             Reviews  \\\n",
       "0                                                  ,   \n",
       "1  'Verygoodreviews!','FinedininginHakaniemi','12...   \n",
       "2  'BetterthantheLinks','IvyBlack','12/28/2017','...   \n",
       "3  'Mostexquisite','Deliciousandauthentic','12/06...   \n",
       "4  'Alwaysthebestinbratislava','Verygoodbutpricey...   \n",
       "\n",
       "                                              URL_TA      ID_TA  sample  \\\n",
       "0  /Restaurant_Review-g187147-d10746918-Reviews-L...  d10746918       0   \n",
       "1  /Restaurant_Review-g189934-d6674944-Reviews-Ra...   d6674944       0   \n",
       "2  /Restaurant_Review-g186525-d13129638-Reviews-B...  d13129638       0   \n",
       "3  /Restaurant_Review-g186338-d680417-Reviews-Qui...    d680417       0   \n",
       "4  /Restaurant_Review-g274924-d1112354-Reviews-Ma...   d1112354       0   \n",
       "\n",
       "   Rating  ...  Date_Rev_delta  Date_Rev_From_Max  Review_1  ID_TA_type  \\\n",
       "0     0.0  ...             NaN             5059.0       0.0           9   \n",
       "1     0.0  ...            37.0               83.0       0.0           8   \n",
       "2     0.0  ...            22.0               60.0       0.0           9   \n",
       "3     0.0  ...            14.0               82.0       0.0           7   \n",
       "4     0.0  ...            15.0               18.0       0.0           8   \n",
       "\n",
       "   type_ID_TA2  poly1    poly2  poly3        poly4     poly5  \n",
       "0            1    1.0  12963.0    4.0  168039369.0   51852.0  \n",
       "1            1    1.0    106.0   97.0      11236.0   10282.0  \n",
       "2            1    1.0    810.0   28.0     656100.0   22680.0  \n",
       "3            0    1.0   1669.0  202.0    2785561.0  337138.0  \n",
       "4            1    1.0     37.0  162.0       1369.0    5994.0  \n",
       "\n",
       "[5 rows x 69 columns]"
      ]
     },
     "execution_count": 1250,
     "metadata": {},
     "output_type": "execute_result"
    }
   ],
   "source": [
    "# Проверяю порядок Restaurant_id\n",
    "data.head()"
   ]
  },
  {
   "cell_type": "code",
   "execution_count": 1251,
   "metadata": {},
   "outputs": [],
   "source": [
    "#Пробовала оставить только статистически значимые колонки, но показатель MAE резко ухудшался.\n",
    "#df_preproc = pd.DataFrame()"
   ]
  },
  {
   "cell_type": "code",
   "execution_count": 1252,
   "metadata": {
    "execution": {
     "iopub.execute_input": "2021-05-28T19:38:58.958Z",
     "iopub.status.busy": "2021-05-28T19:38:58.957663Z",
     "iopub.status.idle": "2021-05-28T19:38:59.013011Z",
     "shell.execute_reply": "2021-05-28T19:38:59.012231Z",
     "shell.execute_reply.started": "2021-05-28T19:38:58.957947Z"
    }
   },
   "outputs": [],
   "source": [
    "df_preproc = data.copy()\n",
    "df_preproc = df_preproc.drop(['Restaurant_id', 'Cuisine Style', 'Reviews', 'Review_Date', \n",
    "                              'Number_of_Date', 'Date_Rev_1', 'Date_Rev_2', 'Date_Rev_delta', \n",
    "                              'isNAN','URL_TA','ID_TA','Cuisine','Review_1','Ranking','Ranking_norm'], axis=1)\n",
    "\n",
    "#df_preproc['City_Athens'] = data['City_Athens']\n",
    "#df_preproc['City_Berlin'] = data['City_Berlin']\n",
    "#df_preproc['City_Madrid'] = data['City_Madrid']\n",
    "#df_preproc['City_Milan'] = data['City_Milan']\n",
    "#df_preproc['City_Oporto'] = data['City_Oporto']\n",
    "#df_preproc['City_Rome'] = data['City_Rome']\n",
    "#df_preproc['City_Stockholm'] = data['City_Stockholm']\n",
    "#df_preproc['City_Vienna'] = data['City_Vienna']\n",
    "#df_preproc['Price Range'] = data['Price Range']\n",
    "#df_preproc['poly2'] = data['poly2']\n",
    "#df_preproc['poly3'] = data['poly3']\n",
    "#df_preproc['poly4'] = data['poly4']\n",
    "#df_preproc['poly5'] = data['poly5']\n",
    "#df_preproc['mean_city_cuisine'] = data['mean_city_cuisine']\n",
    "#df_preproc['Cuisine_Style'] = data['Cuisine_Style']\n",
    "#df_preproc['Number of Reviews'] = data['Number of Reviews']\n",
    "#df_preproc['Ranking'] = data['Ranking']\n",
    "#df_preproc['Ranking_norm_1'] = data['Ranking_norm_1']\n",
    "#df_preproc['Ranking_norm_2'] = data['Ranking_norm_2']\n",
    "#df_preproc['count_in_city'] = data['count_in_city']\n",
    "#df_preproc['Date_Rev_From_Max'] = data['Date_Rev_From_Max']\n",
    "#df_preproc['sample'] = data['sample']\n",
    "#df_preproc['ID_TA_type'] = data['ID_TA_type']\n",
    "#df_preproc['Rating'] = data['Rating']\n",
    "\n",
    "\n",
    "#'URL_TA', 'ID_TA'\n",
    "#'City_Helsinki', 'City_Hamburg', 'City_Bratislava', 'City_Geneva', 'City_Zurich', 'City_Copenhagen', 'City_Luxembourg'\n",
    "#df_preproc = df_preproc.drop(['City'], axis=1)\n",
    "\n",
    "# Теперь выделим тестовую часть\n",
    "train_data = df_preproc.query('sample == 1').drop(['sample'], axis=1)\n",
    "test_data = df_preproc.query('sample == 0').drop(['sample'], axis=1)\n",
    "\n",
    "y = train_data.Rating.values            # наш таргет\n",
    "X = train_data.drop(['Rating'], axis=1)"
   ]
  },
  {
   "cell_type": "markdown",
   "metadata": {},
   "source": [
    "**Перед тем как отправлять наши данные на обучение, разделим данные на еще один тест и трейн, для валидации. \n",
    "Это поможет нам проверить, как хорошо наша модель работает, до отправки submissiona на kaggle.**"
   ]
  },
  {
   "cell_type": "code",
   "execution_count": 1253,
   "metadata": {},
   "outputs": [
    {
     "data": {
      "text/html": [
       "<div>\n",
       "<style scoped>\n",
       "    .dataframe tbody tr th:only-of-type {\n",
       "        vertical-align: middle;\n",
       "    }\n",
       "\n",
       "    .dataframe tbody tr th {\n",
       "        vertical-align: top;\n",
       "    }\n",
       "\n",
       "    .dataframe thead th {\n",
       "        text-align: right;\n",
       "    }\n",
       "</style>\n",
       "<table border=\"1\" class=\"dataframe\">\n",
       "  <thead>\n",
       "    <tr style=\"text-align: right;\">\n",
       "      <th></th>\n",
       "      <th>Price Range</th>\n",
       "      <th>Number of Reviews</th>\n",
       "      <th>sample</th>\n",
       "      <th>Rating</th>\n",
       "      <th>Ranking_group_1</th>\n",
       "      <th>Ranking_group_2</th>\n",
       "      <th>Ranking_group_3</th>\n",
       "      <th>count_in_city</th>\n",
       "      <th>Ranking_norm_1</th>\n",
       "      <th>Ranking_norm_2</th>\n",
       "      <th>...</th>\n",
       "      <th>City_Zurich</th>\n",
       "      <th>City_nan</th>\n",
       "      <th>Date_Rev_From_Max</th>\n",
       "      <th>ID_TA_type</th>\n",
       "      <th>type_ID_TA2</th>\n",
       "      <th>poly1</th>\n",
       "      <th>poly2</th>\n",
       "      <th>poly3</th>\n",
       "      <th>poly4</th>\n",
       "      <th>poly5</th>\n",
       "    </tr>\n",
       "  </thead>\n",
       "  <tbody>\n",
       "    <tr>\n",
       "      <th>0</th>\n",
       "      <td>2.0</td>\n",
       "      <td>4.0</td>\n",
       "      <td>0</td>\n",
       "      <td>0.0</td>\n",
       "      <td>0</td>\n",
       "      <td>0</td>\n",
       "      <td>1</td>\n",
       "      <td>6108</td>\n",
       "      <td>0.844355</td>\n",
       "      <td>0.788299</td>\n",
       "      <td>...</td>\n",
       "      <td>0</td>\n",
       "      <td>0</td>\n",
       "      <td>5059.0</td>\n",
       "      <td>9</td>\n",
       "      <td>1</td>\n",
       "      <td>1.0</td>\n",
       "      <td>12963.0</td>\n",
       "      <td>4.0</td>\n",
       "      <td>168039369.0</td>\n",
       "      <td>51852.0</td>\n",
       "    </tr>\n",
       "    <tr>\n",
       "      <th>1</th>\n",
       "      <td>2.0</td>\n",
       "      <td>97.0</td>\n",
       "      <td>0</td>\n",
       "      <td>0.0</td>\n",
       "      <td>0</td>\n",
       "      <td>1</td>\n",
       "      <td>0</td>\n",
       "      <td>475</td>\n",
       "      <td>0.036293</td>\n",
       "      <td>0.006386</td>\n",
       "      <td>...</td>\n",
       "      <td>0</td>\n",
       "      <td>0</td>\n",
       "      <td>83.0</td>\n",
       "      <td>8</td>\n",
       "      <td>1</td>\n",
       "      <td>1.0</td>\n",
       "      <td>106.0</td>\n",
       "      <td>97.0</td>\n",
       "      <td>11236.0</td>\n",
       "      <td>10282.0</td>\n",
       "    </tr>\n",
       "    <tr>\n",
       "      <th>2</th>\n",
       "      <td>2.0</td>\n",
       "      <td>28.0</td>\n",
       "      <td>0</td>\n",
       "      <td>0.0</td>\n",
       "      <td>0</td>\n",
       "      <td>1</td>\n",
       "      <td>0</td>\n",
       "      <td>745</td>\n",
       "      <td>0.075025</td>\n",
       "      <td>0.049200</td>\n",
       "      <td>...</td>\n",
       "      <td>0</td>\n",
       "      <td>0</td>\n",
       "      <td>60.0</td>\n",
       "      <td>9</td>\n",
       "      <td>1</td>\n",
       "      <td>1.0</td>\n",
       "      <td>810.0</td>\n",
       "      <td>28.0</td>\n",
       "      <td>656100.0</td>\n",
       "      <td>22680.0</td>\n",
       "    </tr>\n",
       "    <tr>\n",
       "      <th>3</th>\n",
       "      <td>3.0</td>\n",
       "      <td>202.0</td>\n",
       "      <td>0</td>\n",
       "      <td>0.0</td>\n",
       "      <td>1</td>\n",
       "      <td>0</td>\n",
       "      <td>0</td>\n",
       "      <td>7193</td>\n",
       "      <td>1.000000</td>\n",
       "      <td>0.101441</td>\n",
       "      <td>...</td>\n",
       "      <td>0</td>\n",
       "      <td>0</td>\n",
       "      <td>82.0</td>\n",
       "      <td>7</td>\n",
       "      <td>0</td>\n",
       "      <td>1.0</td>\n",
       "      <td>1669.0</td>\n",
       "      <td>202.0</td>\n",
       "      <td>2785561.0</td>\n",
       "      <td>337138.0</td>\n",
       "    </tr>\n",
       "    <tr>\n",
       "      <th>4</th>\n",
       "      <td>3.0</td>\n",
       "      <td>162.0</td>\n",
       "      <td>0</td>\n",
       "      <td>0.0</td>\n",
       "      <td>0</td>\n",
       "      <td>1</td>\n",
       "      <td>0</td>\n",
       "      <td>380</td>\n",
       "      <td>0.022665</td>\n",
       "      <td>0.002189</td>\n",
       "      <td>...</td>\n",
       "      <td>0</td>\n",
       "      <td>0</td>\n",
       "      <td>18.0</td>\n",
       "      <td>8</td>\n",
       "      <td>1</td>\n",
       "      <td>1.0</td>\n",
       "      <td>37.0</td>\n",
       "      <td>162.0</td>\n",
       "      <td>1369.0</td>\n",
       "      <td>5994.0</td>\n",
       "    </tr>\n",
       "  </tbody>\n",
       "</table>\n",
       "<p>5 rows × 54 columns</p>\n",
       "</div>"
      ],
      "text/plain": [
       "   Price Range  Number of Reviews  sample  Rating  Ranking_group_1  \\\n",
       "0          2.0                4.0       0     0.0                0   \n",
       "1          2.0               97.0       0     0.0                0   \n",
       "2          2.0               28.0       0     0.0                0   \n",
       "3          3.0              202.0       0     0.0                1   \n",
       "4          3.0              162.0       0     0.0                0   \n",
       "\n",
       "   Ranking_group_2  Ranking_group_3  count_in_city  Ranking_norm_1  \\\n",
       "0                0                1           6108        0.844355   \n",
       "1                1                0            475        0.036293   \n",
       "2                1                0            745        0.075025   \n",
       "3                0                0           7193        1.000000   \n",
       "4                1                0            380        0.022665   \n",
       "\n",
       "   Ranking_norm_2  ... City_Zurich  City_nan  Date_Rev_From_Max  ID_TA_type  \\\n",
       "0        0.788299  ...           0         0             5059.0           9   \n",
       "1        0.006386  ...           0         0               83.0           8   \n",
       "2        0.049200  ...           0         0               60.0           9   \n",
       "3        0.101441  ...           0         0               82.0           7   \n",
       "4        0.002189  ...           0         0               18.0           8   \n",
       "\n",
       "   type_ID_TA2  poly1    poly2  poly3        poly4     poly5  \n",
       "0            1    1.0  12963.0    4.0  168039369.0   51852.0  \n",
       "1            1    1.0    106.0   97.0      11236.0   10282.0  \n",
       "2            1    1.0    810.0   28.0     656100.0   22680.0  \n",
       "3            0    1.0   1669.0  202.0    2785561.0  337138.0  \n",
       "4            1    1.0     37.0  162.0       1369.0    5994.0  \n",
       "\n",
       "[5 rows x 54 columns]"
      ]
     },
     "execution_count": 1253,
     "metadata": {},
     "output_type": "execute_result"
    }
   ],
   "source": [
    "df_preproc.head()"
   ]
  },
  {
   "cell_type": "code",
   "execution_count": 1254,
   "metadata": {
    "execution": {
     "iopub.execute_input": "2021-05-28T19:38:59.014461Z",
     "iopub.status.busy": "2021-05-28T19:38:59.014155Z",
     "iopub.status.idle": "2021-05-28T19:38:59.033833Z",
     "shell.execute_reply": "2021-05-28T19:38:59.033109Z",
     "shell.execute_reply.started": "2021-05-28T19:38:59.014409Z"
    }
   },
   "outputs": [
    {
     "name": "stdout",
     "output_type": "stream",
     "text": [
      "<class 'pandas.core.frame.DataFrame'>\n",
      "Int64Index: 50000 entries, 0 to 49999\n",
      "Data columns (total 54 columns):\n",
      " #   Column             Non-Null Count  Dtype  \n",
      "---  ------             --------------  -----  \n",
      " 0   Price Range        50000 non-null  float64\n",
      " 1   Number of Reviews  50000 non-null  float64\n",
      " 2   sample             50000 non-null  int64  \n",
      " 3   Rating             50000 non-null  float64\n",
      " 4   Ranking_group_1    50000 non-null  uint8  \n",
      " 5   Ranking_group_2    50000 non-null  uint8  \n",
      " 6   Ranking_group_3    50000 non-null  uint8  \n",
      " 7   count_in_city      50000 non-null  int64  \n",
      " 8   Ranking_norm_1     50000 non-null  float64\n",
      " 9   Ranking_norm_2     50000 non-null  float64\n",
      " 10  chain              50000 non-null  object \n",
      " 11  Cuisine_Style      50000 non-null  int64  \n",
      " 12  Capital_0          50000 non-null  uint8  \n",
      " 13  Capital_1          50000 non-null  uint8  \n",
      " 14  City_Amsterdam     50000 non-null  uint8  \n",
      " 15  City_Athens        50000 non-null  uint8  \n",
      " 16  City_Barcelona     50000 non-null  uint8  \n",
      " 17  City_Berlin        50000 non-null  uint8  \n",
      " 18  City_Bratislava    50000 non-null  uint8  \n",
      " 19  City_Brussels      50000 non-null  uint8  \n",
      " 20  City_Budapest      50000 non-null  uint8  \n",
      " 21  City_Copenhagen    50000 non-null  uint8  \n",
      " 22  City_Dublin        50000 non-null  uint8  \n",
      " 23  City_Edinburgh     50000 non-null  uint8  \n",
      " 24  City_Geneva        50000 non-null  uint8  \n",
      " 25  City_Hamburg       50000 non-null  uint8  \n",
      " 26  City_Helsinki      50000 non-null  uint8  \n",
      " 27  City_Krakow        50000 non-null  uint8  \n",
      " 28  City_Lisbon        50000 non-null  uint8  \n",
      " 29  City_Ljubljana     50000 non-null  uint8  \n",
      " 30  City_London        50000 non-null  uint8  \n",
      " 31  City_Luxembourg    50000 non-null  uint8  \n",
      " 32  City_Lyon          50000 non-null  uint8  \n",
      " 33  City_Madrid        50000 non-null  uint8  \n",
      " 34  City_Milan         50000 non-null  uint8  \n",
      " 35  City_Munich        50000 non-null  uint8  \n",
      " 36  City_Oporto        50000 non-null  uint8  \n",
      " 37  City_Oslo          50000 non-null  uint8  \n",
      " 38  City_Paris         50000 non-null  uint8  \n",
      " 39  City_Prague        50000 non-null  uint8  \n",
      " 40  City_Rome          50000 non-null  uint8  \n",
      " 41  City_Stockholm     50000 non-null  uint8  \n",
      " 42  City_Vienna        50000 non-null  uint8  \n",
      " 43  City_Warsaw        50000 non-null  uint8  \n",
      " 44  City_Zurich        50000 non-null  uint8  \n",
      " 45  City_nan           50000 non-null  uint8  \n",
      " 46  Date_Rev_From_Max  50000 non-null  float64\n",
      " 47  ID_TA_type         50000 non-null  int64  \n",
      " 48  type_ID_TA2        50000 non-null  int64  \n",
      " 49  poly1              50000 non-null  float64\n",
      " 50  poly2              50000 non-null  float64\n",
      " 51  poly3              50000 non-null  float64\n",
      " 52  poly4              50000 non-null  float64\n",
      " 53  poly5              50000 non-null  float64\n",
      "dtypes: float64(11), int64(5), object(1), uint8(37)\n",
      "memory usage: 9.4+ MB\n"
     ]
    }
   ],
   "source": [
    "df_preproc.info()"
   ]
  },
  {
   "cell_type": "code",
   "execution_count": 1255,
   "metadata": {
    "execution": {
     "iopub.execute_input": "2021-05-28T19:38:59.035307Z",
     "iopub.status.busy": "2021-05-28T19:38:59.034906Z",
     "iopub.status.idle": "2021-05-28T19:38:59.048926Z",
     "shell.execute_reply": "2021-05-28T19:38:59.047981Z",
     "shell.execute_reply.started": "2021-05-28T19:38:59.035265Z"
    }
   },
   "outputs": [],
   "source": [
    "# Воспользуемся специальной функцие train_test_split для разбивки тестовых данных\n",
    "# выделим 20% данных на валидацию (параметр test_size)\n",
    "X_train, X_test, y_train, y_test = train_test_split(X, y, test_size=0.2, random_state=RANDOM_SEED)"
   ]
  },
  {
   "cell_type": "code",
   "execution_count": 1256,
   "metadata": {
    "execution": {
     "iopub.execute_input": "2021-05-28T19:38:59.05063Z",
     "iopub.status.busy": "2021-05-28T19:38:59.05026Z",
     "iopub.status.idle": "2021-05-28T19:38:59.0572Z",
     "shell.execute_reply": "2021-05-28T19:38:59.056296Z",
     "shell.execute_reply.started": "2021-05-28T19:38:59.050591Z"
    }
   },
   "outputs": [
    {
     "data": {
      "text/plain": [
       "((10000, 53), (40000, 53), (40000, 52), (32000, 52), (8000, 52))"
      ]
     },
     "execution_count": 1256,
     "metadata": {},
     "output_type": "execute_result"
    }
   ],
   "source": [
    "# проверяем\n",
    "test_data.shape, train_data.shape, X.shape, X_train.shape, X_test.shape"
   ]
  },
  {
   "cell_type": "markdown",
   "metadata": {},
   "source": [
    "# Model \n",
    "Сам ML"
   ]
  },
  {
   "cell_type": "code",
   "execution_count": 1257,
   "metadata": {
    "execution": {
     "iopub.execute_input": "2021-05-28T19:38:59.059278Z",
     "iopub.status.busy": "2021-05-28T19:38:59.058745Z",
     "iopub.status.idle": "2021-05-28T19:38:59.242419Z",
     "shell.execute_reply": "2021-05-28T19:38:59.241644Z",
     "shell.execute_reply.started": "2021-05-28T19:38:59.059197Z"
    }
   },
   "outputs": [],
   "source": [
    "# Импортируем необходимые библиотеки:\n",
    "from sklearn.ensemble import RandomForestRegressor # инструмент для создания и обучения модели\n",
    "from sklearn import metrics # инструменты для оценки точности модели"
   ]
  },
  {
   "cell_type": "code",
   "execution_count": 1258,
   "metadata": {
    "execution": {
     "iopub.execute_input": "2021-05-28T19:38:59.244052Z",
     "iopub.status.busy": "2021-05-28T19:38:59.243813Z",
     "iopub.status.idle": "2021-05-28T19:38:59.248056Z",
     "shell.execute_reply": "2021-05-28T19:38:59.247293Z",
     "shell.execute_reply.started": "2021-05-28T19:38:59.244012Z"
    }
   },
   "outputs": [],
   "source": [
    "# Создаём модель (НАСТРОЙКИ НЕ ТРОГАЕМ)\n",
    "model = RandomForestRegressor(n_estimators=100, verbose=1, n_jobs=-1, random_state=RANDOM_SEED)"
   ]
  },
  {
   "cell_type": "code",
   "execution_count": 1259,
   "metadata": {
    "execution": {
     "iopub.execute_input": "2021-05-28T19:38:59.249507Z",
     "iopub.status.busy": "2021-05-28T19:38:59.249274Z",
     "iopub.status.idle": "2021-05-28T19:39:03.945448Z",
     "shell.execute_reply": "2021-05-28T19:39:03.944283Z",
     "shell.execute_reply.started": "2021-05-28T19:38:59.249465Z"
    }
   },
   "outputs": [
    {
     "name": "stderr",
     "output_type": "stream",
     "text": [
      "[Parallel(n_jobs=-1)]: Using backend ThreadingBackend with 4 concurrent workers.\n",
      "[Parallel(n_jobs=-1)]: Done  42 tasks      | elapsed:    3.4s\n",
      "[Parallel(n_jobs=-1)]: Done 100 out of 100 | elapsed:    8.4s finished\n",
      "[Parallel(n_jobs=4)]: Using backend ThreadingBackend with 4 concurrent workers.\n",
      "[Parallel(n_jobs=4)]: Done  42 tasks      | elapsed:    0.0s\n",
      "[Parallel(n_jobs=4)]: Done 100 out of 100 | elapsed:    0.0s finished\n"
     ]
    }
   ],
   "source": [
    "# Обучаем модель на тестовом наборе данных\n",
    "model.fit(X_train, y_train)\n",
    "\n",
    "# Используем обученную модель для предсказания рейтинга ресторанов в тестовой выборке.\n",
    "# Предсказанные значения записываем в переменную y_pred\n",
    "y_pred = model.predict(X_test)"
   ]
  },
  {
   "cell_type": "code",
   "execution_count": 1260,
   "metadata": {},
   "outputs": [],
   "source": [
    "# Так как признак рейтинга имеет шаг 0.5, округляем предсказание.\n",
    "y_pred = np.round(y_pred * 2) / 2"
   ]
  },
  {
   "cell_type": "code",
   "execution_count": 1261,
   "metadata": {
    "execution": {
     "iopub.execute_input": "2021-05-28T19:39:03.94765Z",
     "iopub.status.busy": "2021-05-28T19:39:03.947267Z",
     "iopub.status.idle": "2021-05-28T19:39:03.953096Z",
     "shell.execute_reply": "2021-05-28T19:39:03.952314Z",
     "shell.execute_reply.started": "2021-05-28T19:39:03.947582Z"
    }
   },
   "outputs": [
    {
     "name": "stdout",
     "output_type": "stream",
     "text": [
      "MAE: 0.174875\n"
     ]
    }
   ],
   "source": [
    "# Сравниваем предсказанные значения (y_pred) с реальными (y_test), и смотрим насколько они в среднем отличаются\n",
    "# Метрика называется Mean Absolute Error (MAE) и показывает среднее отклонение предсказанных значений от фактических.\n",
    "print('MAE:', metrics.mean_absolute_error(y_test, y_pred))"
   ]
  },
  {
   "cell_type": "code",
   "execution_count": 1262,
   "metadata": {},
   "outputs": [],
   "source": [
    "#MAE: 0.18075\n",
    "#MAE: 0.1769375\n",
    "#MAE: 0.176625\n",
    "#MAE: 0.1755\n",
    "#MAE: 0.1750625\n",
    "#MAE: 0.174625\n",
    "#MAE: 0.172875\n",
    "#MAE: 0.176875\n",
    "#MAE: 0.176125\n",
    "#MAE: 0.1750625\n",
    "#MAE: 0.174875"
   ]
  },
  {
   "cell_type": "code",
   "execution_count": null,
   "metadata": {},
   "outputs": [],
   "source": [
    "#Kaggle после Submit 0.18625 место 223 (MAE перед submit: 0.1805)\n",
    "#Kaggle после Submit 0.18620 место 222 (MAE перед submit: 0.1769375)\n",
    "#Kaggle после Submit 0.18250 место 198 (MAE перед submit:)\n",
    "#Kaggle после Submit 0.18410 (MAE перед submit: 0.172875)"
   ]
  },
  {
   "cell_type": "code",
   "execution_count": 1263,
   "metadata": {
    "execution": {
     "iopub.execute_input": "2021-05-28T19:39:03.954669Z",
     "iopub.status.busy": "2021-05-28T19:39:03.954388Z",
     "iopub.status.idle": "2021-05-28T19:39:04.400466Z",
     "shell.execute_reply": "2021-05-28T19:39:04.3995Z",
     "shell.execute_reply.started": "2021-05-28T19:39:03.954617Z"
    }
   },
   "outputs": [
    {
     "data": {
      "text/plain": [
       "<AxesSubplot:>"
      ]
     },
     "execution_count": 1263,
     "metadata": {},
     "output_type": "execute_result"
    },
    {
     "data": {
      "image/png": "[encoded data removed]",
      "text/plain": [
       "<Figure size 720x720 with 1 Axes>"
      ]
     },
     "metadata": {
      "needs_background": "light"
     },
     "output_type": "display_data"
    }
   ],
   "source": [
    "# в RandomForestRegressor есть возможность вывести самые важные признаки для модели\n",
    "plt.rcParams['figure.figsize'] = (10,10)\n",
    "feat_importances = pd.Series(model.feature_importances_, index=X.columns)\n",
    "feat_importances.nlargest(15).plot(kind='barh')"
   ]
  },
  {
   "cell_type": "code",
   "execution_count": 1264,
   "metadata": {},
   "outputs": [
    {
     "data": {
      "text/plain": [
       "Ranking_norm_2       0.164915\n",
       "poly2                0.164298\n",
       "poly4                0.156997\n",
       "poly5                0.144546\n",
       "Ranking_norm_1       0.110733\n",
       "count_in_city        0.100406\n",
       "Date_Rev_From_Max    0.044915\n",
       "ID_TA_type           0.016079\n",
       "Cuisine_Style        0.014797\n",
       "poly3                0.014749\n",
       "Number of Reviews    0.014419\n",
       "City_Milan           0.006274\n",
       "City_Rome            0.006192\n",
       "Price Range          0.006096\n",
       "City_Paris           0.003684\n",
       "dtype: float64"
      ]
     },
     "execution_count": 1264,
     "metadata": {},
     "output_type": "execute_result"
    }
   ],
   "source": [
    "feat_importances.nlargest(15)"
   ]
  },
  {
   "cell_type": "markdown",
   "metadata": {},
   "source": [
    "# Submission"
   ]
  },
  {
   "cell_type": "code",
   "execution_count": 1265,
   "metadata": {
    "execution": {
     "iopub.execute_input": "2021-05-28T19:39:04.4029Z",
     "iopub.status.busy": "2021-05-28T19:39:04.402283Z",
     "iopub.status.idle": "2021-05-28T19:39:04.441513Z",
     "shell.execute_reply": "2021-05-28T19:39:04.440801Z",
     "shell.execute_reply.started": "2021-05-28T19:39:04.40284Z"
    }
   },
   "outputs": [
    {
     "data": {
      "text/html": [
       "<div>\n",
       "<style scoped>\n",
       "    .dataframe tbody tr th:only-of-type {\n",
       "        vertical-align: middle;\n",
       "    }\n",
       "\n",
       "    .dataframe tbody tr th {\n",
       "        vertical-align: top;\n",
       "    }\n",
       "\n",
       "    .dataframe thead th {\n",
       "        text-align: right;\n",
       "    }\n",
       "</style>\n",
       "<table border=\"1\" class=\"dataframe\">\n",
       "  <thead>\n",
       "    <tr style=\"text-align: right;\">\n",
       "      <th></th>\n",
       "      <th>Price Range</th>\n",
       "      <th>Number of Reviews</th>\n",
       "      <th>Rating</th>\n",
       "      <th>Ranking_group_1</th>\n",
       "      <th>Ranking_group_2</th>\n",
       "      <th>Ranking_group_3</th>\n",
       "      <th>count_in_city</th>\n",
       "      <th>Ranking_norm_1</th>\n",
       "      <th>Ranking_norm_2</th>\n",
       "      <th>chain</th>\n",
       "      <th>...</th>\n",
       "      <th>City_Zurich</th>\n",
       "      <th>City_nan</th>\n",
       "      <th>Date_Rev_From_Max</th>\n",
       "      <th>ID_TA_type</th>\n",
       "      <th>type_ID_TA2</th>\n",
       "      <th>poly1</th>\n",
       "      <th>poly2</th>\n",
       "      <th>poly3</th>\n",
       "      <th>poly4</th>\n",
       "      <th>poly5</th>\n",
       "    </tr>\n",
       "  </thead>\n",
       "  <tbody>\n",
       "    <tr>\n",
       "      <th>2264</th>\n",
       "      <td>1.0</td>\n",
       "      <td>24.0</td>\n",
       "      <td>0.0</td>\n",
       "      <td>1</td>\n",
       "      <td>0</td>\n",
       "      <td>0</td>\n",
       "      <td>1021</td>\n",
       "      <td>0.114618</td>\n",
       "      <td>0.114517</td>\n",
       "      <td>1</td>\n",
       "      <td>...</td>\n",
       "      <td>0</td>\n",
       "      <td>0</td>\n",
       "      <td>5059.0</td>\n",
       "      <td>9</td>\n",
       "      <td>1</td>\n",
       "      <td>1.0</td>\n",
       "      <td>1884.0</td>\n",
       "      <td>24.0</td>\n",
       "      <td>3549456.0</td>\n",
       "      <td>45216.0</td>\n",
       "    </tr>\n",
       "    <tr>\n",
       "      <th>5193</th>\n",
       "      <td>2.0</td>\n",
       "      <td>41.0</td>\n",
       "      <td>0.0</td>\n",
       "      <td>0</td>\n",
       "      <td>1</td>\n",
       "      <td>0</td>\n",
       "      <td>685</td>\n",
       "      <td>0.066418</td>\n",
       "      <td>0.051207</td>\n",
       "      <td>1</td>\n",
       "      <td>...</td>\n",
       "      <td>1</td>\n",
       "      <td>0</td>\n",
       "      <td>229.0</td>\n",
       "      <td>8</td>\n",
       "      <td>1</td>\n",
       "      <td>1.0</td>\n",
       "      <td>843.0</td>\n",
       "      <td>41.0</td>\n",
       "      <td>710649.0</td>\n",
       "      <td>34563.0</td>\n",
       "    </tr>\n",
       "    <tr>\n",
       "      <th>6182</th>\n",
       "      <td>2.0</td>\n",
       "      <td>22.0</td>\n",
       "      <td>0.0</td>\n",
       "      <td>1</td>\n",
       "      <td>0</td>\n",
       "      <td>0</td>\n",
       "      <td>776</td>\n",
       "      <td>0.079472</td>\n",
       "      <td>0.099191</td>\n",
       "      <td>1</td>\n",
       "      <td>...</td>\n",
       "      <td>0</td>\n",
       "      <td>0</td>\n",
       "      <td>58.0</td>\n",
       "      <td>9</td>\n",
       "      <td>1</td>\n",
       "      <td>1.0</td>\n",
       "      <td>1632.0</td>\n",
       "      <td>22.0</td>\n",
       "      <td>2663424.0</td>\n",
       "      <td>35904.0</td>\n",
       "    </tr>\n",
       "    <tr>\n",
       "      <th>8101</th>\n",
       "      <td>3.0</td>\n",
       "      <td>86.0</td>\n",
       "      <td>0.0</td>\n",
       "      <td>1</td>\n",
       "      <td>0</td>\n",
       "      <td>0</td>\n",
       "      <td>3813</td>\n",
       "      <td>0.515134</td>\n",
       "      <td>0.102658</td>\n",
       "      <td>0</td>\n",
       "      <td>...</td>\n",
       "      <td>0</td>\n",
       "      <td>0</td>\n",
       "      <td>711.0</td>\n",
       "      <td>8</td>\n",
       "      <td>1</td>\n",
       "      <td>1.0</td>\n",
       "      <td>1689.0</td>\n",
       "      <td>86.0</td>\n",
       "      <td>2852721.0</td>\n",
       "      <td>145254.0</td>\n",
       "    </tr>\n",
       "    <tr>\n",
       "      <th>7810</th>\n",
       "      <td>2.0</td>\n",
       "      <td>8.0</td>\n",
       "      <td>0.0</td>\n",
       "      <td>1</td>\n",
       "      <td>0</td>\n",
       "      <td>0</td>\n",
       "      <td>3395</td>\n",
       "      <td>0.455171</td>\n",
       "      <td>0.176914</td>\n",
       "      <td>0</td>\n",
       "      <td>...</td>\n",
       "      <td>0</td>\n",
       "      <td>0</td>\n",
       "      <td>236.0</td>\n",
       "      <td>9</td>\n",
       "      <td>1</td>\n",
       "      <td>1.0</td>\n",
       "      <td>2910.0</td>\n",
       "      <td>8.0</td>\n",
       "      <td>8468100.0</td>\n",
       "      <td>23280.0</td>\n",
       "    </tr>\n",
       "    <tr>\n",
       "      <th>4883</th>\n",
       "      <td>2.0</td>\n",
       "      <td>7.0</td>\n",
       "      <td>0.0</td>\n",
       "      <td>1</td>\n",
       "      <td>0</td>\n",
       "      <td>0</td>\n",
       "      <td>836</td>\n",
       "      <td>0.088079</td>\n",
       "      <td>0.098826</td>\n",
       "      <td>1</td>\n",
       "      <td>...</td>\n",
       "      <td>0</td>\n",
       "      <td>0</td>\n",
       "      <td>534.0</td>\n",
       "      <td>8</td>\n",
       "      <td>1</td>\n",
       "      <td>1.0</td>\n",
       "      <td>1626.0</td>\n",
       "      <td>7.0</td>\n",
       "      <td>2643876.0</td>\n",
       "      <td>11382.0</td>\n",
       "    </tr>\n",
       "    <tr>\n",
       "      <th>890</th>\n",
       "      <td>1.0</td>\n",
       "      <td>535.0</td>\n",
       "      <td>0.0</td>\n",
       "      <td>1</td>\n",
       "      <td>0</td>\n",
       "      <td>0</td>\n",
       "      <td>2694</td>\n",
       "      <td>0.354612</td>\n",
       "      <td>0.112449</td>\n",
       "      <td>1</td>\n",
       "      <td>...</td>\n",
       "      <td>0</td>\n",
       "      <td>0</td>\n",
       "      <td>203.0</td>\n",
       "      <td>8</td>\n",
       "      <td>1</td>\n",
       "      <td>1.0</td>\n",
       "      <td>1850.0</td>\n",
       "      <td>535.0</td>\n",
       "      <td>3422500.0</td>\n",
       "      <td>989750.0</td>\n",
       "    </tr>\n",
       "    <tr>\n",
       "      <th>7268</th>\n",
       "      <td>2.0</td>\n",
       "      <td>36.0</td>\n",
       "      <td>0.0</td>\n",
       "      <td>0</td>\n",
       "      <td>1</td>\n",
       "      <td>0</td>\n",
       "      <td>776</td>\n",
       "      <td>0.079472</td>\n",
       "      <td>0.040625</td>\n",
       "      <td>0</td>\n",
       "      <td>...</td>\n",
       "      <td>0</td>\n",
       "      <td>0</td>\n",
       "      <td>204.0</td>\n",
       "      <td>8</td>\n",
       "      <td>1</td>\n",
       "      <td>1.0</td>\n",
       "      <td>669.0</td>\n",
       "      <td>36.0</td>\n",
       "      <td>447561.0</td>\n",
       "      <td>24084.0</td>\n",
       "    </tr>\n",
       "    <tr>\n",
       "      <th>2543</th>\n",
       "      <td>2.0</td>\n",
       "      <td>28.0</td>\n",
       "      <td>0.0</td>\n",
       "      <td>0</td>\n",
       "      <td>0</td>\n",
       "      <td>1</td>\n",
       "      <td>6108</td>\n",
       "      <td>0.844355</td>\n",
       "      <td>0.764155</td>\n",
       "      <td>1</td>\n",
       "      <td>...</td>\n",
       "      <td>0</td>\n",
       "      <td>0</td>\n",
       "      <td>480.0</td>\n",
       "      <td>8</td>\n",
       "      <td>1</td>\n",
       "      <td>1.0</td>\n",
       "      <td>12566.0</td>\n",
       "      <td>28.0</td>\n",
       "      <td>157904356.0</td>\n",
       "      <td>351848.0</td>\n",
       "    </tr>\n",
       "    <tr>\n",
       "      <th>5909</th>\n",
       "      <td>2.0</td>\n",
       "      <td>31.0</td>\n",
       "      <td>0.0</td>\n",
       "      <td>1</td>\n",
       "      <td>0</td>\n",
       "      <td>0</td>\n",
       "      <td>1314</td>\n",
       "      <td>0.156649</td>\n",
       "      <td>0.074865</td>\n",
       "      <td>0</td>\n",
       "      <td>...</td>\n",
       "      <td>0</td>\n",
       "      <td>0</td>\n",
       "      <td>137.0</td>\n",
       "      <td>8</td>\n",
       "      <td>1</td>\n",
       "      <td>1.0</td>\n",
       "      <td>1232.0</td>\n",
       "      <td>31.0</td>\n",
       "      <td>1517824.0</td>\n",
       "      <td>38192.0</td>\n",
       "    </tr>\n",
       "  </tbody>\n",
       "</table>\n",
       "<p>10 rows × 53 columns</p>\n",
       "</div>"
      ],
      "text/plain": [
       "      Price Range  Number of Reviews  Rating  Ranking_group_1  \\\n",
       "2264          1.0               24.0     0.0                1   \n",
       "5193          2.0               41.0     0.0                0   \n",
       "6182          2.0               22.0     0.0                1   \n",
       "8101          3.0               86.0     0.0                1   \n",
       "7810          2.0                8.0     0.0                1   \n",
       "4883          2.0                7.0     0.0                1   \n",
       "890           1.0              535.0     0.0                1   \n",
       "7268          2.0               36.0     0.0                0   \n",
       "2543          2.0               28.0     0.0                0   \n",
       "5909          2.0               31.0     0.0                1   \n",
       "\n",
       "      Ranking_group_2  Ranking_group_3  count_in_city  Ranking_norm_1  \\\n",
       "2264                0                0           1021        0.114618   \n",
       "5193                1                0            685        0.066418   \n",
       "6182                0                0            776        0.079472   \n",
       "8101                0                0           3813        0.515134   \n",
       "7810                0                0           3395        0.455171   \n",
       "4883                0                0            836        0.088079   \n",
       "890                 0                0           2694        0.354612   \n",
       "7268                1                0            776        0.079472   \n",
       "2543                0                1           6108        0.844355   \n",
       "5909                0                0           1314        0.156649   \n",
       "\n",
       "      Ranking_norm_2 chain  ...  City_Zurich  City_nan  Date_Rev_From_Max  \\\n",
       "2264        0.114517     1  ...            0         0             5059.0   \n",
       "5193        0.051207     1  ...            1         0              229.0   \n",
       "6182        0.099191     1  ...            0         0               58.0   \n",
       "8101        0.102658     0  ...            0         0              711.0   \n",
       "7810        0.176914     0  ...            0         0              236.0   \n",
       "4883        0.098826     1  ...            0         0              534.0   \n",
       "890         0.112449     1  ...            0         0              203.0   \n",
       "7268        0.040625     0  ...            0         0              204.0   \n",
       "2543        0.764155     1  ...            0         0              480.0   \n",
       "5909        0.074865     0  ...            0         0              137.0   \n",
       "\n",
       "      ID_TA_type  type_ID_TA2  poly1    poly2  poly3        poly4     poly5  \n",
       "2264           9            1    1.0   1884.0   24.0    3549456.0   45216.0  \n",
       "5193           8            1    1.0    843.0   41.0     710649.0   34563.0  \n",
       "6182           9            1    1.0   1632.0   22.0    2663424.0   35904.0  \n",
       "8101           8            1    1.0   1689.0   86.0    2852721.0  145254.0  \n",
       "7810           9            1    1.0   2910.0    8.0    8468100.0   23280.0  \n",
       "4883           8            1    1.0   1626.0    7.0    2643876.0   11382.0  \n",
       "890            8            1    1.0   1850.0  535.0    3422500.0  989750.0  \n",
       "7268           8            1    1.0    669.0   36.0     447561.0   24084.0  \n",
       "2543           8            1    1.0  12566.0   28.0  157904356.0  351848.0  \n",
       "5909           8            1    1.0   1232.0   31.0    1517824.0   38192.0  \n",
       "\n",
       "[10 rows x 53 columns]"
      ]
     },
     "execution_count": 1265,
     "metadata": {},
     "output_type": "execute_result"
    }
   ],
   "source": [
    "test_data.sample(10)"
   ]
  },
  {
   "cell_type": "code",
   "execution_count": 1266,
   "metadata": {
    "execution": {
     "iopub.execute_input": "2021-05-28T19:39:04.443104Z",
     "iopub.status.busy": "2021-05-28T19:39:04.442678Z",
     "iopub.status.idle": "2021-05-28T19:39:04.448527Z",
     "shell.execute_reply": "2021-05-28T19:39:04.447779Z",
     "shell.execute_reply.started": "2021-05-28T19:39:04.443065Z"
    }
   },
   "outputs": [],
   "source": [
    "test_data = test_data.drop(['Rating'], axis=1)"
   ]
  },
  {
   "cell_type": "code",
   "execution_count": 1267,
   "metadata": {
    "execution": {
     "iopub.execute_input": "2021-05-28T19:39:04.450198Z",
     "iopub.status.busy": "2021-05-28T19:39:04.449718Z",
     "iopub.status.idle": "2021-05-28T19:39:04.471929Z",
     "shell.execute_reply": "2021-05-28T19:39:04.471013Z",
     "shell.execute_reply.started": "2021-05-28T19:39:04.450156Z"
    }
   },
   "outputs": [
    {
     "data": {
      "text/html": [
       "<div>\n",
       "<style scoped>\n",
       "    .dataframe tbody tr th:only-of-type {\n",
       "        vertical-align: middle;\n",
       "    }\n",
       "\n",
       "    .dataframe tbody tr th {\n",
       "        vertical-align: top;\n",
       "    }\n",
       "\n",
       "    .dataframe thead th {\n",
       "        text-align: right;\n",
       "    }\n",
       "</style>\n",
       "<table border=\"1\" class=\"dataframe\">\n",
       "  <thead>\n",
       "    <tr style=\"text-align: right;\">\n",
       "      <th></th>\n",
       "      <th>Restaurant_id</th>\n",
       "      <th>Rating</th>\n",
       "    </tr>\n",
       "  </thead>\n",
       "  <tbody>\n",
       "    <tr>\n",
       "      <th>0</th>\n",
       "      <td>id_0</td>\n",
       "      <td>2.0</td>\n",
       "    </tr>\n",
       "    <tr>\n",
       "      <th>1</th>\n",
       "      <td>id_1</td>\n",
       "      <td>2.5</td>\n",
       "    </tr>\n",
       "    <tr>\n",
       "      <th>2</th>\n",
       "      <td>id_2</td>\n",
       "      <td>4.0</td>\n",
       "    </tr>\n",
       "    <tr>\n",
       "      <th>3</th>\n",
       "      <td>id_3</td>\n",
       "      <td>1.0</td>\n",
       "    </tr>\n",
       "    <tr>\n",
       "      <th>4</th>\n",
       "      <td>id_4</td>\n",
       "      <td>4.0</td>\n",
       "    </tr>\n",
       "    <tr>\n",
       "      <th>...</th>\n",
       "      <td>...</td>\n",
       "      <td>...</td>\n",
       "    </tr>\n",
       "    <tr>\n",
       "      <th>9995</th>\n",
       "      <td>id_9995</td>\n",
       "      <td>3.0</td>\n",
       "    </tr>\n",
       "    <tr>\n",
       "      <th>9996</th>\n",
       "      <td>id_9996</td>\n",
       "      <td>1.5</td>\n",
       "    </tr>\n",
       "    <tr>\n",
       "      <th>9997</th>\n",
       "      <td>id_9997</td>\n",
       "      <td>4.5</td>\n",
       "    </tr>\n",
       "    <tr>\n",
       "      <th>9998</th>\n",
       "      <td>id_9998</td>\n",
       "      <td>1.0</td>\n",
       "    </tr>\n",
       "    <tr>\n",
       "      <th>9999</th>\n",
       "      <td>id_9999</td>\n",
       "      <td>2.5</td>\n",
       "    </tr>\n",
       "  </tbody>\n",
       "</table>\n",
       "<p>10000 rows × 2 columns</p>\n",
       "</div>"
      ],
      "text/plain": [
       "     Restaurant_id  Rating\n",
       "0             id_0     2.0\n",
       "1             id_1     2.5\n",
       "2             id_2     4.0\n",
       "3             id_3     1.0\n",
       "4             id_4     4.0\n",
       "...            ...     ...\n",
       "9995       id_9995     3.0\n",
       "9996       id_9996     1.5\n",
       "9997       id_9997     4.5\n",
       "9998       id_9998     1.0\n",
       "9999       id_9999     2.5\n",
       "\n",
       "[10000 rows x 2 columns]"
      ]
     },
     "execution_count": 1267,
     "metadata": {},
     "output_type": "execute_result"
    }
   ],
   "source": [
    "sample_submission"
   ]
  },
  {
   "cell_type": "code",
   "execution_count": 1268,
   "metadata": {
    "execution": {
     "iopub.execute_input": "2021-05-28T19:39:04.473666Z",
     "iopub.status.busy": "2021-05-28T19:39:04.473265Z",
     "iopub.status.idle": "2021-05-28T19:39:04.590355Z",
     "shell.execute_reply": "2021-05-28T19:39:04.589398Z",
     "shell.execute_reply.started": "2021-05-28T19:39:04.473503Z"
    }
   },
   "outputs": [
    {
     "name": "stderr",
     "output_type": "stream",
     "text": [
      "[Parallel(n_jobs=4)]: Using backend ThreadingBackend with 4 concurrent workers.\n",
      "[Parallel(n_jobs=4)]: Done  42 tasks      | elapsed:    0.0s\n",
      "[Parallel(n_jobs=4)]: Done 100 out of 100 | elapsed:    0.0s finished\n"
     ]
    }
   ],
   "source": [
    "predict_submission = model.predict(test_data)"
   ]
  },
  {
   "cell_type": "code",
   "execution_count": 1269,
   "metadata": {
    "execution": {
     "iopub.execute_input": "2021-05-28T19:39:04.591771Z",
     "iopub.status.busy": "2021-05-28T19:39:04.591551Z",
     "iopub.status.idle": "2021-05-28T19:39:04.597691Z",
     "shell.execute_reply": "2021-05-28T19:39:04.596823Z",
     "shell.execute_reply.started": "2021-05-28T19:39:04.591738Z"
    }
   },
   "outputs": [
    {
     "data": {
      "text/plain": [
       "array([3.135, 4.085, 4.46 , ..., 3.085, 4.495, 4.215])"
      ]
     },
     "execution_count": 1269,
     "metadata": {},
     "output_type": "execute_result"
    }
   ],
   "source": [
    "predict_submission"
   ]
  },
  {
   "cell_type": "code",
   "execution_count": 1270,
   "metadata": {
    "execution": {
     "iopub.execute_input": "2021-05-28T19:39:04.599473Z",
     "iopub.status.busy": "2021-05-28T19:39:04.599079Z",
     "iopub.status.idle": "2021-05-28T19:39:05.190911Z",
     "shell.execute_reply": "2021-05-28T19:39:05.190262Z",
     "shell.execute_reply.started": "2021-05-28T19:39:04.599433Z"
    }
   },
   "outputs": [
    {
     "data": {
      "text/html": [
       "<div>\n",
       "<style scoped>\n",
       "    .dataframe tbody tr th:only-of-type {\n",
       "        vertical-align: middle;\n",
       "    }\n",
       "\n",
       "    .dataframe tbody tr th {\n",
       "        vertical-align: top;\n",
       "    }\n",
       "\n",
       "    .dataframe thead th {\n",
       "        text-align: right;\n",
       "    }\n",
       "</style>\n",
       "<table border=\"1\" class=\"dataframe\">\n",
       "  <thead>\n",
       "    <tr style=\"text-align: right;\">\n",
       "      <th></th>\n",
       "      <th>Restaurant_id</th>\n",
       "      <th>Rating</th>\n",
       "    </tr>\n",
       "  </thead>\n",
       "  <tbody>\n",
       "    <tr>\n",
       "      <th>0</th>\n",
       "      <td>id_0</td>\n",
       "      <td>3.0</td>\n",
       "    </tr>\n",
       "    <tr>\n",
       "      <th>1</th>\n",
       "      <td>id_1</td>\n",
       "      <td>4.0</td>\n",
       "    </tr>\n",
       "    <tr>\n",
       "      <th>2</th>\n",
       "      <td>id_2</td>\n",
       "      <td>4.5</td>\n",
       "    </tr>\n",
       "    <tr>\n",
       "      <th>3</th>\n",
       "      <td>id_3</td>\n",
       "      <td>4.5</td>\n",
       "    </tr>\n",
       "    <tr>\n",
       "      <th>4</th>\n",
       "      <td>id_4</td>\n",
       "      <td>4.5</td>\n",
       "    </tr>\n",
       "    <tr>\n",
       "      <th>5</th>\n",
       "      <td>id_5</td>\n",
       "      <td>4.5</td>\n",
       "    </tr>\n",
       "    <tr>\n",
       "      <th>6</th>\n",
       "      <td>id_6</td>\n",
       "      <td>2.5</td>\n",
       "    </tr>\n",
       "    <tr>\n",
       "      <th>7</th>\n",
       "      <td>id_7</td>\n",
       "      <td>3.0</td>\n",
       "    </tr>\n",
       "    <tr>\n",
       "      <th>8</th>\n",
       "      <td>id_8</td>\n",
       "      <td>4.0</td>\n",
       "    </tr>\n",
       "    <tr>\n",
       "      <th>9</th>\n",
       "      <td>id_9</td>\n",
       "      <td>4.5</td>\n",
       "    </tr>\n",
       "  </tbody>\n",
       "</table>\n",
       "</div>"
      ],
      "text/plain": [
       "  Restaurant_id  Rating\n",
       "0          id_0     3.0\n",
       "1          id_1     4.0\n",
       "2          id_2     4.5\n",
       "3          id_3     4.5\n",
       "4          id_4     4.5\n",
       "5          id_5     4.5\n",
       "6          id_6     2.5\n",
       "7          id_7     3.0\n",
       "8          id_8     4.0\n",
       "9          id_9     4.5"
      ]
     },
     "execution_count": 1270,
     "metadata": {},
     "output_type": "execute_result"
    }
   ],
   "source": [
    "sample_submission['Rating'] = np.round(predict_submission * 2) / 2\n",
    "sample_submission.to_csv('submission.csv', index=False)\n",
    "sample_submission.head(10)"
   ]
  },
  {
   "cell_type": "markdown",
   "metadata": {},
   "source": [
    "# Вывод\n",
    "Я улучшила показатель MAE (повысила точность прогнозов, которые делает модель) с помощью более тщательной подготовки данных. При подготовке датасета избавилась от пропущенных значений и нечисловых признаков, а также сгенерировала новые признаки на основе информации, уже содержащейся в данных."
   ]
  },
  {
   "cell_type": "markdown",
   "metadata": {},
   "source": [
    "MAE: 0.174875"
   ]
  }
 ],
 "metadata": {
  "kernelspec": {
   "display_name": "Python 3",
   "language": "python",
   "name": "python3"
  },
  "language_info": {
   "codemirror_mode": {
    "name": "ipython",
    "version": 3
   },
   "file_extension": ".py",
   "mimetype": "text/x-python",
   "name": "python",
   "nbconvert_exporter": "python",
   "pygments_lexer": "ipython3",
   "version": "3.8.5"
  }
 },
 "nbformat": 4,
 "nbformat_minor": 4
}
